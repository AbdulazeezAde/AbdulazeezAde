{
  "nbformat": 4,
  "nbformat_minor": 0,
  "metadata": {
    "colab": {
      "provenance": [],
      "include_colab_link": true
    },
    "kernelspec": {
      "name": "python3",
      "display_name": "Python 3"
    },
    "language_info": {
      "name": "python"
    },
    "accelerator": "TPU",
    "widgets": {
      "application/vnd.jupyter.widget-state+json": {
        "a3a95088c2aa41709ba0e68f2c3ff0a1": {
          "model_module": "@jupyter-widgets/controls",
          "model_name": "HBoxModel",
          "model_module_version": "1.5.0",
          "state": {
            "_dom_classes": [],
            "_model_module": "@jupyter-widgets/controls",
            "_model_module_version": "1.5.0",
            "_model_name": "HBoxModel",
            "_view_count": null,
            "_view_module": "@jupyter-widgets/controls",
            "_view_module_version": "1.5.0",
            "_view_name": "HBoxView",
            "box_style": "",
            "children": [
              "IPY_MODEL_0d81a2f2f511453e9ff5f74b0e7521b7",
              "IPY_MODEL_b237602d08614e30bb2ff7940c62dd40",
              "IPY_MODEL_c048e521e1524949a8bd99f201769efc"
            ],
            "layout": "IPY_MODEL_87dea1d453294a5fbf402fa5fc6765d9"
          }
        },
        "0d81a2f2f511453e9ff5f74b0e7521b7": {
          "model_module": "@jupyter-widgets/controls",
          "model_name": "HTMLModel",
          "model_module_version": "1.5.0",
          "state": {
            "_dom_classes": [],
            "_model_module": "@jupyter-widgets/controls",
            "_model_module_version": "1.5.0",
            "_model_name": "HTMLModel",
            "_view_count": null,
            "_view_module": "@jupyter-widgets/controls",
            "_view_module_version": "1.5.0",
            "_view_name": "HTMLView",
            "description": "",
            "description_tooltip": null,
            "layout": "IPY_MODEL_2027a7f31f8f45beb39921fe1b9e9b79",
            "placeholder": "​",
            "style": "IPY_MODEL_3b6dd11d190049da99608452addbdbf9",
            "value": "tokenizer_config.json: 100%"
          }
        },
        "b237602d08614e30bb2ff7940c62dd40": {
          "model_module": "@jupyter-widgets/controls",
          "model_name": "FloatProgressModel",
          "model_module_version": "1.5.0",
          "state": {
            "_dom_classes": [],
            "_model_module": "@jupyter-widgets/controls",
            "_model_module_version": "1.5.0",
            "_model_name": "FloatProgressModel",
            "_view_count": null,
            "_view_module": "@jupyter-widgets/controls",
            "_view_module_version": "1.5.0",
            "_view_name": "ProgressView",
            "bar_style": "success",
            "description": "",
            "description_tooltip": null,
            "layout": "IPY_MODEL_3d1f7e86653f4692a3d935ff4229b312",
            "max": 28,
            "min": 0,
            "orientation": "horizontal",
            "style": "IPY_MODEL_1b480c5ddcc142ff988a1daa9eeb8434",
            "value": 28
          }
        },
        "c048e521e1524949a8bd99f201769efc": {
          "model_module": "@jupyter-widgets/controls",
          "model_name": "HTMLModel",
          "model_module_version": "1.5.0",
          "state": {
            "_dom_classes": [],
            "_model_module": "@jupyter-widgets/controls",
            "_model_module_version": "1.5.0",
            "_model_name": "HTMLModel",
            "_view_count": null,
            "_view_module": "@jupyter-widgets/controls",
            "_view_module_version": "1.5.0",
            "_view_name": "HTMLView",
            "description": "",
            "description_tooltip": null,
            "layout": "IPY_MODEL_7af9667d7fb84f0abe47590036151639",
            "placeholder": "​",
            "style": "IPY_MODEL_242c0096b4684df0b04f517fe31240bc",
            "value": " 28.0/28.0 [00:00&lt;00:00, 1.70kB/s]"
          }
        },
        "87dea1d453294a5fbf402fa5fc6765d9": {
          "model_module": "@jupyter-widgets/base",
          "model_name": "LayoutModel",
          "model_module_version": "1.2.0",
          "state": {
            "_model_module": "@jupyter-widgets/base",
            "_model_module_version": "1.2.0",
            "_model_name": "LayoutModel",
            "_view_count": null,
            "_view_module": "@jupyter-widgets/base",
            "_view_module_version": "1.2.0",
            "_view_name": "LayoutView",
            "align_content": null,
            "align_items": null,
            "align_self": null,
            "border": null,
            "bottom": null,
            "display": null,
            "flex": null,
            "flex_flow": null,
            "grid_area": null,
            "grid_auto_columns": null,
            "grid_auto_flow": null,
            "grid_auto_rows": null,
            "grid_column": null,
            "grid_gap": null,
            "grid_row": null,
            "grid_template_areas": null,
            "grid_template_columns": null,
            "grid_template_rows": null,
            "height": null,
            "justify_content": null,
            "justify_items": null,
            "left": null,
            "margin": null,
            "max_height": null,
            "max_width": null,
            "min_height": null,
            "min_width": null,
            "object_fit": null,
            "object_position": null,
            "order": null,
            "overflow": null,
            "overflow_x": null,
            "overflow_y": null,
            "padding": null,
            "right": null,
            "top": null,
            "visibility": null,
            "width": null
          }
        },
        "2027a7f31f8f45beb39921fe1b9e9b79": {
          "model_module": "@jupyter-widgets/base",
          "model_name": "LayoutModel",
          "model_module_version": "1.2.0",
          "state": {
            "_model_module": "@jupyter-widgets/base",
            "_model_module_version": "1.2.0",
            "_model_name": "LayoutModel",
            "_view_count": null,
            "_view_module": "@jupyter-widgets/base",
            "_view_module_version": "1.2.0",
            "_view_name": "LayoutView",
            "align_content": null,
            "align_items": null,
            "align_self": null,
            "border": null,
            "bottom": null,
            "display": null,
            "flex": null,
            "flex_flow": null,
            "grid_area": null,
            "grid_auto_columns": null,
            "grid_auto_flow": null,
            "grid_auto_rows": null,
            "grid_column": null,
            "grid_gap": null,
            "grid_row": null,
            "grid_template_areas": null,
            "grid_template_columns": null,
            "grid_template_rows": null,
            "height": null,
            "justify_content": null,
            "justify_items": null,
            "left": null,
            "margin": null,
            "max_height": null,
            "max_width": null,
            "min_height": null,
            "min_width": null,
            "object_fit": null,
            "object_position": null,
            "order": null,
            "overflow": null,
            "overflow_x": null,
            "overflow_y": null,
            "padding": null,
            "right": null,
            "top": null,
            "visibility": null,
            "width": null
          }
        },
        "3b6dd11d190049da99608452addbdbf9": {
          "model_module": "@jupyter-widgets/controls",
          "model_name": "DescriptionStyleModel",
          "model_module_version": "1.5.0",
          "state": {
            "_model_module": "@jupyter-widgets/controls",
            "_model_module_version": "1.5.0",
            "_model_name": "DescriptionStyleModel",
            "_view_count": null,
            "_view_module": "@jupyter-widgets/base",
            "_view_module_version": "1.2.0",
            "_view_name": "StyleView",
            "description_width": ""
          }
        },
        "3d1f7e86653f4692a3d935ff4229b312": {
          "model_module": "@jupyter-widgets/base",
          "model_name": "LayoutModel",
          "model_module_version": "1.2.0",
          "state": {
            "_model_module": "@jupyter-widgets/base",
            "_model_module_version": "1.2.0",
            "_model_name": "LayoutModel",
            "_view_count": null,
            "_view_module": "@jupyter-widgets/base",
            "_view_module_version": "1.2.0",
            "_view_name": "LayoutView",
            "align_content": null,
            "align_items": null,
            "align_self": null,
            "border": null,
            "bottom": null,
            "display": null,
            "flex": null,
            "flex_flow": null,
            "grid_area": null,
            "grid_auto_columns": null,
            "grid_auto_flow": null,
            "grid_auto_rows": null,
            "grid_column": null,
            "grid_gap": null,
            "grid_row": null,
            "grid_template_areas": null,
            "grid_template_columns": null,
            "grid_template_rows": null,
            "height": null,
            "justify_content": null,
            "justify_items": null,
            "left": null,
            "margin": null,
            "max_height": null,
            "max_width": null,
            "min_height": null,
            "min_width": null,
            "object_fit": null,
            "object_position": null,
            "order": null,
            "overflow": null,
            "overflow_x": null,
            "overflow_y": null,
            "padding": null,
            "right": null,
            "top": null,
            "visibility": null,
            "width": null
          }
        },
        "1b480c5ddcc142ff988a1daa9eeb8434": {
          "model_module": "@jupyter-widgets/controls",
          "model_name": "ProgressStyleModel",
          "model_module_version": "1.5.0",
          "state": {
            "_model_module": "@jupyter-widgets/controls",
            "_model_module_version": "1.5.0",
            "_model_name": "ProgressStyleModel",
            "_view_count": null,
            "_view_module": "@jupyter-widgets/base",
            "_view_module_version": "1.2.0",
            "_view_name": "StyleView",
            "bar_color": null,
            "description_width": ""
          }
        },
        "7af9667d7fb84f0abe47590036151639": {
          "model_module": "@jupyter-widgets/base",
          "model_name": "LayoutModel",
          "model_module_version": "1.2.0",
          "state": {
            "_model_module": "@jupyter-widgets/base",
            "_model_module_version": "1.2.0",
            "_model_name": "LayoutModel",
            "_view_count": null,
            "_view_module": "@jupyter-widgets/base",
            "_view_module_version": "1.2.0",
            "_view_name": "LayoutView",
            "align_content": null,
            "align_items": null,
            "align_self": null,
            "border": null,
            "bottom": null,
            "display": null,
            "flex": null,
            "flex_flow": null,
            "grid_area": null,
            "grid_auto_columns": null,
            "grid_auto_flow": null,
            "grid_auto_rows": null,
            "grid_column": null,
            "grid_gap": null,
            "grid_row": null,
            "grid_template_areas": null,
            "grid_template_columns": null,
            "grid_template_rows": null,
            "height": null,
            "justify_content": null,
            "justify_items": null,
            "left": null,
            "margin": null,
            "max_height": null,
            "max_width": null,
            "min_height": null,
            "min_width": null,
            "object_fit": null,
            "object_position": null,
            "order": null,
            "overflow": null,
            "overflow_x": null,
            "overflow_y": null,
            "padding": null,
            "right": null,
            "top": null,
            "visibility": null,
            "width": null
          }
        },
        "242c0096b4684df0b04f517fe31240bc": {
          "model_module": "@jupyter-widgets/controls",
          "model_name": "DescriptionStyleModel",
          "model_module_version": "1.5.0",
          "state": {
            "_model_module": "@jupyter-widgets/controls",
            "_model_module_version": "1.5.0",
            "_model_name": "DescriptionStyleModel",
            "_view_count": null,
            "_view_module": "@jupyter-widgets/base",
            "_view_module_version": "1.2.0",
            "_view_name": "StyleView",
            "description_width": ""
          }
        },
        "9a7785fe19be43eda23001d9ac59bec4": {
          "model_module": "@jupyter-widgets/controls",
          "model_name": "HBoxModel",
          "model_module_version": "1.5.0",
          "state": {
            "_dom_classes": [],
            "_model_module": "@jupyter-widgets/controls",
            "_model_module_version": "1.5.0",
            "_model_name": "HBoxModel",
            "_view_count": null,
            "_view_module": "@jupyter-widgets/controls",
            "_view_module_version": "1.5.0",
            "_view_name": "HBoxView",
            "box_style": "",
            "children": [
              "IPY_MODEL_4dffe11323014192aef7a1f774c26f09",
              "IPY_MODEL_a5397e7fff7b41bfa312a85bf1fe8d3c",
              "IPY_MODEL_803b17f4a2cc4b849df7d4f24d725207"
            ],
            "layout": "IPY_MODEL_9645d291fef841558fc851caff8e9248"
          }
        },
        "4dffe11323014192aef7a1f774c26f09": {
          "model_module": "@jupyter-widgets/controls",
          "model_name": "HTMLModel",
          "model_module_version": "1.5.0",
          "state": {
            "_dom_classes": [],
            "_model_module": "@jupyter-widgets/controls",
            "_model_module_version": "1.5.0",
            "_model_name": "HTMLModel",
            "_view_count": null,
            "_view_module": "@jupyter-widgets/controls",
            "_view_module_version": "1.5.0",
            "_view_name": "HTMLView",
            "description": "",
            "description_tooltip": null,
            "layout": "IPY_MODEL_a96dcab861ac420a9a483f330d411a28",
            "placeholder": "​",
            "style": "IPY_MODEL_cbb84ff5a24b411684eb15de96665666",
            "value": "vocab.txt: 100%"
          }
        },
        "a5397e7fff7b41bfa312a85bf1fe8d3c": {
          "model_module": "@jupyter-widgets/controls",
          "model_name": "FloatProgressModel",
          "model_module_version": "1.5.0",
          "state": {
            "_dom_classes": [],
            "_model_module": "@jupyter-widgets/controls",
            "_model_module_version": "1.5.0",
            "_model_name": "FloatProgressModel",
            "_view_count": null,
            "_view_module": "@jupyter-widgets/controls",
            "_view_module_version": "1.5.0",
            "_view_name": "ProgressView",
            "bar_style": "success",
            "description": "",
            "description_tooltip": null,
            "layout": "IPY_MODEL_8df0152cece042009ce8cff209282d60",
            "max": 231508,
            "min": 0,
            "orientation": "horizontal",
            "style": "IPY_MODEL_e55eba9aac1147ed81bc4a0f8ed18e5f",
            "value": 231508
          }
        },
        "803b17f4a2cc4b849df7d4f24d725207": {
          "model_module": "@jupyter-widgets/controls",
          "model_name": "HTMLModel",
          "model_module_version": "1.5.0",
          "state": {
            "_dom_classes": [],
            "_model_module": "@jupyter-widgets/controls",
            "_model_module_version": "1.5.0",
            "_model_name": "HTMLModel",
            "_view_count": null,
            "_view_module": "@jupyter-widgets/controls",
            "_view_module_version": "1.5.0",
            "_view_name": "HTMLView",
            "description": "",
            "description_tooltip": null,
            "layout": "IPY_MODEL_1a76478b6f7f47418ec53e03a4055fe2",
            "placeholder": "​",
            "style": "IPY_MODEL_3f7047b76efa465fbcf95cdf6cd635ee",
            "value": " 232k/232k [00:00&lt;00:00, 1.36MB/s]"
          }
        },
        "9645d291fef841558fc851caff8e9248": {
          "model_module": "@jupyter-widgets/base",
          "model_name": "LayoutModel",
          "model_module_version": "1.2.0",
          "state": {
            "_model_module": "@jupyter-widgets/base",
            "_model_module_version": "1.2.0",
            "_model_name": "LayoutModel",
            "_view_count": null,
            "_view_module": "@jupyter-widgets/base",
            "_view_module_version": "1.2.0",
            "_view_name": "LayoutView",
            "align_content": null,
            "align_items": null,
            "align_self": null,
            "border": null,
            "bottom": null,
            "display": null,
            "flex": null,
            "flex_flow": null,
            "grid_area": null,
            "grid_auto_columns": null,
            "grid_auto_flow": null,
            "grid_auto_rows": null,
            "grid_column": null,
            "grid_gap": null,
            "grid_row": null,
            "grid_template_areas": null,
            "grid_template_columns": null,
            "grid_template_rows": null,
            "height": null,
            "justify_content": null,
            "justify_items": null,
            "left": null,
            "margin": null,
            "max_height": null,
            "max_width": null,
            "min_height": null,
            "min_width": null,
            "object_fit": null,
            "object_position": null,
            "order": null,
            "overflow": null,
            "overflow_x": null,
            "overflow_y": null,
            "padding": null,
            "right": null,
            "top": null,
            "visibility": null,
            "width": null
          }
        },
        "a96dcab861ac420a9a483f330d411a28": {
          "model_module": "@jupyter-widgets/base",
          "model_name": "LayoutModel",
          "model_module_version": "1.2.0",
          "state": {
            "_model_module": "@jupyter-widgets/base",
            "_model_module_version": "1.2.0",
            "_model_name": "LayoutModel",
            "_view_count": null,
            "_view_module": "@jupyter-widgets/base",
            "_view_module_version": "1.2.0",
            "_view_name": "LayoutView",
            "align_content": null,
            "align_items": null,
            "align_self": null,
            "border": null,
            "bottom": null,
            "display": null,
            "flex": null,
            "flex_flow": null,
            "grid_area": null,
            "grid_auto_columns": null,
            "grid_auto_flow": null,
            "grid_auto_rows": null,
            "grid_column": null,
            "grid_gap": null,
            "grid_row": null,
            "grid_template_areas": null,
            "grid_template_columns": null,
            "grid_template_rows": null,
            "height": null,
            "justify_content": null,
            "justify_items": null,
            "left": null,
            "margin": null,
            "max_height": null,
            "max_width": null,
            "min_height": null,
            "min_width": null,
            "object_fit": null,
            "object_position": null,
            "order": null,
            "overflow": null,
            "overflow_x": null,
            "overflow_y": null,
            "padding": null,
            "right": null,
            "top": null,
            "visibility": null,
            "width": null
          }
        },
        "cbb84ff5a24b411684eb15de96665666": {
          "model_module": "@jupyter-widgets/controls",
          "model_name": "DescriptionStyleModel",
          "model_module_version": "1.5.0",
          "state": {
            "_model_module": "@jupyter-widgets/controls",
            "_model_module_version": "1.5.0",
            "_model_name": "DescriptionStyleModel",
            "_view_count": null,
            "_view_module": "@jupyter-widgets/base",
            "_view_module_version": "1.2.0",
            "_view_name": "StyleView",
            "description_width": ""
          }
        },
        "8df0152cece042009ce8cff209282d60": {
          "model_module": "@jupyter-widgets/base",
          "model_name": "LayoutModel",
          "model_module_version": "1.2.0",
          "state": {
            "_model_module": "@jupyter-widgets/base",
            "_model_module_version": "1.2.0",
            "_model_name": "LayoutModel",
            "_view_count": null,
            "_view_module": "@jupyter-widgets/base",
            "_view_module_version": "1.2.0",
            "_view_name": "LayoutView",
            "align_content": null,
            "align_items": null,
            "align_self": null,
            "border": null,
            "bottom": null,
            "display": null,
            "flex": null,
            "flex_flow": null,
            "grid_area": null,
            "grid_auto_columns": null,
            "grid_auto_flow": null,
            "grid_auto_rows": null,
            "grid_column": null,
            "grid_gap": null,
            "grid_row": null,
            "grid_template_areas": null,
            "grid_template_columns": null,
            "grid_template_rows": null,
            "height": null,
            "justify_content": null,
            "justify_items": null,
            "left": null,
            "margin": null,
            "max_height": null,
            "max_width": null,
            "min_height": null,
            "min_width": null,
            "object_fit": null,
            "object_position": null,
            "order": null,
            "overflow": null,
            "overflow_x": null,
            "overflow_y": null,
            "padding": null,
            "right": null,
            "top": null,
            "visibility": null,
            "width": null
          }
        },
        "e55eba9aac1147ed81bc4a0f8ed18e5f": {
          "model_module": "@jupyter-widgets/controls",
          "model_name": "ProgressStyleModel",
          "model_module_version": "1.5.0",
          "state": {
            "_model_module": "@jupyter-widgets/controls",
            "_model_module_version": "1.5.0",
            "_model_name": "ProgressStyleModel",
            "_view_count": null,
            "_view_module": "@jupyter-widgets/base",
            "_view_module_version": "1.2.0",
            "_view_name": "StyleView",
            "bar_color": null,
            "description_width": ""
          }
        },
        "1a76478b6f7f47418ec53e03a4055fe2": {
          "model_module": "@jupyter-widgets/base",
          "model_name": "LayoutModel",
          "model_module_version": "1.2.0",
          "state": {
            "_model_module": "@jupyter-widgets/base",
            "_model_module_version": "1.2.0",
            "_model_name": "LayoutModel",
            "_view_count": null,
            "_view_module": "@jupyter-widgets/base",
            "_view_module_version": "1.2.0",
            "_view_name": "LayoutView",
            "align_content": null,
            "align_items": null,
            "align_self": null,
            "border": null,
            "bottom": null,
            "display": null,
            "flex": null,
            "flex_flow": null,
            "grid_area": null,
            "grid_auto_columns": null,
            "grid_auto_flow": null,
            "grid_auto_rows": null,
            "grid_column": null,
            "grid_gap": null,
            "grid_row": null,
            "grid_template_areas": null,
            "grid_template_columns": null,
            "grid_template_rows": null,
            "height": null,
            "justify_content": null,
            "justify_items": null,
            "left": null,
            "margin": null,
            "max_height": null,
            "max_width": null,
            "min_height": null,
            "min_width": null,
            "object_fit": null,
            "object_position": null,
            "order": null,
            "overflow": null,
            "overflow_x": null,
            "overflow_y": null,
            "padding": null,
            "right": null,
            "top": null,
            "visibility": null,
            "width": null
          }
        },
        "3f7047b76efa465fbcf95cdf6cd635ee": {
          "model_module": "@jupyter-widgets/controls",
          "model_name": "DescriptionStyleModel",
          "model_module_version": "1.5.0",
          "state": {
            "_model_module": "@jupyter-widgets/controls",
            "_model_module_version": "1.5.0",
            "_model_name": "DescriptionStyleModel",
            "_view_count": null,
            "_view_module": "@jupyter-widgets/base",
            "_view_module_version": "1.2.0",
            "_view_name": "StyleView",
            "description_width": ""
          }
        },
        "90c7cc027ce6477d8f98053d874fc74b": {
          "model_module": "@jupyter-widgets/controls",
          "model_name": "HBoxModel",
          "model_module_version": "1.5.0",
          "state": {
            "_dom_classes": [],
            "_model_module": "@jupyter-widgets/controls",
            "_model_module_version": "1.5.0",
            "_model_name": "HBoxModel",
            "_view_count": null,
            "_view_module": "@jupyter-widgets/controls",
            "_view_module_version": "1.5.0",
            "_view_name": "HBoxView",
            "box_style": "",
            "children": [
              "IPY_MODEL_860749d89f134275b80f9474bc45d0df",
              "IPY_MODEL_85ad0bc6eeaf4289b2578e370c18c38a",
              "IPY_MODEL_bd843f92ab1949728754ea2f0b225bd5"
            ],
            "layout": "IPY_MODEL_86169e340daa4391b778edddafdb826c"
          }
        },
        "860749d89f134275b80f9474bc45d0df": {
          "model_module": "@jupyter-widgets/controls",
          "model_name": "HTMLModel",
          "model_module_version": "1.5.0",
          "state": {
            "_dom_classes": [],
            "_model_module": "@jupyter-widgets/controls",
            "_model_module_version": "1.5.0",
            "_model_name": "HTMLModel",
            "_view_count": null,
            "_view_module": "@jupyter-widgets/controls",
            "_view_module_version": "1.5.0",
            "_view_name": "HTMLView",
            "description": "",
            "description_tooltip": null,
            "layout": "IPY_MODEL_0fc107b2af8f4dc39fba0dc51516df37",
            "placeholder": "​",
            "style": "IPY_MODEL_4e0c2d9c878e4ea5bf5fb18d30568b4e",
            "value": "tokenizer.json: 100%"
          }
        },
        "85ad0bc6eeaf4289b2578e370c18c38a": {
          "model_module": "@jupyter-widgets/controls",
          "model_name": "FloatProgressModel",
          "model_module_version": "1.5.0",
          "state": {
            "_dom_classes": [],
            "_model_module": "@jupyter-widgets/controls",
            "_model_module_version": "1.5.0",
            "_model_name": "FloatProgressModel",
            "_view_count": null,
            "_view_module": "@jupyter-widgets/controls",
            "_view_module_version": "1.5.0",
            "_view_name": "ProgressView",
            "bar_style": "success",
            "description": "",
            "description_tooltip": null,
            "layout": "IPY_MODEL_70602783f72f487bb8ffd65c919f7bef",
            "max": 466062,
            "min": 0,
            "orientation": "horizontal",
            "style": "IPY_MODEL_5f4d798da8674e41b20cba3ae21b352a",
            "value": 466062
          }
        },
        "bd843f92ab1949728754ea2f0b225bd5": {
          "model_module": "@jupyter-widgets/controls",
          "model_name": "HTMLModel",
          "model_module_version": "1.5.0",
          "state": {
            "_dom_classes": [],
            "_model_module": "@jupyter-widgets/controls",
            "_model_module_version": "1.5.0",
            "_model_name": "HTMLModel",
            "_view_count": null,
            "_view_module": "@jupyter-widgets/controls",
            "_view_module_version": "1.5.0",
            "_view_name": "HTMLView",
            "description": "",
            "description_tooltip": null,
            "layout": "IPY_MODEL_b91bafa9e5c9439fb189778471628c59",
            "placeholder": "​",
            "style": "IPY_MODEL_213219f97faf49e384c3a664468914ea",
            "value": " 466k/466k [00:00&lt;00:00, 1.90MB/s]"
          }
        },
        "86169e340daa4391b778edddafdb826c": {
          "model_module": "@jupyter-widgets/base",
          "model_name": "LayoutModel",
          "model_module_version": "1.2.0",
          "state": {
            "_model_module": "@jupyter-widgets/base",
            "_model_module_version": "1.2.0",
            "_model_name": "LayoutModel",
            "_view_count": null,
            "_view_module": "@jupyter-widgets/base",
            "_view_module_version": "1.2.0",
            "_view_name": "LayoutView",
            "align_content": null,
            "align_items": null,
            "align_self": null,
            "border": null,
            "bottom": null,
            "display": null,
            "flex": null,
            "flex_flow": null,
            "grid_area": null,
            "grid_auto_columns": null,
            "grid_auto_flow": null,
            "grid_auto_rows": null,
            "grid_column": null,
            "grid_gap": null,
            "grid_row": null,
            "grid_template_areas": null,
            "grid_template_columns": null,
            "grid_template_rows": null,
            "height": null,
            "justify_content": null,
            "justify_items": null,
            "left": null,
            "margin": null,
            "max_height": null,
            "max_width": null,
            "min_height": null,
            "min_width": null,
            "object_fit": null,
            "object_position": null,
            "order": null,
            "overflow": null,
            "overflow_x": null,
            "overflow_y": null,
            "padding": null,
            "right": null,
            "top": null,
            "visibility": null,
            "width": null
          }
        },
        "0fc107b2af8f4dc39fba0dc51516df37": {
          "model_module": "@jupyter-widgets/base",
          "model_name": "LayoutModel",
          "model_module_version": "1.2.0",
          "state": {
            "_model_module": "@jupyter-widgets/base",
            "_model_module_version": "1.2.0",
            "_model_name": "LayoutModel",
            "_view_count": null,
            "_view_module": "@jupyter-widgets/base",
            "_view_module_version": "1.2.0",
            "_view_name": "LayoutView",
            "align_content": null,
            "align_items": null,
            "align_self": null,
            "border": null,
            "bottom": null,
            "display": null,
            "flex": null,
            "flex_flow": null,
            "grid_area": null,
            "grid_auto_columns": null,
            "grid_auto_flow": null,
            "grid_auto_rows": null,
            "grid_column": null,
            "grid_gap": null,
            "grid_row": null,
            "grid_template_areas": null,
            "grid_template_columns": null,
            "grid_template_rows": null,
            "height": null,
            "justify_content": null,
            "justify_items": null,
            "left": null,
            "margin": null,
            "max_height": null,
            "max_width": null,
            "min_height": null,
            "min_width": null,
            "object_fit": null,
            "object_position": null,
            "order": null,
            "overflow": null,
            "overflow_x": null,
            "overflow_y": null,
            "padding": null,
            "right": null,
            "top": null,
            "visibility": null,
            "width": null
          }
        },
        "4e0c2d9c878e4ea5bf5fb18d30568b4e": {
          "model_module": "@jupyter-widgets/controls",
          "model_name": "DescriptionStyleModel",
          "model_module_version": "1.5.0",
          "state": {
            "_model_module": "@jupyter-widgets/controls",
            "_model_module_version": "1.5.0",
            "_model_name": "DescriptionStyleModel",
            "_view_count": null,
            "_view_module": "@jupyter-widgets/base",
            "_view_module_version": "1.2.0",
            "_view_name": "StyleView",
            "description_width": ""
          }
        },
        "70602783f72f487bb8ffd65c919f7bef": {
          "model_module": "@jupyter-widgets/base",
          "model_name": "LayoutModel",
          "model_module_version": "1.2.0",
          "state": {
            "_model_module": "@jupyter-widgets/base",
            "_model_module_version": "1.2.0",
            "_model_name": "LayoutModel",
            "_view_count": null,
            "_view_module": "@jupyter-widgets/base",
            "_view_module_version": "1.2.0",
            "_view_name": "LayoutView",
            "align_content": null,
            "align_items": null,
            "align_self": null,
            "border": null,
            "bottom": null,
            "display": null,
            "flex": null,
            "flex_flow": null,
            "grid_area": null,
            "grid_auto_columns": null,
            "grid_auto_flow": null,
            "grid_auto_rows": null,
            "grid_column": null,
            "grid_gap": null,
            "grid_row": null,
            "grid_template_areas": null,
            "grid_template_columns": null,
            "grid_template_rows": null,
            "height": null,
            "justify_content": null,
            "justify_items": null,
            "left": null,
            "margin": null,
            "max_height": null,
            "max_width": null,
            "min_height": null,
            "min_width": null,
            "object_fit": null,
            "object_position": null,
            "order": null,
            "overflow": null,
            "overflow_x": null,
            "overflow_y": null,
            "padding": null,
            "right": null,
            "top": null,
            "visibility": null,
            "width": null
          }
        },
        "5f4d798da8674e41b20cba3ae21b352a": {
          "model_module": "@jupyter-widgets/controls",
          "model_name": "ProgressStyleModel",
          "model_module_version": "1.5.0",
          "state": {
            "_model_module": "@jupyter-widgets/controls",
            "_model_module_version": "1.5.0",
            "_model_name": "ProgressStyleModel",
            "_view_count": null,
            "_view_module": "@jupyter-widgets/base",
            "_view_module_version": "1.2.0",
            "_view_name": "StyleView",
            "bar_color": null,
            "description_width": ""
          }
        },
        "b91bafa9e5c9439fb189778471628c59": {
          "model_module": "@jupyter-widgets/base",
          "model_name": "LayoutModel",
          "model_module_version": "1.2.0",
          "state": {
            "_model_module": "@jupyter-widgets/base",
            "_model_module_version": "1.2.0",
            "_model_name": "LayoutModel",
            "_view_count": null,
            "_view_module": "@jupyter-widgets/base",
            "_view_module_version": "1.2.0",
            "_view_name": "LayoutView",
            "align_content": null,
            "align_items": null,
            "align_self": null,
            "border": null,
            "bottom": null,
            "display": null,
            "flex": null,
            "flex_flow": null,
            "grid_area": null,
            "grid_auto_columns": null,
            "grid_auto_flow": null,
            "grid_auto_rows": null,
            "grid_column": null,
            "grid_gap": null,
            "grid_row": null,
            "grid_template_areas": null,
            "grid_template_columns": null,
            "grid_template_rows": null,
            "height": null,
            "justify_content": null,
            "justify_items": null,
            "left": null,
            "margin": null,
            "max_height": null,
            "max_width": null,
            "min_height": null,
            "min_width": null,
            "object_fit": null,
            "object_position": null,
            "order": null,
            "overflow": null,
            "overflow_x": null,
            "overflow_y": null,
            "padding": null,
            "right": null,
            "top": null,
            "visibility": null,
            "width": null
          }
        },
        "213219f97faf49e384c3a664468914ea": {
          "model_module": "@jupyter-widgets/controls",
          "model_name": "DescriptionStyleModel",
          "model_module_version": "1.5.0",
          "state": {
            "_model_module": "@jupyter-widgets/controls",
            "_model_module_version": "1.5.0",
            "_model_name": "DescriptionStyleModel",
            "_view_count": null,
            "_view_module": "@jupyter-widgets/base",
            "_view_module_version": "1.2.0",
            "_view_name": "StyleView",
            "description_width": ""
          }
        },
        "a13b62aa06ac4e4cb2c1f2fd9eab9766": {
          "model_module": "@jupyter-widgets/controls",
          "model_name": "HBoxModel",
          "model_module_version": "1.5.0",
          "state": {
            "_dom_classes": [],
            "_model_module": "@jupyter-widgets/controls",
            "_model_module_version": "1.5.0",
            "_model_name": "HBoxModel",
            "_view_count": null,
            "_view_module": "@jupyter-widgets/controls",
            "_view_module_version": "1.5.0",
            "_view_name": "HBoxView",
            "box_style": "",
            "children": [
              "IPY_MODEL_59adce64212743b0b6350a8eb6dc9cfb",
              "IPY_MODEL_62fc91f3865f45f998c00b3f46a81bbc",
              "IPY_MODEL_723b08e4c42e4f27bf0b6a682867162b"
            ],
            "layout": "IPY_MODEL_edf14f7f67994651920b2c60be3d436a"
          }
        },
        "59adce64212743b0b6350a8eb6dc9cfb": {
          "model_module": "@jupyter-widgets/controls",
          "model_name": "HTMLModel",
          "model_module_version": "1.5.0",
          "state": {
            "_dom_classes": [],
            "_model_module": "@jupyter-widgets/controls",
            "_model_module_version": "1.5.0",
            "_model_name": "HTMLModel",
            "_view_count": null,
            "_view_module": "@jupyter-widgets/controls",
            "_view_module_version": "1.5.0",
            "_view_name": "HTMLView",
            "description": "",
            "description_tooltip": null,
            "layout": "IPY_MODEL_0b850c54e72549858724de0797a0d885",
            "placeholder": "​",
            "style": "IPY_MODEL_0aea14488a9848f3814f51a5fedb0512",
            "value": "config.json: 100%"
          }
        },
        "62fc91f3865f45f998c00b3f46a81bbc": {
          "model_module": "@jupyter-widgets/controls",
          "model_name": "FloatProgressModel",
          "model_module_version": "1.5.0",
          "state": {
            "_dom_classes": [],
            "_model_module": "@jupyter-widgets/controls",
            "_model_module_version": "1.5.0",
            "_model_name": "FloatProgressModel",
            "_view_count": null,
            "_view_module": "@jupyter-widgets/controls",
            "_view_module_version": "1.5.0",
            "_view_name": "ProgressView",
            "bar_style": "success",
            "description": "",
            "description_tooltip": null,
            "layout": "IPY_MODEL_fa2e427d1ecc47a4a407823e23b529c6",
            "max": 570,
            "min": 0,
            "orientation": "horizontal",
            "style": "IPY_MODEL_89f5d3fef0f045c2bdb85309857848ea",
            "value": 570
          }
        },
        "723b08e4c42e4f27bf0b6a682867162b": {
          "model_module": "@jupyter-widgets/controls",
          "model_name": "HTMLModel",
          "model_module_version": "1.5.0",
          "state": {
            "_dom_classes": [],
            "_model_module": "@jupyter-widgets/controls",
            "_model_module_version": "1.5.0",
            "_model_name": "HTMLModel",
            "_view_count": null,
            "_view_module": "@jupyter-widgets/controls",
            "_view_module_version": "1.5.0",
            "_view_name": "HTMLView",
            "description": "",
            "description_tooltip": null,
            "layout": "IPY_MODEL_0e18a3cdedd84da3941792eb6f85f7e3",
            "placeholder": "​",
            "style": "IPY_MODEL_26e99d6d29fb46c5a0bc7ab24085c2f7",
            "value": " 570/570 [00:00&lt;00:00, 22.4kB/s]"
          }
        },
        "edf14f7f67994651920b2c60be3d436a": {
          "model_module": "@jupyter-widgets/base",
          "model_name": "LayoutModel",
          "model_module_version": "1.2.0",
          "state": {
            "_model_module": "@jupyter-widgets/base",
            "_model_module_version": "1.2.0",
            "_model_name": "LayoutModel",
            "_view_count": null,
            "_view_module": "@jupyter-widgets/base",
            "_view_module_version": "1.2.0",
            "_view_name": "LayoutView",
            "align_content": null,
            "align_items": null,
            "align_self": null,
            "border": null,
            "bottom": null,
            "display": null,
            "flex": null,
            "flex_flow": null,
            "grid_area": null,
            "grid_auto_columns": null,
            "grid_auto_flow": null,
            "grid_auto_rows": null,
            "grid_column": null,
            "grid_gap": null,
            "grid_row": null,
            "grid_template_areas": null,
            "grid_template_columns": null,
            "grid_template_rows": null,
            "height": null,
            "justify_content": null,
            "justify_items": null,
            "left": null,
            "margin": null,
            "max_height": null,
            "max_width": null,
            "min_height": null,
            "min_width": null,
            "object_fit": null,
            "object_position": null,
            "order": null,
            "overflow": null,
            "overflow_x": null,
            "overflow_y": null,
            "padding": null,
            "right": null,
            "top": null,
            "visibility": null,
            "width": null
          }
        },
        "0b850c54e72549858724de0797a0d885": {
          "model_module": "@jupyter-widgets/base",
          "model_name": "LayoutModel",
          "model_module_version": "1.2.0",
          "state": {
            "_model_module": "@jupyter-widgets/base",
            "_model_module_version": "1.2.0",
            "_model_name": "LayoutModel",
            "_view_count": null,
            "_view_module": "@jupyter-widgets/base",
            "_view_module_version": "1.2.0",
            "_view_name": "LayoutView",
            "align_content": null,
            "align_items": null,
            "align_self": null,
            "border": null,
            "bottom": null,
            "display": null,
            "flex": null,
            "flex_flow": null,
            "grid_area": null,
            "grid_auto_columns": null,
            "grid_auto_flow": null,
            "grid_auto_rows": null,
            "grid_column": null,
            "grid_gap": null,
            "grid_row": null,
            "grid_template_areas": null,
            "grid_template_columns": null,
            "grid_template_rows": null,
            "height": null,
            "justify_content": null,
            "justify_items": null,
            "left": null,
            "margin": null,
            "max_height": null,
            "max_width": null,
            "min_height": null,
            "min_width": null,
            "object_fit": null,
            "object_position": null,
            "order": null,
            "overflow": null,
            "overflow_x": null,
            "overflow_y": null,
            "padding": null,
            "right": null,
            "top": null,
            "visibility": null,
            "width": null
          }
        },
        "0aea14488a9848f3814f51a5fedb0512": {
          "model_module": "@jupyter-widgets/controls",
          "model_name": "DescriptionStyleModel",
          "model_module_version": "1.5.0",
          "state": {
            "_model_module": "@jupyter-widgets/controls",
            "_model_module_version": "1.5.0",
            "_model_name": "DescriptionStyleModel",
            "_view_count": null,
            "_view_module": "@jupyter-widgets/base",
            "_view_module_version": "1.2.0",
            "_view_name": "StyleView",
            "description_width": ""
          }
        },
        "fa2e427d1ecc47a4a407823e23b529c6": {
          "model_module": "@jupyter-widgets/base",
          "model_name": "LayoutModel",
          "model_module_version": "1.2.0",
          "state": {
            "_model_module": "@jupyter-widgets/base",
            "_model_module_version": "1.2.0",
            "_model_name": "LayoutModel",
            "_view_count": null,
            "_view_module": "@jupyter-widgets/base",
            "_view_module_version": "1.2.0",
            "_view_name": "LayoutView",
            "align_content": null,
            "align_items": null,
            "align_self": null,
            "border": null,
            "bottom": null,
            "display": null,
            "flex": null,
            "flex_flow": null,
            "grid_area": null,
            "grid_auto_columns": null,
            "grid_auto_flow": null,
            "grid_auto_rows": null,
            "grid_column": null,
            "grid_gap": null,
            "grid_row": null,
            "grid_template_areas": null,
            "grid_template_columns": null,
            "grid_template_rows": null,
            "height": null,
            "justify_content": null,
            "justify_items": null,
            "left": null,
            "margin": null,
            "max_height": null,
            "max_width": null,
            "min_height": null,
            "min_width": null,
            "object_fit": null,
            "object_position": null,
            "order": null,
            "overflow": null,
            "overflow_x": null,
            "overflow_y": null,
            "padding": null,
            "right": null,
            "top": null,
            "visibility": null,
            "width": null
          }
        },
        "89f5d3fef0f045c2bdb85309857848ea": {
          "model_module": "@jupyter-widgets/controls",
          "model_name": "ProgressStyleModel",
          "model_module_version": "1.5.0",
          "state": {
            "_model_module": "@jupyter-widgets/controls",
            "_model_module_version": "1.5.0",
            "_model_name": "ProgressStyleModel",
            "_view_count": null,
            "_view_module": "@jupyter-widgets/base",
            "_view_module_version": "1.2.0",
            "_view_name": "StyleView",
            "bar_color": null,
            "description_width": ""
          }
        },
        "0e18a3cdedd84da3941792eb6f85f7e3": {
          "model_module": "@jupyter-widgets/base",
          "model_name": "LayoutModel",
          "model_module_version": "1.2.0",
          "state": {
            "_model_module": "@jupyter-widgets/base",
            "_model_module_version": "1.2.0",
            "_model_name": "LayoutModel",
            "_view_count": null,
            "_view_module": "@jupyter-widgets/base",
            "_view_module_version": "1.2.0",
            "_view_name": "LayoutView",
            "align_content": null,
            "align_items": null,
            "align_self": null,
            "border": null,
            "bottom": null,
            "display": null,
            "flex": null,
            "flex_flow": null,
            "grid_area": null,
            "grid_auto_columns": null,
            "grid_auto_flow": null,
            "grid_auto_rows": null,
            "grid_column": null,
            "grid_gap": null,
            "grid_row": null,
            "grid_template_areas": null,
            "grid_template_columns": null,
            "grid_template_rows": null,
            "height": null,
            "justify_content": null,
            "justify_items": null,
            "left": null,
            "margin": null,
            "max_height": null,
            "max_width": null,
            "min_height": null,
            "min_width": null,
            "object_fit": null,
            "object_position": null,
            "order": null,
            "overflow": null,
            "overflow_x": null,
            "overflow_y": null,
            "padding": null,
            "right": null,
            "top": null,
            "visibility": null,
            "width": null
          }
        },
        "26e99d6d29fb46c5a0bc7ab24085c2f7": {
          "model_module": "@jupyter-widgets/controls",
          "model_name": "DescriptionStyleModel",
          "model_module_version": "1.5.0",
          "state": {
            "_model_module": "@jupyter-widgets/controls",
            "_model_module_version": "1.5.0",
            "_model_name": "DescriptionStyleModel",
            "_view_count": null,
            "_view_module": "@jupyter-widgets/base",
            "_view_module_version": "1.2.0",
            "_view_name": "StyleView",
            "description_width": ""
          }
        },
        "e522de9df46d4df9846d90abdd6e8e63": {
          "model_module": "@jupyter-widgets/controls",
          "model_name": "HBoxModel",
          "model_module_version": "1.5.0",
          "state": {
            "_dom_classes": [],
            "_model_module": "@jupyter-widgets/controls",
            "_model_module_version": "1.5.0",
            "_model_name": "HBoxModel",
            "_view_count": null,
            "_view_module": "@jupyter-widgets/controls",
            "_view_module_version": "1.5.0",
            "_view_name": "HBoxView",
            "box_style": "",
            "children": [
              "IPY_MODEL_15669b173add4420ac71f6bacfa38f43",
              "IPY_MODEL_bac18884eb7c48fa8573695df8861663",
              "IPY_MODEL_1ee81e3e47ad41a39ac4fcf691eff982"
            ],
            "layout": "IPY_MODEL_11d7e82808d8403c95248ba03697a0b1"
          }
        },
        "15669b173add4420ac71f6bacfa38f43": {
          "model_module": "@jupyter-widgets/controls",
          "model_name": "HTMLModel",
          "model_module_version": "1.5.0",
          "state": {
            "_dom_classes": [],
            "_model_module": "@jupyter-widgets/controls",
            "_model_module_version": "1.5.0",
            "_model_name": "HTMLModel",
            "_view_count": null,
            "_view_module": "@jupyter-widgets/controls",
            "_view_module_version": "1.5.0",
            "_view_name": "HTMLView",
            "description": "",
            "description_tooltip": null,
            "layout": "IPY_MODEL_55cd0bbbf8664e808249a91a708b8158",
            "placeholder": "​",
            "style": "IPY_MODEL_3a60673769694fd99839f63b35ae949c",
            "value": "Loading checkpoint shards:  20%"
          }
        },
        "bac18884eb7c48fa8573695df8861663": {
          "model_module": "@jupyter-widgets/controls",
          "model_name": "FloatProgressModel",
          "model_module_version": "1.5.0",
          "state": {
            "_dom_classes": [],
            "_model_module": "@jupyter-widgets/controls",
            "_model_module_version": "1.5.0",
            "_model_name": "FloatProgressModel",
            "_view_count": null,
            "_view_module": "@jupyter-widgets/controls",
            "_view_module_version": "1.5.0",
            "_view_name": "ProgressView",
            "bar_style": "",
            "description": "",
            "description_tooltip": null,
            "layout": "IPY_MODEL_1bce1f3f4e364ab08eda712697444c69",
            "max": 5,
            "min": 0,
            "orientation": "horizontal",
            "style": "IPY_MODEL_0f374d86381c42d5ab0bce97c5deb3aa",
            "value": 1
          }
        },
        "1ee81e3e47ad41a39ac4fcf691eff982": {
          "model_module": "@jupyter-widgets/controls",
          "model_name": "HTMLModel",
          "model_module_version": "1.5.0",
          "state": {
            "_dom_classes": [],
            "_model_module": "@jupyter-widgets/controls",
            "_model_module_version": "1.5.0",
            "_model_name": "HTMLModel",
            "_view_count": null,
            "_view_module": "@jupyter-widgets/controls",
            "_view_module_version": "1.5.0",
            "_view_name": "HTMLView",
            "description": "",
            "description_tooltip": null,
            "layout": "IPY_MODEL_151a43146df44ca18e5d38e91205aa5a",
            "placeholder": "​",
            "style": "IPY_MODEL_81ed69b0afd040cb994f9909bc084078",
            "value": " 1/5 [00:45&lt;03:03, 45.96s/it]"
          }
        },
        "11d7e82808d8403c95248ba03697a0b1": {
          "model_module": "@jupyter-widgets/base",
          "model_name": "LayoutModel",
          "model_module_version": "1.2.0",
          "state": {
            "_model_module": "@jupyter-widgets/base",
            "_model_module_version": "1.2.0",
            "_model_name": "LayoutModel",
            "_view_count": null,
            "_view_module": "@jupyter-widgets/base",
            "_view_module_version": "1.2.0",
            "_view_name": "LayoutView",
            "align_content": null,
            "align_items": null,
            "align_self": null,
            "border": null,
            "bottom": null,
            "display": null,
            "flex": null,
            "flex_flow": null,
            "grid_area": null,
            "grid_auto_columns": null,
            "grid_auto_flow": null,
            "grid_auto_rows": null,
            "grid_column": null,
            "grid_gap": null,
            "grid_row": null,
            "grid_template_areas": null,
            "grid_template_columns": null,
            "grid_template_rows": null,
            "height": null,
            "justify_content": null,
            "justify_items": null,
            "left": null,
            "margin": null,
            "max_height": null,
            "max_width": null,
            "min_height": null,
            "min_width": null,
            "object_fit": null,
            "object_position": null,
            "order": null,
            "overflow": null,
            "overflow_x": null,
            "overflow_y": null,
            "padding": null,
            "right": null,
            "top": null,
            "visibility": null,
            "width": null
          }
        },
        "55cd0bbbf8664e808249a91a708b8158": {
          "model_module": "@jupyter-widgets/base",
          "model_name": "LayoutModel",
          "model_module_version": "1.2.0",
          "state": {
            "_model_module": "@jupyter-widgets/base",
            "_model_module_version": "1.2.0",
            "_model_name": "LayoutModel",
            "_view_count": null,
            "_view_module": "@jupyter-widgets/base",
            "_view_module_version": "1.2.0",
            "_view_name": "LayoutView",
            "align_content": null,
            "align_items": null,
            "align_self": null,
            "border": null,
            "bottom": null,
            "display": null,
            "flex": null,
            "flex_flow": null,
            "grid_area": null,
            "grid_auto_columns": null,
            "grid_auto_flow": null,
            "grid_auto_rows": null,
            "grid_column": null,
            "grid_gap": null,
            "grid_row": null,
            "grid_template_areas": null,
            "grid_template_columns": null,
            "grid_template_rows": null,
            "height": null,
            "justify_content": null,
            "justify_items": null,
            "left": null,
            "margin": null,
            "max_height": null,
            "max_width": null,
            "min_height": null,
            "min_width": null,
            "object_fit": null,
            "object_position": null,
            "order": null,
            "overflow": null,
            "overflow_x": null,
            "overflow_y": null,
            "padding": null,
            "right": null,
            "top": null,
            "visibility": null,
            "width": null
          }
        },
        "3a60673769694fd99839f63b35ae949c": {
          "model_module": "@jupyter-widgets/controls",
          "model_name": "DescriptionStyleModel",
          "model_module_version": "1.5.0",
          "state": {
            "_model_module": "@jupyter-widgets/controls",
            "_model_module_version": "1.5.0",
            "_model_name": "DescriptionStyleModel",
            "_view_count": null,
            "_view_module": "@jupyter-widgets/base",
            "_view_module_version": "1.2.0",
            "_view_name": "StyleView",
            "description_width": ""
          }
        },
        "1bce1f3f4e364ab08eda712697444c69": {
          "model_module": "@jupyter-widgets/base",
          "model_name": "LayoutModel",
          "model_module_version": "1.2.0",
          "state": {
            "_model_module": "@jupyter-widgets/base",
            "_model_module_version": "1.2.0",
            "_model_name": "LayoutModel",
            "_view_count": null,
            "_view_module": "@jupyter-widgets/base",
            "_view_module_version": "1.2.0",
            "_view_name": "LayoutView",
            "align_content": null,
            "align_items": null,
            "align_self": null,
            "border": null,
            "bottom": null,
            "display": null,
            "flex": null,
            "flex_flow": null,
            "grid_area": null,
            "grid_auto_columns": null,
            "grid_auto_flow": null,
            "grid_auto_rows": null,
            "grid_column": null,
            "grid_gap": null,
            "grid_row": null,
            "grid_template_areas": null,
            "grid_template_columns": null,
            "grid_template_rows": null,
            "height": null,
            "justify_content": null,
            "justify_items": null,
            "left": null,
            "margin": null,
            "max_height": null,
            "max_width": null,
            "min_height": null,
            "min_width": null,
            "object_fit": null,
            "object_position": null,
            "order": null,
            "overflow": null,
            "overflow_x": null,
            "overflow_y": null,
            "padding": null,
            "right": null,
            "top": null,
            "visibility": null,
            "width": null
          }
        },
        "0f374d86381c42d5ab0bce97c5deb3aa": {
          "model_module": "@jupyter-widgets/controls",
          "model_name": "ProgressStyleModel",
          "model_module_version": "1.5.0",
          "state": {
            "_model_module": "@jupyter-widgets/controls",
            "_model_module_version": "1.5.0",
            "_model_name": "ProgressStyleModel",
            "_view_count": null,
            "_view_module": "@jupyter-widgets/base",
            "_view_module_version": "1.2.0",
            "_view_name": "StyleView",
            "bar_color": null,
            "description_width": ""
          }
        },
        "151a43146df44ca18e5d38e91205aa5a": {
          "model_module": "@jupyter-widgets/base",
          "model_name": "LayoutModel",
          "model_module_version": "1.2.0",
          "state": {
            "_model_module": "@jupyter-widgets/base",
            "_model_module_version": "1.2.0",
            "_model_name": "LayoutModel",
            "_view_count": null,
            "_view_module": "@jupyter-widgets/base",
            "_view_module_version": "1.2.0",
            "_view_name": "LayoutView",
            "align_content": null,
            "align_items": null,
            "align_self": null,
            "border": null,
            "bottom": null,
            "display": null,
            "flex": null,
            "flex_flow": null,
            "grid_area": null,
            "grid_auto_columns": null,
            "grid_auto_flow": null,
            "grid_auto_rows": null,
            "grid_column": null,
            "grid_gap": null,
            "grid_row": null,
            "grid_template_areas": null,
            "grid_template_columns": null,
            "grid_template_rows": null,
            "height": null,
            "justify_content": null,
            "justify_items": null,
            "left": null,
            "margin": null,
            "max_height": null,
            "max_width": null,
            "min_height": null,
            "min_width": null,
            "object_fit": null,
            "object_position": null,
            "order": null,
            "overflow": null,
            "overflow_x": null,
            "overflow_y": null,
            "padding": null,
            "right": null,
            "top": null,
            "visibility": null,
            "width": null
          }
        },
        "81ed69b0afd040cb994f9909bc084078": {
          "model_module": "@jupyter-widgets/controls",
          "model_name": "DescriptionStyleModel",
          "model_module_version": "1.5.0",
          "state": {
            "_model_module": "@jupyter-widgets/controls",
            "_model_module_version": "1.5.0",
            "_model_name": "DescriptionStyleModel",
            "_view_count": null,
            "_view_module": "@jupyter-widgets/base",
            "_view_module_version": "1.2.0",
            "_view_name": "StyleView",
            "description_width": ""
          }
        }
      }
    }
  },
  "cells": [
    {
      "cell_type": "markdown",
      "metadata": {
        "id": "view-in-github",
        "colab_type": "text"
      },
      "source": [
        "<a href=\"https://colab.research.google.com/github/AbdulazeezAde/AbdulazeezAde/blob/main/Copy_of_llm_chatbot.ipynb\" target=\"_parent\"><img src=\"https://colab.research.google.com/assets/colab-badge.svg\" alt=\"Open In Colab\"/></a>"
      ]
    },
    {
      "cell_type": "markdown",
      "source": [
        "**Generative AI Models for Text-Based Chatbot Development**\n",
        "\n",
        "**GPT-3 (Generative Pre-trained Transfor**mer 3)\n",
        "\n",
        "Developed by OpenAI, GPT-3 is one of the most advanced and widely-used Generative AI models for natural language processing tasks.\n",
        "It boasts a large-scale architecture with 175 billion parameters, enabling it to generate highly coherent and contextually relevant responses.\n",
        "GPT-3 exhibits strong fluency, coherence, and context understanding capabilities, making it suitable for various text-based applications, including chatbots.\n",
        "Its ability to understand and generate responses to diverse queries has made it popular among developers.\n",
        "\n",
        "**GPT-4 (Generative Pre-trained Transformer 4)**\n",
        "\n",
        "GPT-4 is a hypothetical successor to GPT-3, anticipated to feature even larger model architecture and improved language processing capabilities.\n",
        "While GPT-4 has not been officially released at the time of this research, it is expected to surpass GPT-3 in terms of fluency, coherence, and response generation accuracy.\n",
        "\n",
        "**BERT (Bidirectional Encoder Representations from Transformers)**\n",
        "\n",
        "Developed by Google, BERT is another prominent Generative AI model known for its bidirectional language understanding capabilities.\n",
        "It excels in capturing context and semantic meaning from text, making it effective for tasks such as sentiment analysis, question answering, and chatbot interactions.\n",
        "While BERT primarily focuses on understanding context rather than generating text, it can still serve as a valuable component in chatbot frameworks.\n",
        "\n",
        "**Mistral**\n",
        "\n",
        "Mistral is an emerging Generative AI model developed by EleutherAI, aiming to rival existing models like GPT-3 in terms of performance and scalability.\n",
        "While it is relatively newer compared to established models like GPT-3 and BERT, early evaluations suggest promising language processing capabilities.\n",
        "Mistral's architecture emphasizes efficiency and flexibility, making it suitable for various text-based applications, including chatbots.\n",
        "\n",
        "**Llama**\n",
        "\n",
        "Llama is another Generative AI model developed by EleutherAI, designed to provide an open-source alternative to proprietary models like GPT-3.\n",
        "It focuses on democratizing access to advanced AI technologies by offering a scalable and accessible platform for text generation tasks.\n",
        "While Llama may not match the scale of larger models like GPT-3, its performance and language processing abilities make it a viable option for chatbot development, especially in resource-constrained environments.\n",
        "\n",
        "**Hugging Face Transformers**\n",
        "\n",
        "Hugging Face Transformers is a library that provides easy access to a wide range of pre-trained transformer models, including GPT, BERT, and others.\n",
        "It offers a convenient platform for developers to experiment with and deploy state-of-the-art Generative AI models for various text-based tasks, including chatbots.\n",
        "While Hugging Face Transformers itself is not a specific model, it serves as a valuable resource for accessing and integrating different Generative AI models into chatbot frameworks.\n",
        "\n",
        "Evaluation and Ranking\n",
        "\n",
        "Based on the evaluation of the above models, the ranking can be summarized as follows:\n",
        "\n",
        "GPT-3: Exceptional performance in fluency, coherence, context understanding, and response generation accuracy.\n",
        "\n",
        "GPT-4: Anticipated to surpass GPT-3 in performance, making it a highly promising option for chatbot development.\n",
        "\n",
        "BERT: Strong bidirectional language understanding capabilities, suitable for context-rich chatbot interactions.\n",
        "\n",
        "Mistral: Emerging model with promising language processing capabilities, potentially competitive with established models.\n",
        "\n",
        "Llama: Open-source alternative with decent performance, particularly beneficial for resource-constrained environments.\n",
        "\n",
        "Hugging Face Transformers: Provides access to a variety of pre-trained models, offering flexibility and convenience for developers."
      ],
      "metadata": {
        "id": "RMEHDxsVqYh_"
      }
    },
    {
      "cell_type": "markdown",
      "source": [
        "**PRICING**\n",
        "\n",
        "GPT-3\n",
        "\n",
        "API Usage: OpenAI API. Pay-per-use based on tokens processed (input and output).\n",
        "\n",
        "\n",
        "BERT\n",
        "\n",
        "API Usage: Available through various cloud platforms like Google Cloud AI and Amazon SageMaker, or via open-source implementations.\n",
        "Pricing: Varies depending on the platform and chosen deployment method. Open-source versions are free to use, but cloud platforms may charge for compute resources.\n",
        "Additional Notes: Not directly designed for chatbot development, better suited for specific NLP tasks like sentiment analysis.\n",
        "\n",
        "Mistral\n",
        "\n",
        "API Usage: Limited information available. May require contacting the developers directly.\n",
        "Pricing: May vary depending on access method and usage needs. Contact the developers for details.\n",
        "Additional Notes: Less documented compared to other options.\n",
        "\n",
        "Llama\n",
        "\n",
        "API Usage: Open-source model, requires setting up and running on your own infrastructure.\n",
        "Pricing: Essentially free, but costs will come from the compute resources needed to train and run the model.\n",
        "Additional Notes: Requires technical expertise and significant computational resources.\n",
        "\n",
        "Hugging Face Transformers\n",
        "\n",
        "API Usage: Provides access to various pre-trained models, including GPT-3 and BERT, through its API and library.\n",
        "Pricing: Free tier available for limited usage, with paid tiers for higher volumes and additional features."
      ],
      "metadata": {
        "id": "4jFmx554s0UG"
      }
    },
    {
      "cell_type": "markdown",
      "source": [
        "install the libraries needed for the project"
      ],
      "metadata": {
        "id": "TPooEwgIyWI3"
      }
    },
    {
      "cell_type": "markdown",
      "source": [
        "![RAG.jpeg](data:image/jpeg;base64,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![Screenshot_20240208_104749_Coursera.jpg](data:image/jpeg;base64,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))"
      ],
      "metadata": {
        "id": "hPpckGEfwMXy"
      }
    },
    {
      "cell_type": "markdown",
      "source": [],
      "metadata": {
        "id": "Ax0LnLYqv8Ug"
      }
    },
    {
      "cell_type": "code",
      "execution_count": null,
      "metadata": {
        "colab": {
          "base_uri": "https://localhost:8080/"
        },
        "id": "3MXG-tllnWQ-",
        "outputId": "267d1e99-c4e8-46f4-c822-0f4bc11857bb"
      },
      "outputs": [
        {
          "output_type": "stream",
          "name": "stdout",
          "text": [
            "Collecting langchain\n",
            "  Downloading langchain-0.1.6-py3-none-any.whl (811 kB)\n",
            "\u001b[?25l     \u001b[90m━━━━━━━━━━━━━━━━━━━━━━━━━━━━━━━━━━━━━━━━\u001b[0m \u001b[32m0.0/811.8 kB\u001b[0m \u001b[31m?\u001b[0m eta \u001b[36m-:--:--\u001b[0m\r\u001b[2K     \u001b[91m━━━━━━━━━━━━━\u001b[0m\u001b[90m╺\u001b[0m\u001b[90m━━━━━━━━━━━━━━━━━━━━━━━━━━\u001b[0m \u001b[32m266.2/811.8 kB\u001b[0m \u001b[31m7.8 MB/s\u001b[0m eta \u001b[36m0:00:01\u001b[0m\r\u001b[2K     \u001b[91m━━━━━━━━━━━━━━━━━━━━━━━━━━━━━━━━━━━━━━━\u001b[0m\u001b[91m╸\u001b[0m \u001b[32m809.0/811.8 kB\u001b[0m \u001b[31m13.6 MB/s\u001b[0m eta \u001b[36m0:00:01\u001b[0m\r\u001b[2K     \u001b[90m━━━━━━━━━━━━━━━━━━━━━━━━━━━━━━━━━━━━━━━━\u001b[0m \u001b[32m811.8/811.8 kB\u001b[0m \u001b[31m11.3 MB/s\u001b[0m eta \u001b[36m0:00:00\u001b[0m\n",
            "\u001b[?25hRequirement already satisfied: PyYAML>=5.3 in /usr/local/lib/python3.10/dist-packages (from langchain) (6.0.1)\n",
            "Requirement already satisfied: SQLAlchemy<3,>=1.4 in /usr/local/lib/python3.10/dist-packages (from langchain) (2.0.25)\n",
            "Requirement already satisfied: aiohttp<4.0.0,>=3.8.3 in /usr/local/lib/python3.10/dist-packages (from langchain) (3.9.3)\n",
            "Requirement already satisfied: async-timeout<5.0.0,>=4.0.0 in /usr/local/lib/python3.10/dist-packages (from langchain) (4.0.3)\n",
            "Collecting dataclasses-json<0.7,>=0.5.7 (from langchain)\n",
            "  Downloading dataclasses_json-0.6.4-py3-none-any.whl (28 kB)\n",
            "Collecting jsonpatch<2.0,>=1.33 (from langchain)\n",
            "  Downloading jsonpatch-1.33-py2.py3-none-any.whl (12 kB)\n",
            "Collecting langchain-community<0.1,>=0.0.18 (from langchain)\n",
            "  Downloading langchain_community-0.0.19-py3-none-any.whl (1.6 MB)\n",
            "\u001b[2K     \u001b[90m━━━━━━━━━━━━━━━━━━━━━━━━━━━━━━━━━━━━━━━━\u001b[0m \u001b[32m1.6/1.6 MB\u001b[0m \u001b[31m22.9 MB/s\u001b[0m eta \u001b[36m0:00:00\u001b[0m\n",
            "\u001b[?25hCollecting langchain-core<0.2,>=0.1.22 (from langchain)\n",
            "  Downloading langchain_core-0.1.22-py3-none-any.whl (239 kB)\n",
            "\u001b[2K     \u001b[90m━━━━━━━━━━━━━━━━━━━━━━━━━━━━━━━━━━━━━━━━\u001b[0m \u001b[32m239.4/239.4 kB\u001b[0m \u001b[31m20.5 MB/s\u001b[0m eta \u001b[36m0:00:00\u001b[0m\n",
            "\u001b[?25hCollecting langsmith<0.1,>=0.0.83 (from langchain)\n",
            "  Downloading langsmith-0.0.90-py3-none-any.whl (55 kB)\n",
            "\u001b[2K     \u001b[90m━━━━━━━━━━━━━━━━━━━━━━━━━━━━━━━━━━━━━━━━\u001b[0m \u001b[32m55.7/55.7 kB\u001b[0m \u001b[31m7.9 MB/s\u001b[0m eta \u001b[36m0:00:00\u001b[0m\n",
            "\u001b[?25hRequirement already satisfied: numpy<2,>=1 in /usr/local/lib/python3.10/dist-packages (from langchain) (1.23.5)\n",
            "Requirement already satisfied: pydantic<3,>=1 in /usr/local/lib/python3.10/dist-packages (from langchain) (2.6.1)\n",
            "Requirement already satisfied: requests<3,>=2 in /usr/local/lib/python3.10/dist-packages (from langchain) (2.31.0)\n",
            "Requirement already satisfied: tenacity<9.0.0,>=8.1.0 in /usr/local/lib/python3.10/dist-packages (from langchain) (8.2.3)\n",
            "Requirement already satisfied: aiosignal>=1.1.2 in /usr/local/lib/python3.10/dist-packages (from aiohttp<4.0.0,>=3.8.3->langchain) (1.3.1)\n",
            "Requirement already satisfied: attrs>=17.3.0 in /usr/local/lib/python3.10/dist-packages (from aiohttp<4.0.0,>=3.8.3->langchain) (23.2.0)\n",
            "Requirement already satisfied: frozenlist>=1.1.1 in /usr/local/lib/python3.10/dist-packages (from aiohttp<4.0.0,>=3.8.3->langchain) (1.4.1)\n",
            "Requirement already satisfied: multidict<7.0,>=4.5 in /usr/local/lib/python3.10/dist-packages (from aiohttp<4.0.0,>=3.8.3->langchain) (6.0.5)\n",
            "Requirement already satisfied: yarl<2.0,>=1.0 in /usr/local/lib/python3.10/dist-packages (from aiohttp<4.0.0,>=3.8.3->langchain) (1.9.4)\n",
            "Collecting marshmallow<4.0.0,>=3.18.0 (from dataclasses-json<0.7,>=0.5.7->langchain)\n",
            "  Downloading marshmallow-3.20.2-py3-none-any.whl (49 kB)\n",
            "\u001b[2K     \u001b[90m━━━━━━━━━━━━━━━━━━━━━━━━━━━━━━━━━━━━━━━━\u001b[0m \u001b[32m49.4/49.4 kB\u001b[0m \u001b[31m7.0 MB/s\u001b[0m eta \u001b[36m0:00:00\u001b[0m\n",
            "\u001b[?25hCollecting typing-inspect<1,>=0.4.0 (from dataclasses-json<0.7,>=0.5.7->langchain)\n",
            "  Downloading typing_inspect-0.9.0-py3-none-any.whl (8.8 kB)\n",
            "Collecting jsonpointer>=1.9 (from jsonpatch<2.0,>=1.33->langchain)\n",
            "  Downloading jsonpointer-2.4-py2.py3-none-any.whl (7.8 kB)\n",
            "Requirement already satisfied: anyio<5,>=3 in /usr/local/lib/python3.10/dist-packages (from langchain-core<0.2,>=0.1.22->langchain) (3.7.1)\n",
            "Collecting langsmith<0.1,>=0.0.83 (from langchain)\n",
            "  Downloading langsmith-0.0.87-py3-none-any.whl (55 kB)\n",
            "\u001b[2K     \u001b[90m━━━━━━━━━━━━━━━━━━━━━━━━━━━━━━━━━━━━━━━━\u001b[0m \u001b[32m55.4/55.4 kB\u001b[0m \u001b[31m8.4 MB/s\u001b[0m eta \u001b[36m0:00:00\u001b[0m\n",
            "\u001b[?25hRequirement already satisfied: packaging<24.0,>=23.2 in /usr/local/lib/python3.10/dist-packages (from langchain-core<0.2,>=0.1.22->langchain) (23.2)\n",
            "Requirement already satisfied: annotated-types>=0.4.0 in /usr/local/lib/python3.10/dist-packages (from pydantic<3,>=1->langchain) (0.6.0)\n",
            "Requirement already satisfied: pydantic-core==2.16.2 in /usr/local/lib/python3.10/dist-packages (from pydantic<3,>=1->langchain) (2.16.2)\n",
            "Requirement already satisfied: typing-extensions>=4.6.1 in /usr/local/lib/python3.10/dist-packages (from pydantic<3,>=1->langchain) (4.9.0)\n",
            "Requirement already satisfied: charset-normalizer<4,>=2 in /usr/local/lib/python3.10/dist-packages (from requests<3,>=2->langchain) (3.3.2)\n",
            "Requirement already satisfied: idna<4,>=2.5 in /usr/local/lib/python3.10/dist-packages (from requests<3,>=2->langchain) (3.6)\n",
            "Requirement already satisfied: urllib3<3,>=1.21.1 in /usr/local/lib/python3.10/dist-packages (from requests<3,>=2->langchain) (2.0.7)\n",
            "Requirement already satisfied: certifi>=2017.4.17 in /usr/local/lib/python3.10/dist-packages (from requests<3,>=2->langchain) (2024.2.2)\n",
            "Requirement already satisfied: greenlet!=0.4.17 in /usr/local/lib/python3.10/dist-packages (from SQLAlchemy<3,>=1.4->langchain) (3.0.3)\n",
            "Requirement already satisfied: sniffio>=1.1 in /usr/local/lib/python3.10/dist-packages (from anyio<5,>=3->langchain-core<0.2,>=0.1.22->langchain) (1.3.0)\n",
            "Requirement already satisfied: exceptiongroup in /usr/local/lib/python3.10/dist-packages (from anyio<5,>=3->langchain-core<0.2,>=0.1.22->langchain) (1.2.0)\n",
            "Collecting mypy-extensions>=0.3.0 (from typing-inspect<1,>=0.4.0->dataclasses-json<0.7,>=0.5.7->langchain)\n",
            "  Downloading mypy_extensions-1.0.0-py3-none-any.whl (4.7 kB)\n",
            "Installing collected packages: mypy-extensions, marshmallow, jsonpointer, typing-inspect, jsonpatch, langsmith, dataclasses-json, langchain-core, langchain-community, langchain\n",
            "Successfully installed dataclasses-json-0.6.4 jsonpatch-1.33 jsonpointer-2.4 langchain-0.1.6 langchain-community-0.0.19 langchain-core-0.1.22 langsmith-0.0.87 marshmallow-3.20.2 mypy-extensions-1.0.0 typing-inspect-0.9.0\n",
            "Requirement already satisfied: torch in /usr/local/lib/python3.10/dist-packages (2.1.0+cu121)\n",
            "Requirement already satisfied: filelock in /usr/local/lib/python3.10/dist-packages (from torch) (3.13.1)\n",
            "Requirement already satisfied: typing-extensions in /usr/local/lib/python3.10/dist-packages (from torch) (4.9.0)\n",
            "Requirement already satisfied: sympy in /usr/local/lib/python3.10/dist-packages (from torch) (1.12)\n",
            "Requirement already satisfied: networkx in /usr/local/lib/python3.10/dist-packages (from torch) (3.2.1)\n",
            "Requirement already satisfied: jinja2 in /usr/local/lib/python3.10/dist-packages (from torch) (3.1.3)\n",
            "Requirement already satisfied: fsspec in /usr/local/lib/python3.10/dist-packages (from torch) (2023.6.0)\n",
            "Requirement already satisfied: triton==2.1.0 in /usr/local/lib/python3.10/dist-packages (from torch) (2.1.0)\n",
            "Requirement already satisfied: MarkupSafe>=2.0 in /usr/local/lib/python3.10/dist-packages (from jinja2->torch) (2.1.5)\n",
            "Requirement already satisfied: mpmath>=0.19 in /usr/local/lib/python3.10/dist-packages (from sympy->torch) (1.3.0)\n",
            "Collecting sentence_transformers\n",
            "  Downloading sentence_transformers-2.3.1-py3-none-any.whl (132 kB)\n",
            "\u001b[2K     \u001b[90m━━━━━━━━━━━━━━━━━━━━━━━━━━━━━━━━━━━━━━━━\u001b[0m \u001b[32m132.8/132.8 kB\u001b[0m \u001b[31m4.2 MB/s\u001b[0m eta \u001b[36m0:00:00\u001b[0m\n",
            "\u001b[?25hRequirement already satisfied: transformers<5.0.0,>=4.32.0 in /usr/local/lib/python3.10/dist-packages (from sentence_transformers) (4.35.2)\n",
            "Requirement already satisfied: tqdm in /usr/local/lib/python3.10/dist-packages (from sentence_transformers) (4.66.1)\n",
            "Requirement already satisfied: torch>=1.11.0 in /usr/local/lib/python3.10/dist-packages (from sentence_transformers) (2.1.0+cu121)\n",
            "Requirement already satisfied: numpy in /usr/local/lib/python3.10/dist-packages (from sentence_transformers) (1.23.5)\n",
            "Requirement already satisfied: scikit-learn in /usr/local/lib/python3.10/dist-packages (from sentence_transformers) (1.2.2)\n",
            "Requirement already satisfied: scipy in /usr/local/lib/python3.10/dist-packages (from sentence_transformers) (1.11.4)\n",
            "Requirement already satisfied: nltk in /usr/local/lib/python3.10/dist-packages (from sentence_transformers) (3.8.1)\n",
            "Requirement already satisfied: sentencepiece in /usr/local/lib/python3.10/dist-packages (from sentence_transformers) (0.1.99)\n",
            "Requirement already satisfied: huggingface-hub>=0.15.1 in /usr/local/lib/python3.10/dist-packages (from sentence_transformers) (0.20.3)\n",
            "Requirement already satisfied: Pillow in /usr/local/lib/python3.10/dist-packages (from sentence_transformers) (9.4.0)\n",
            "Requirement already satisfied: filelock in /usr/local/lib/python3.10/dist-packages (from huggingface-hub>=0.15.1->sentence_transformers) (3.13.1)\n",
            "Requirement already satisfied: fsspec>=2023.5.0 in /usr/local/lib/python3.10/dist-packages (from huggingface-hub>=0.15.1->sentence_transformers) (2023.6.0)\n",
            "Requirement already satisfied: requests in /usr/local/lib/python3.10/dist-packages (from huggingface-hub>=0.15.1->sentence_transformers) (2.31.0)\n",
            "Requirement already satisfied: pyyaml>=5.1 in /usr/local/lib/python3.10/dist-packages (from huggingface-hub>=0.15.1->sentence_transformers) (6.0.1)\n",
            "Requirement already satisfied: typing-extensions>=3.7.4.3 in /usr/local/lib/python3.10/dist-packages (from huggingface-hub>=0.15.1->sentence_transformers) (4.9.0)\n",
            "Requirement already satisfied: packaging>=20.9 in /usr/local/lib/python3.10/dist-packages (from huggingface-hub>=0.15.1->sentence_transformers) (23.2)\n",
            "Requirement already satisfied: sympy in /usr/local/lib/python3.10/dist-packages (from torch>=1.11.0->sentence_transformers) (1.12)\n",
            "Requirement already satisfied: networkx in /usr/local/lib/python3.10/dist-packages (from torch>=1.11.0->sentence_transformers) (3.2.1)\n",
            "Requirement already satisfied: jinja2 in /usr/local/lib/python3.10/dist-packages (from torch>=1.11.0->sentence_transformers) (3.1.3)\n",
            "Requirement already satisfied: triton==2.1.0 in /usr/local/lib/python3.10/dist-packages (from torch>=1.11.0->sentence_transformers) (2.1.0)\n",
            "Requirement already satisfied: regex!=2019.12.17 in /usr/local/lib/python3.10/dist-packages (from transformers<5.0.0,>=4.32.0->sentence_transformers) (2023.12.25)\n",
            "Requirement already satisfied: tokenizers<0.19,>=0.14 in /usr/local/lib/python3.10/dist-packages (from transformers<5.0.0,>=4.32.0->sentence_transformers) (0.15.1)\n",
            "Requirement already satisfied: safetensors>=0.3.1 in /usr/local/lib/python3.10/dist-packages (from transformers<5.0.0,>=4.32.0->sentence_transformers) (0.4.2)\n",
            "Requirement already satisfied: click in /usr/local/lib/python3.10/dist-packages (from nltk->sentence_transformers) (8.1.7)\n",
            "Requirement already satisfied: joblib in /usr/local/lib/python3.10/dist-packages (from nltk->sentence_transformers) (1.3.2)\n",
            "Requirement already satisfied: threadpoolctl>=2.0.0 in /usr/local/lib/python3.10/dist-packages (from scikit-learn->sentence_transformers) (3.2.0)\n",
            "Requirement already satisfied: MarkupSafe>=2.0 in /usr/local/lib/python3.10/dist-packages (from jinja2->torch>=1.11.0->sentence_transformers) (2.1.5)\n",
            "Requirement already satisfied: charset-normalizer<4,>=2 in /usr/local/lib/python3.10/dist-packages (from requests->huggingface-hub>=0.15.1->sentence_transformers) (3.3.2)\n",
            "Requirement already satisfied: idna<4,>=2.5 in /usr/local/lib/python3.10/dist-packages (from requests->huggingface-hub>=0.15.1->sentence_transformers) (3.6)\n",
            "Requirement already satisfied: urllib3<3,>=1.21.1 in /usr/local/lib/python3.10/dist-packages (from requests->huggingface-hub>=0.15.1->sentence_transformers) (2.0.7)\n",
            "Requirement already satisfied: certifi>=2017.4.17 in /usr/local/lib/python3.10/dist-packages (from requests->huggingface-hub>=0.15.1->sentence_transformers) (2024.2.2)\n",
            "Requirement already satisfied: mpmath>=0.19 in /usr/local/lib/python3.10/dist-packages (from sympy->torch>=1.11.0->sentence_transformers) (1.3.0)\n",
            "Installing collected packages: sentence_transformers\n",
            "Successfully installed sentence_transformers-2.3.1\n",
            "Collecting faiss-cpu\n",
            "  Downloading faiss_cpu-1.7.4-cp310-cp310-manylinux_2_17_x86_64.manylinux2014_x86_64.whl (17.6 MB)\n",
            "\u001b[2K     \u001b[90m━━━━━━━━━━━━━━━━━━━━━━━━━━━━━━━━━━━━━━━━\u001b[0m \u001b[32m17.6/17.6 MB\u001b[0m \u001b[31m40.9 MB/s\u001b[0m eta \u001b[36m0:00:00\u001b[0m\n",
            "\u001b[?25hInstalling collected packages: faiss-cpu\n",
            "Successfully installed faiss-cpu-1.7.4\n",
            "Requirement already satisfied: huggingface-hub in /usr/local/lib/python3.10/dist-packages (0.20.3)\n",
            "Requirement already satisfied: filelock in /usr/local/lib/python3.10/dist-packages (from huggingface-hub) (3.13.1)\n",
            "Requirement already satisfied: fsspec>=2023.5.0 in /usr/local/lib/python3.10/dist-packages (from huggingface-hub) (2023.6.0)\n",
            "Requirement already satisfied: requests in /usr/local/lib/python3.10/dist-packages (from huggingface-hub) (2.31.0)\n",
            "Requirement already satisfied: tqdm>=4.42.1 in /usr/local/lib/python3.10/dist-packages (from huggingface-hub) (4.66.1)\n",
            "Requirement already satisfied: pyyaml>=5.1 in /usr/local/lib/python3.10/dist-packages (from huggingface-hub) (6.0.1)\n",
            "Requirement already satisfied: typing-extensions>=3.7.4.3 in /usr/local/lib/python3.10/dist-packages (from huggingface-hub) (4.9.0)\n",
            "Requirement already satisfied: packaging>=20.9 in /usr/local/lib/python3.10/dist-packages (from huggingface-hub) (23.2)\n",
            "Requirement already satisfied: charset-normalizer<4,>=2 in /usr/local/lib/python3.10/dist-packages (from requests->huggingface-hub) (3.3.2)\n",
            "Requirement already satisfied: idna<4,>=2.5 in /usr/local/lib/python3.10/dist-packages (from requests->huggingface-hub) (3.6)\n",
            "Requirement already satisfied: urllib3<3,>=1.21.1 in /usr/local/lib/python3.10/dist-packages (from requests->huggingface-hub) (2.0.7)\n",
            "Requirement already satisfied: certifi>=2017.4.17 in /usr/local/lib/python3.10/dist-packages (from requests->huggingface-hub) (2024.2.2)\n",
            "Collecting pypdf\n",
            "  Downloading pypdf-4.0.1-py3-none-any.whl (283 kB)\n",
            "\u001b[2K     \u001b[90m━━━━━━━━━━━━━━━━━━━━━━━━━━━━━━━━━━━━━━━━\u001b[0m \u001b[32m284.0/284.0 kB\u001b[0m \u001b[31m8.7 MB/s\u001b[0m eta \u001b[36m0:00:00\u001b[0m\n",
            "\u001b[?25hInstalling collected packages: pypdf\n",
            "Successfully installed pypdf-4.0.1\n",
            "\u001b[2K     \u001b[90m━━━━━━━━━━━━━━━━━━━━━━━━━━━━━━━━━━━━━━━━\u001b[0m \u001b[32m279.7/279.7 kB\u001b[0m \u001b[31m6.4 MB/s\u001b[0m eta \u001b[36m0:00:00\u001b[0m\n",
            "\u001b[?25hCollecting llama-cpp-python\n",
            "  Downloading llama_cpp_python-0.2.39.tar.gz (10.8 MB)\n",
            "\u001b[2K     \u001b[90m━━━━━━━━━━━━━━━━━━━━━━━━━━━━━━━━━━━━━━━━\u001b[0m \u001b[32m10.8/10.8 MB\u001b[0m \u001b[31m33.4 MB/s\u001b[0m eta \u001b[36m0:00:00\u001b[0m\n",
            "\u001b[?25h  Installing build dependencies ... \u001b[?25l\u001b[?25hdone\n",
            "  Getting requirements to build wheel ... \u001b[?25l\u001b[?25hdone\n",
            "  Installing backend dependencies ... \u001b[?25l\u001b[?25hdone\n",
            "  Preparing metadata (pyproject.toml) ... \u001b[?25l\u001b[?25hdone\n",
            "Requirement already satisfied: typing-extensions>=4.5.0 in /usr/local/lib/python3.10/dist-packages (from llama-cpp-python) (4.9.0)\n",
            "Requirement already satisfied: numpy>=1.20.0 in /usr/local/lib/python3.10/dist-packages (from llama-cpp-python) (1.23.5)\n",
            "Requirement already satisfied: diskcache>=5.6.1 in /usr/local/lib/python3.10/dist-packages (from llama-cpp-python) (5.6.3)\n",
            "Requirement already satisfied: jinja2>=2.11.3 in /usr/local/lib/python3.10/dist-packages (from llama-cpp-python) (3.1.3)\n",
            "Requirement already satisfied: MarkupSafe>=2.0 in /usr/local/lib/python3.10/dist-packages (from jinja2>=2.11.3->llama-cpp-python) (2.1.5)\n",
            "Building wheels for collected packages: llama-cpp-python\n",
            "  Building wheel for llama-cpp-python (pyproject.toml) ... \u001b[?25l\u001b[?25hdone\n",
            "  Created wheel for llama-cpp-python: filename=llama_cpp_python-0.2.39-cp310-cp310-manylinux_2_35_x86_64.whl size=2530244 sha256=91abb889218aff471f49f79f425dc0c41dc0bfc1428b6f0c94ecf6a7d21a5254\n",
            "  Stored in directory: /root/.cache/pip/wheels/23/ee/3c/4a12c19a605d827cf3f67aa4a7d053784959232a964580f626\n",
            "Successfully built llama-cpp-python\n",
            "Installing collected packages: llama-cpp-python\n",
            "Successfully installed llama-cpp-python-0.2.39\n",
            "  Installing build dependencies ... \u001b[?25l\u001b[?25hdone\n",
            "  Getting requirements to build wheel ... \u001b[?25l\u001b[?25hdone\n",
            "  Preparing metadata (pyproject.toml) ... \u001b[?25l\u001b[?25hdone\n",
            "  Building wheel for transformers (pyproject.toml) ... \u001b[?25l\u001b[?25hdone\n"
          ]
        }
      ],
      "source": [
        "# install the libraries needed for the project\n",
        "!pip install langchain\n",
        "!pip install torch\n",
        "!pip install sentence_transformers\n",
        "!pip install faiss-cpu\n",
        "!pip install huggingface-hub\n",
        "!pip install pypdf\n",
        "!pip -q install accelerate\n",
        "!pip install llama-cpp-python\n",
        "!pip -q install git+https://github.com/huggingface/transformers"
      ]
    },
    {
      "cell_type": "markdown",
      "source": [
        "IMPORT CLASSES AND MODULES FROM LANGCHAIN"
      ],
      "metadata": {
        "id": "OWjIQeiAyUJH"
      }
    },
    {
      "cell_type": "markdown",
      "source": [],
      "metadata": {
        "id": "S24eaHnGPi3L"
      }
    },
    {
      "cell_type": "code",
      "source": [
        "# a class to create a question answering system based on information retrieval\n",
        "from langchain.chains import RetrievalQA\n",
        "# a class to create text embeddings using HuggingFace templates\n",
        "from langchain.embeddings import HuggingFaceEmbeddings\n",
        "# a class to create a neural language model using LlamaCpp, a C++ implementation of GPT-3\n",
        "from langchain.llms import LlamaCpp\n",
        "# a class for splitting text into fixed-sized chunks with an optional overlay\n",
        "from langchain.text_splitter import RecursiveCharacterTextSplitter\n",
        "# a class to create a vector index using FAISS, a library for approximate nearest neighbor search\n",
        "from langchain.vectorstores import FAISS\n",
        "# a class for loading PDF documents from a directory\n",
        "from langchain.document_loaders import PyPDFDirectoryLoader"
      ],
      "metadata": {
        "id": "vF7492p0nYyi"
      },
      "execution_count": null,
      "outputs": []
    },
    {
      "cell_type": "markdown",
      "source": [
        "LOAD PDF FILES FROM A DIRECTORY"
      ],
      "metadata": {
        "id": "PuHrZwvEy20W"
      }
    },
    {
      "cell_type": "code",
      "source": [
        "from google.colab import files\n",
        "uploaded = files.upload()"
      ],
      "metadata": {
        "colab": {
          "base_uri": "https://localhost:8080/",
          "height": 648
        },
        "id": "5smnWDE1prlW",
        "outputId": "36a6bb29-ff10-42c2-8e40-57b2424bc5dc"
      },
      "execution_count": null,
      "outputs": [
        {
          "output_type": "display_data",
          "data": {
            "text/plain": [
              "<IPython.core.display.HTML object>"
            ],
            "text/html": [
              "\n",
              "     <input type=\"file\" id=\"files-fbfabc54-6dfc-44c8-aac6-4ff31546de04\" name=\"files[]\" multiple disabled\n",
              "        style=\"border:none\" />\n",
              "     <output id=\"result-fbfabc54-6dfc-44c8-aac6-4ff31546de04\">\n",
              "      Upload widget is only available when the cell has been executed in the\n",
              "      current browser session. Please rerun this cell to enable.\n",
              "      </output>\n",
              "      <script>// Copyright 2017 Google LLC\n",
              "//\n",
              "// Licensed under the Apache License, Version 2.0 (the \"License\");\n",
              "// you may not use this file except in compliance with the License.\n",
              "// You may obtain a copy of the License at\n",
              "//\n",
              "//      http://www.apache.org/licenses/LICENSE-2.0\n",
              "//\n",
              "// Unless required by applicable law or agreed to in writing, software\n",
              "// distributed under the License is distributed on an \"AS IS\" BASIS,\n",
              "// WITHOUT WARRANTIES OR CONDITIONS OF ANY KIND, either express or implied.\n",
              "// See the License for the specific language governing permissions and\n",
              "// limitations under the License.\n",
              "\n",
              "/**\n",
              " * @fileoverview Helpers for google.colab Python module.\n",
              " */\n",
              "(function(scope) {\n",
              "function span(text, styleAttributes = {}) {\n",
              "  const element = document.createElement('span');\n",
              "  element.textContent = text;\n",
              "  for (const key of Object.keys(styleAttributes)) {\n",
              "    element.style[key] = styleAttributes[key];\n",
              "  }\n",
              "  return element;\n",
              "}\n",
              "\n",
              "// Max number of bytes which will be uploaded at a time.\n",
              "const MAX_PAYLOAD_SIZE = 100 * 1024;\n",
              "\n",
              "function _uploadFiles(inputId, outputId) {\n",
              "  const steps = uploadFilesStep(inputId, outputId);\n",
              "  const outputElement = document.getElementById(outputId);\n",
              "  // Cache steps on the outputElement to make it available for the next call\n",
              "  // to uploadFilesContinue from Python.\n",
              "  outputElement.steps = steps;\n",
              "\n",
              "  return _uploadFilesContinue(outputId);\n",
              "}\n",
              "\n",
              "// This is roughly an async generator (not supported in the browser yet),\n",
              "// where there are multiple asynchronous steps and the Python side is going\n",
              "// to poll for completion of each step.\n",
              "// This uses a Promise to block the python side on completion of each step,\n",
              "// then passes the result of the previous step as the input to the next step.\n",
              "function _uploadFilesContinue(outputId) {\n",
              "  const outputElement = document.getElementById(outputId);\n",
              "  const steps = outputElement.steps;\n",
              "\n",
              "  const next = steps.next(outputElement.lastPromiseValue);\n",
              "  return Promise.resolve(next.value.promise).then((value) => {\n",
              "    // Cache the last promise value to make it available to the next\n",
              "    // step of the generator.\n",
              "    outputElement.lastPromiseValue = value;\n",
              "    return next.value.response;\n",
              "  });\n",
              "}\n",
              "\n",
              "/**\n",
              " * Generator function which is called between each async step of the upload\n",
              " * process.\n",
              " * @param {string} inputId Element ID of the input file picker element.\n",
              " * @param {string} outputId Element ID of the output display.\n",
              " * @return {!Iterable<!Object>} Iterable of next steps.\n",
              " */\n",
              "function* uploadFilesStep(inputId, outputId) {\n",
              "  const inputElement = document.getElementById(inputId);\n",
              "  inputElement.disabled = false;\n",
              "\n",
              "  const outputElement = document.getElementById(outputId);\n",
              "  outputElement.innerHTML = '';\n",
              "\n",
              "  const pickedPromise = new Promise((resolve) => {\n",
              "    inputElement.addEventListener('change', (e) => {\n",
              "      resolve(e.target.files);\n",
              "    });\n",
              "  });\n",
              "\n",
              "  const cancel = document.createElement('button');\n",
              "  inputElement.parentElement.appendChild(cancel);\n",
              "  cancel.textContent = 'Cancel upload';\n",
              "  const cancelPromise = new Promise((resolve) => {\n",
              "    cancel.onclick = () => {\n",
              "      resolve(null);\n",
              "    };\n",
              "  });\n",
              "\n",
              "  // Wait for the user to pick the files.\n",
              "  const files = yield {\n",
              "    promise: Promise.race([pickedPromise, cancelPromise]),\n",
              "    response: {\n",
              "      action: 'starting',\n",
              "    }\n",
              "  };\n",
              "\n",
              "  cancel.remove();\n",
              "\n",
              "  // Disable the input element since further picks are not allowed.\n",
              "  inputElement.disabled = true;\n",
              "\n",
              "  if (!files) {\n",
              "    return {\n",
              "      response: {\n",
              "        action: 'complete',\n",
              "      }\n",
              "    };\n",
              "  }\n",
              "\n",
              "  for (const file of files) {\n",
              "    const li = document.createElement('li');\n",
              "    li.append(span(file.name, {fontWeight: 'bold'}));\n",
              "    li.append(span(\n",
              "        `(${file.type || 'n/a'}) - ${file.size} bytes, ` +\n",
              "        `last modified: ${\n",
              "            file.lastModifiedDate ? file.lastModifiedDate.toLocaleDateString() :\n",
              "                                    'n/a'} - `));\n",
              "    const percent = span('0% done');\n",
              "    li.appendChild(percent);\n",
              "\n",
              "    outputElement.appendChild(li);\n",
              "\n",
              "    const fileDataPromise = new Promise((resolve) => {\n",
              "      const reader = new FileReader();\n",
              "      reader.onload = (e) => {\n",
              "        resolve(e.target.result);\n",
              "      };\n",
              "      reader.readAsArrayBuffer(file);\n",
              "    });\n",
              "    // Wait for the data to be ready.\n",
              "    let fileData = yield {\n",
              "      promise: fileDataPromise,\n",
              "      response: {\n",
              "        action: 'continue',\n",
              "      }\n",
              "    };\n",
              "\n",
              "    // Use a chunked sending to avoid message size limits. See b/62115660.\n",
              "    let position = 0;\n",
              "    do {\n",
              "      const length = Math.min(fileData.byteLength - position, MAX_PAYLOAD_SIZE);\n",
              "      const chunk = new Uint8Array(fileData, position, length);\n",
              "      position += length;\n",
              "\n",
              "      const base64 = btoa(String.fromCharCode.apply(null, chunk));\n",
              "      yield {\n",
              "        response: {\n",
              "          action: 'append',\n",
              "          file: file.name,\n",
              "          data: base64,\n",
              "        },\n",
              "      };\n",
              "\n",
              "      let percentDone = fileData.byteLength === 0 ?\n",
              "          100 :\n",
              "          Math.round((position / fileData.byteLength) * 100);\n",
              "      percent.textContent = `${percentDone}% done`;\n",
              "\n",
              "    } while (position < fileData.byteLength);\n",
              "  }\n",
              "\n",
              "  // All done.\n",
              "  yield {\n",
              "    response: {\n",
              "      action: 'complete',\n",
              "    }\n",
              "  };\n",
              "}\n",
              "\n",
              "scope.google = scope.google || {};\n",
              "scope.google.colab = scope.google.colab || {};\n",
              "scope.google.colab._files = {\n",
              "  _uploadFiles,\n",
              "  _uploadFilesContinue,\n",
              "};\n",
              "})(self);\n",
              "</script> "
            ]
          },
          "metadata": {}
        },
        {
          "output_type": "stream",
          "name": "stdout",
          "text": [
            "Saving CGC-Aquatics-Programs-Parent-Handbook.pdf to CGC-Aquatics-Programs-Parent-Handbook.pdf\n",
            "Saving client-handbook-recreation.pdf to client-handbook-recreation.pdf\n",
            "Saving curriculum_swimming_and_water_safety-a_guide_for_parents.pdf to curriculum_swimming_and_water_safety-a_guide_for_parents.pdf\n",
            "Saving dipadees_learntoswim_infobk.pdf to dipadees_learntoswim_infobk.pdf\n",
            "Saving LTS flyer Term 3 2015.pdf to LTS flyer Term 3 2015.pdf\n",
            "Saving National-Swimming-and-Water-Safety-Framework_FINAL-2020.pdf to National-Swimming-and-Water-Safety-Framework_FINAL-2020.pdf\n",
            "Saving Parent Handbook.pdf to Parent Handbook.pdf\n",
            "Saving Scientific Advisory Council SCIENTIFIC REVIEW - Minimum Age for Swimming Lessons.pdf to Scientific Advisory Council SCIENTIFIC REVIEW - Minimum Age for Swimming Lessons.pdf\n",
            "Saving ssa_info_book.pdf to ssa_info_book.pdf\n",
            "Saving Swim_to_Survive_Activity_Guide_2011_(Updated)_1.pdf to Swim_to_Survive_Activity_Guide_2011_(Updated)_1.pdf\n",
            "Saving Swim+School+-+Parents+Handbook-lowres-web.pdf to Swim+School+-+Parents+Handbook-lowres-web.pdf\n",
            "Saving Swim-Lessons-Parent-Handbook_r4.pdf to Swim-Lessons-Parent-Handbook_r4.pdf\n",
            "Saving Swimming Lessons Level Progression Chart _ The Y.pdf to Swimming Lessons Level Progression Chart _ The Y.pdf\n",
            "Saving WIRAC LTS Timetable.pdf to WIRAC LTS Timetable.pdf\n",
            "Saving Y NSW Swim School Program - Terms and Conditions _ The Y.pdf to Y NSW Swim School Program - Terms and Conditions _ The Y.pdf\n",
            "Saving YMCA Swim Lesson Level Guide.pdf to YMCA Swim Lesson Level Guide.pdf\n",
            "Saving YMCA-Swim-School-Brochure.pdf to YMCA-Swim-School-Brochure.pdf\n"
          ]
        }
      ]
    },
    {
      "cell_type": "code",
      "source": [
        "'''from langchain.document_loaders import PyPDFLoader\n",
        "\n",
        "# Load PDF\n",
        "loaders = [\n",
        "    # Duplicate documents on purpose - messy data\n",
        "    PyPDFLoader(\"/content/CGC-Aquatics-Programs-Parent-Handbook.pdf\"),\n",
        "    PyPDFLoader(\"/content/client-handbook-recreation.pdf\"),\n",
        "    PyPDFLoader(\"/content/curriculum_swimming_and_water_safety-a_guide_for_parents.pdf\"),\n",
        "    PyPDFLoader(\"/content/dipadees_learntoswim_infobk.pdf\"),\n",
        "    PyPDFLoader(\"/content/LTS flyer Term 3 2015.pdf\"),\n",
        "    PyPDFLoader(\"/content/National-Swimming-and-Water-Safety-Framework_FINAL-2020.pdf\"),\n",
        "    PyPDFLoader(\"/content/Parent Handbook.pdf\"),\n",
        "    PyPDFLoader(\"/content/Scientific Advisory Council SCIENTIFIC REVIEW - Minimum Age for Swimming Lessons.pdf\"),\n",
        "   #PyPDFLoader(\"/content/sa_info_book.pdf\"),\n",
        "    PyPDFLoader(\"/content/Swim+School+-+Parents+Handbook-lowres-web.pdf\"),\n",
        "    PyPDFLoader(\"/content/Swimming Lessons Level Progression Chart _ The Y.pdf\"),\n",
        "    PyPDFLoader(\"/content/Swim-Lessons-Parent-Handbook_r4.pdf\"),\n",
        "    PyPDFLoader(\"/content/WIRAC LTS Timetable.pdf\"),\n",
        "    PyPDFLoader(\"/content/Y NSW Swim School Program - Terms and Conditions _ The Y.pdf\"),\n",
        "    PyPDFLoader(\"/content/YMCA Swim Lesson Level Guide.pdf\"),\n",
        "    PyPDFLoader(\"/content/YMCA-Swim-School-Brochure.pdf\")\n",
        "]\n",
        "docs = []\n",
        "for loader in loaders:\n",
        "    docs.extend(loader.load())'''"
      ],
      "metadata": {
        "id": "GkOJRUzrm4RQ"
      },
      "execution_count": null,
      "outputs": []
    },
    {
      "cell_type": "markdown",
      "source": [
        "PRINTED A COPY FROM PAGE 3 OF THE FIRST DOCUMENT."
      ],
      "metadata": {
        "id": "NmnFaJOxzAi-"
      }
    },
    {
      "cell_type": "code",
      "source": [
        "print(docs[2].page_content)"
      ],
      "metadata": {
        "colab": {
          "base_uri": "https://localhost:8080/"
        },
        "id": "Ju_gOg_cuPUa",
        "outputId": "bd9423eb-91b1-4ac0-d407-271d36cb69fc"
      },
      "execution_count": null,
      "outputs": [
        {
          "output_type": "stream",
          "name": "stdout",
          "text": [
            " \n",
            " \n",
            "Aquatics Programs Parent Handbook  (updated Fall 2023)                                                                            Page 3 \n",
            "Welcome!  \n",
            "The Canada Games Centre (CGC) Aquatics Team  is happy to welcome you to our \n",
            "swim lessons. We  know your child(ren) will not only learn new swimming skills, \n",
            "but also have fun doing it ! The Parent  Handbook contains pool deck policies and \n",
            "helpful information about our swim lessons and aquatic programs.  \n",
            "Based on the internationally recognized Swim to Survive standard aligned with \n",
            "the Sport for Life model, the Lifesaving Society’s Swim for Life Program focuses \n",
            "on basic survival skills and proper swimming technique – fun from day one!  \n",
            "Swim for Life starts by developing strong foundational and self -rescue skills  and \n",
            "progresses  by challeng ing swimmers to develop stronger swimming strokes. \n",
            "Success oriented and fun for the entire family, there is something for everyone in \n",
            "the Swim for Life program.  \n",
            "General Information  \n",
            "Canada Games Centre Address:  26 Thomas Raddall Drive, Halifax, NS  \n",
            "Facility Hours: Monday -Friday: 5:30am -10pm; Saturday -Sunday: 7am -9pm \n",
            "(Hours subject to change; please visit our website for updates)  \n",
            "CGC Customer Service Desk: 902.490.2400 ext. 7 \n",
            "Aquatics Program Supervisor Email: aquaadmin@ canadagamescentre.c a \n"
          ]
        }
      ]
    },
    {
      "cell_type": "markdown",
      "source": [
        "Split the extracted data into text chunks using the text_splitter."
      ],
      "metadata": {
        "id": "pHyL4rNXzJhN"
      }
    },
    {
      "cell_type": "code",
      "source": [
        "len(docs)"
      ],
      "metadata": {
        "colab": {
          "base_uri": "https://localhost:8080/"
        },
        "id": "N4q-1m_x6ut8",
        "outputId": "b8637751-a5a9-4500-826e-3be596b243d2"
      },
      "execution_count": null,
      "outputs": [
        {
          "output_type": "execute_result",
          "data": {
            "text/plain": [
              "222"
            ]
          },
          "metadata": {},
          "execution_count": 7
        }
      ]
    },
    {
      "cell_type": "code",
      "source": [
        "page = docs[0]\n",
        "print(page.page_content[0:500])"
      ],
      "metadata": {
        "colab": {
          "base_uri": "https://localhost:8080/"
        },
        "id": "bSHDtnDpvcgh",
        "outputId": "49bedb19-90a0-4185-c0db-12e948cfe6b0"
      },
      "execution_count": null,
      "outputs": [
        {
          "output_type": "stream",
          "name": "stdout",
          "text": [
            "   \n",
            " \n",
            "AQUATICS PROGRAMS   \n",
            "PARENT HANDBOOK  \n",
            "  \n",
            " \n",
            " \n",
            " \n",
            " \n",
            " \n",
            " \n",
            " \n",
            " \n",
            " \n",
            "  \n",
            "\n"
          ]
        }
      ]
    },
    {
      "cell_type": "code",
      "source": [
        "page.metadata"
      ],
      "metadata": {
        "colab": {
          "base_uri": "https://localhost:8080/"
        },
        "id": "EcULJJ_pvpcT",
        "outputId": "0132d490-3e42-455a-e942-f93dfd410cb0"
      },
      "execution_count": null,
      "outputs": [
        {
          "output_type": "execute_result",
          "data": {
            "text/plain": [
              "{'source': '/content/CGC-Aquatics-Programs-Parent-Handbook.pdf', 'page': 0}"
            ]
          },
          "metadata": {},
          "execution_count": 9
        }
      ]
    },
    {
      "cell_type": "markdown",
      "source": [
        "Recursive Character Text Splitting (RCTS) is an algorithm used in natural language processing (NLP) to split a text into smaller units, such as sentences or phrases. It works by recursively applying a set of rules to the text, based on the characters and punctuation marks present.\n",
        "\n",
        "The RCTS algorithm typically starts by splitting the text on periods (.) and exclamation marks (!). It then checks if the resulting fragments contain any question marks (?). If so, it splits the fragments on question marks. This process is repeated until no more splits can be made."
      ],
      "metadata": {
        "id": "-i4xhftVBi2w"
      }
    },
    {
      "cell_type": "code",
      "source": [
        "# split the extracted data into text chunks using the text_splitter, which splits the text based on the specified number of characters and overlap\n",
        "text_splitter = RecursiveCharacterTextSplitter(\n",
        "        chunk_size=1000,\n",
        "        chunk_overlap=200,\n",
        "        length_function=len\n",
        "    )\n",
        "chunks = text_splitter.split_documents(docs)\n",
        "\n",
        "# print the number of chunks obtained\n",
        "len(chunks)"
      ],
      "metadata": {
        "colab": {
          "base_uri": "https://localhost:8080/"
        },
        "id": "U2f8L1ZftTot",
        "outputId": "3cfdf1e6-183d-424a-ca4a-e269eb215096"
      },
      "execution_count": null,
      "outputs": [
        {
          "output_type": "execute_result",
          "data": {
            "text/plain": [
              "527"
            ]
          },
          "metadata": {},
          "execution_count": 10
        }
      ]
    },
    {
      "cell_type": "code",
      "source": [
        "print(chunks[377])"
      ],
      "metadata": {
        "colab": {
          "base_uri": "https://localhost:8080/"
        },
        "id": "qSzCCJ5qQVlV",
        "outputId": "c069a1f1-b3c0-4638-c3c4-41524e15bca4"
      },
      "execution_count": null,
      "outputs": [
        {
          "output_type": "stream",
          "name": "stdout",
          "text": [
            "page_content='and rudimentary strokes. Erbaugh (1978; 1980; 1986) observed that mo st preschool children under the \\nage of 4.5 years did not achieve sufficiently advanced  levels of skill to swim 10-15 feet combined with \\nentering and exiting the water. As her et al. (1995) observed significan t changes in 3 y ear old children \\nafter a water safety training program. Brenner et al . (2009) found that it was significantly more likely \\nthat children from control families where a drowning had not occurred had taken swim lessons and had swimming skill than in families where a drowning ha d occurred. She interpreted this as associated \\nwith an 88% reduction in risk of drowning amon g 1-4 year old children although the 95% confidence \\nintervals ranged from 3% to 99%. Parker and Blanks by (1996) discovered that starting swim lessons at \\nyounger ages (e.g., four and five ye ars) was not associated with the most efficient (shortest)' metadata={'source': '/content/Scientific Advisory Council SCIENTIFIC REVIEW - Minimum Age for Swimming Lessons.pdf', 'page': 6}\n"
          ]
        }
      ]
    },
    {
      "cell_type": "code",
      "source": [
        "print(chunks[1].page_content)"
      ],
      "metadata": {
        "colab": {
          "base_uri": "https://localhost:8080/"
        },
        "id": "-RX_xQ4rw9c0",
        "outputId": "774827b7-1c66-481d-c236-d5f0680f58b1"
      },
      "execution_count": null,
      "outputs": [
        {
          "output_type": "stream",
          "name": "stdout",
          "text": [
            "Aquatics Programs Parent Handbook  (updated Fall 2023)                                                                            Page 2 \n",
            " \n",
            " \n",
            "Table of Contents  \n",
            "Welcome  & General Information  ...................................................................  3 \n",
            "Program Age Groups  .................................................................................... 4 \n",
            "Program Size Ratios  ...................................................................................... 4 \n",
            "Aquatics Support Staff  .................................................................................. 5 \n",
            "Program Expectations  ................................................................................... 6 \n",
            "Participant Expectations  ................................................................................ 7 \n",
            "Aquatics Centre Guidelines  ........................................................................... 9\n"
          ]
        }
      ]
    },
    {
      "cell_type": "markdown",
      "source": [
        "Download the embeddings to be used to represent the text chunks in a vector space"
      ],
      "metadata": {
        "id": "xD5D9YKczaGd"
      }
    },
    {
      "cell_type": "code",
      "source": [
        "from transformers import BertTokenizer\n",
        "\n",
        "tokenizer = BertTokenizer.from_pretrained(\"bert-base-uncased\")\n",
        "data = tokenizer.tokenize(str(chunks))"
      ],
      "metadata": {
        "colab": {
          "base_uri": "https://localhost:8080/",
          "height": 145,
          "referenced_widgets": [
            "a3a95088c2aa41709ba0e68f2c3ff0a1",
            "0d81a2f2f511453e9ff5f74b0e7521b7",
            "b237602d08614e30bb2ff7940c62dd40",
            "c048e521e1524949a8bd99f201769efc",
            "87dea1d453294a5fbf402fa5fc6765d9",
            "2027a7f31f8f45beb39921fe1b9e9b79",
            "3b6dd11d190049da99608452addbdbf9",
            "3d1f7e86653f4692a3d935ff4229b312",
            "1b480c5ddcc142ff988a1daa9eeb8434",
            "7af9667d7fb84f0abe47590036151639",
            "242c0096b4684df0b04f517fe31240bc",
            "9a7785fe19be43eda23001d9ac59bec4",
            "4dffe11323014192aef7a1f774c26f09",
            "a5397e7fff7b41bfa312a85bf1fe8d3c",
            "803b17f4a2cc4b849df7d4f24d725207",
            "9645d291fef841558fc851caff8e9248",
            "a96dcab861ac420a9a483f330d411a28",
            "cbb84ff5a24b411684eb15de96665666",
            "8df0152cece042009ce8cff209282d60",
            "e55eba9aac1147ed81bc4a0f8ed18e5f",
            "1a76478b6f7f47418ec53e03a4055fe2",
            "3f7047b76efa465fbcf95cdf6cd635ee",
            "90c7cc027ce6477d8f98053d874fc74b",
            "860749d89f134275b80f9474bc45d0df",
            "85ad0bc6eeaf4289b2578e370c18c38a",
            "bd843f92ab1949728754ea2f0b225bd5",
            "86169e340daa4391b778edddafdb826c",
            "0fc107b2af8f4dc39fba0dc51516df37",
            "4e0c2d9c878e4ea5bf5fb18d30568b4e",
            "70602783f72f487bb8ffd65c919f7bef",
            "5f4d798da8674e41b20cba3ae21b352a",
            "b91bafa9e5c9439fb189778471628c59",
            "213219f97faf49e384c3a664468914ea",
            "a13b62aa06ac4e4cb2c1f2fd9eab9766",
            "59adce64212743b0b6350a8eb6dc9cfb",
            "62fc91f3865f45f998c00b3f46a81bbc",
            "723b08e4c42e4f27bf0b6a682867162b",
            "edf14f7f67994651920b2c60be3d436a",
            "0b850c54e72549858724de0797a0d885",
            "0aea14488a9848f3814f51a5fedb0512",
            "fa2e427d1ecc47a4a407823e23b529c6",
            "89f5d3fef0f045c2bdb85309857848ea",
            "0e18a3cdedd84da3941792eb6f85f7e3",
            "26e99d6d29fb46c5a0bc7ab24085c2f7"
          ]
        },
        "id": "ZXuUP_KdRTLi",
        "outputId": "277284f2-94ae-47f0-f2b7-38d96236a601"
      },
      "execution_count": null,
      "outputs": [
        {
          "output_type": "display_data",
          "data": {
            "text/plain": [
              "tokenizer_config.json:   0%|          | 0.00/28.0 [00:00<?, ?B/s]"
            ],
            "application/vnd.jupyter.widget-view+json": {
              "version_major": 2,
              "version_minor": 0,
              "model_id": "a3a95088c2aa41709ba0e68f2c3ff0a1"
            }
          },
          "metadata": {}
        },
        {
          "output_type": "display_data",
          "data": {
            "text/plain": [
              "vocab.txt:   0%|          | 0.00/232k [00:00<?, ?B/s]"
            ],
            "application/vnd.jupyter.widget-view+json": {
              "version_major": 2,
              "version_minor": 0,
              "model_id": "9a7785fe19be43eda23001d9ac59bec4"
            }
          },
          "metadata": {}
        },
        {
          "output_type": "display_data",
          "data": {
            "text/plain": [
              "tokenizer.json:   0%|          | 0.00/466k [00:00<?, ?B/s]"
            ],
            "application/vnd.jupyter.widget-view+json": {
              "version_major": 2,
              "version_minor": 0,
              "model_id": "90c7cc027ce6477d8f98053d874fc74b"
            }
          },
          "metadata": {}
        },
        {
          "output_type": "display_data",
          "data": {
            "text/plain": [
              "config.json:   0%|          | 0.00/570 [00:00<?, ?B/s]"
            ],
            "application/vnd.jupyter.widget-view+json": {
              "version_major": 2,
              "version_minor": 0,
              "model_id": "a13b62aa06ac4e4cb2c1f2fd9eab9766"
            }
          },
          "metadata": {}
        }
      ]
    },
    {
      "cell_type": "markdown",
      "source": [
        "Embedding, in the context of machine learning and natural language processing (NLP), refers to the process of representing data points as vectors of real numbers. These vectors are designed to capture the semantic meaning and relationships between the data points, allowing machine learning models to better understand and process the data.\n",
        "\n",
        "There are various types of embeddings, including:\n",
        "\n",
        "Word embeddings: These represent individual words as vectors. Word embeddings are typically trained on large datasets of text and capture the semantic relationships between words. For example, words with similar meanings will have similar vector representations.\n",
        "\n",
        "Sentence embeddings: These represent entire sentences or phrases as vectors. Sentence embeddings are typically created by averaging the word embeddings of the words in the sentence.\n",
        "\n",
        "Document embeddings: These represent entire documents as vectors. Document embeddings are typically created by averaging the sentence embeddings of the sentences in the document.\n",
        "\n",
        "FAISS (Facebook AI Similarity Search) is a library for efficient similarity search and clustering of dense vectors. It can be used to find the most similar documents to a given query document based on their embeddings.\n",
        "\n",
        " FAISS can be used to find the most relevant responses to user queries based on the user's previous interactions with the chatbot.\n"
      ],
      "metadata": {
        "id": "apEIYoW2tdZo"
      }
    },
    {
      "cell_type": "code",
      "source": [
        "# download the embeddings to use to represent text chunks in a vector space, using the pre-trained model \"sentence-transformers/all-MiniLM-L6-v2\"\n",
        "embeddings = HuggingFaceEmbeddings(model_name=\"sentence-transformers/all-MiniLM-L6-v2\")"
      ],
      "metadata": {
        "colab": {
          "base_uri": "https://localhost:8080/"
        },
        "id": "jrbK15ccu_oN",
        "outputId": "10f62c41-de09-409b-e582-5c335e082382"
      },
      "execution_count": null,
      "outputs": [
        {
          "output_type": "stream",
          "name": "stderr",
          "text": [
            "/usr/local/lib/python3.10/dist-packages/huggingface_hub/utils/_token.py:88: UserWarning: \n",
            "The secret `HF_TOKEN` does not exist in your Colab secrets.\n",
            "To authenticate with the Hugging Face Hub, create a token in your settings tab (https://huggingface.co/settings/tokens), set it as secret in your Google Colab and restart your session.\n",
            "You will be able to reuse this secret in all of your notebooks.\n",
            "Please note that authentication is recommended but still optional to access public models or datasets.\n",
            "  warnings.warn(\n",
            "/usr/local/lib/python3.10/dist-packages/torch/_utils.py:831: UserWarning: TypedStorage is deprecated. It will be removed in the future and UntypedStorage will be the only storage class. This should only matter to you if you are using storages directly.  To access UntypedStorage directly, use tensor.untyped_storage() instead of tensor.storage()\n",
            "  return self.fget.__get__(instance, owner)()\n"
          ]
        }
      ]
    },
    {
      "cell_type": "markdown",
      "source": [
        "A vector store is a data structure that stores and manages vectors of real numbers. These vectors can represent a variety of data types, such as documents, images, or user profiles. Vector stores are designed to efficiently search for and retrieve similar vectors based on their distance or similarity.\n",
        "\n",
        "There are various types of vector stores, including:\n",
        "\n",
        "In-memory vector stores: These store vectors in memory, which allows for fast search and retrieval. However, in-memory vector stores are limited in capacity and can be expensive to maintain.\n",
        "\n",
        "On-disk vector stores: These store vectors on disk, which allows for larger capacity and lower cost. However, on-disk vector stores are typically slower than in-memory vector stores.\n",
        "\n",
        "Hybrid vector stores: These combine the advantages of in-memory and on-disk vector stores. They store frequently accessed vectors in memory and infrequently accessed vectors on disk."
      ],
      "metadata": {
        "id": "Cn55YkfzuGya"
      }
    },
    {
      "cell_type": "code",
      "source": [
        "# create embeddings for each text chunk using the FAISS class, which creates a vector index using FAISS and allows efficient searches between vectors\n",
        "vector_store = FAISS.from_documents(chunks, embedding=embeddings)"
      ],
      "metadata": {
        "id": "QB3Btho_vFmp"
      },
      "execution_count": null,
      "outputs": []
    },
    {
      "cell_type": "markdown",
      "source": [
        "Similarity search is the process of finding the most similar items in a dataset to a given query item. Similarity is typically measured using a distance metric, such as the Euclidean distance or the cosine similarity.\n",
        "\n",
        "Similarity search can be used for Document retrieval which is finding the most relevant documents in a large collection based on a user's query."
      ],
      "metadata": {
        "id": "kbJxRsckupbY"
      }
    },
    {
      "cell_type": "code",
      "source": [
        "question = \"What is the swimming class about?\"\n",
        "k = 3\n",
        "\n",
        "# Perform similarity search\n",
        "results = vector_store.search(question, search_type=\"similarity\", k=k)\n",
        "len(results)"
      ],
      "metadata": {
        "colab": {
          "base_uri": "https://localhost:8080/"
        },
        "id": "kI8bgO1A4X_I",
        "outputId": "18461f1c-6067-4383-dcf1-d968b686b8a8"
      },
      "execution_count": null,
      "outputs": [
        {
          "output_type": "execute_result",
          "data": {
            "text/plain": [
              "3"
            ]
          },
          "metadata": {},
          "execution_count": 17
        }
      ]
    },
    {
      "cell_type": "code",
      "source": [
        "print(results)"
      ],
      "metadata": {
        "colab": {
          "base_uri": "https://localhost:8080/"
        },
        "id": "6aDy3LlJ5Alx",
        "outputId": "e9bfd271-b0c2-4f80-cc2c-7eddae32c61a"
      },
      "execution_count": null,
      "outputs": [
        {
          "output_type": "stream",
          "name": "stdout",
          "text": [
            "[Document(page_content='For private lesson enquiry please email Donna\\n(donna.luttrell@ymcabrisbane.org)After School Program\\n29 Palmerin Street\\np: 07 4661 7955\\nw: www.wirac.com.au\\ne: wirac@ymcabrisbane.orgLEARN TO SWIMLEARN TO SWIM\\nPROGRAMPROGRAM20232023\\nOCTOPUS\\nSARDINE\\nSALMON\\nTUNA\\nDOLPHINLEVELS CLASS INFORMATION\\nBEGINNER LEVEL, FOCUSES ON MOVEMENT, WATER SAFETY AND\\nINTRODUCTION TO AQUATIC ENVIRONMENT\\nTHIS CLASS FOCUSES ON FREESTYLE, BACKSTROKE WITH\\nINTRODUCTION TO BREASTROKE LEGS AND WATER SAFETY\\nTHIS CLASS FOCUSES ON FREESTYLE, BACKSTROKE, BREASTROKE\\nAND DOLPHIN WIGGLES\\nTHIS CLASS FOCUSES ON STROKE CORRECTION OF ALL STROKES,\\nDIVES AND TURNS AND STARTS\\nTHIS CLASS ENHANCES FOUNDATION OF SKILL DEVELOPMENT\\nPROVIDING A NON-COMPETITIVE ENVIRONMENT, HELPING WITH\\nDISTANCE SWIMMING', metadata={'source': '/content/WIRAC LTS Timetable.pdf', 'page': 0}), Document(page_content='SQUAD\\nDID YOU KNOW?\\nRegular swimming lessons  assist the development of\\ngross motor skills, coordination and the left and right\\nsides of the brain. Because swimming is an ambidextrous\\nactivity, it is thought to boost language development and\\nhelp children learn to read and write.LEARN TO SWIM MORNING CLASSES\\nAFTERNOON CLASSES8:30AM\\n9:00AM 9:00AM 9:00AM 11:00AM 8:30AM\\n9:30AM 10:00AM 9:30AM 9:00AM 9:30AM 9:30AM10:00AM 10:30AM 10:00AM 10:00AM 9:00AM 10:00AM\\n11:00AM9:30AM10:30AM9:30AM 9:30AM\\n10:30AM10:30AM10:00AM\\n10:30AM\\n9:30AM\\n10:30AM9:00AM\\n10:00AM\\n11:00AM11:00AM', metadata={'source': '/content/WIRAC LTS Timetable.pdf', 'page': 1}), Document(page_content='Learn To Swim\\nInfo Book\\n9TH EDITION\\nCall 1300kidswim', metadata={'source': '/content/dipadees_learntoswim_infobk.pdf', 'page': 0})]\n"
          ]
        }
      ]
    },
    {
      "cell_type": "code",
      "source": [
        "print(results[1].page_content)"
      ],
      "metadata": {
        "colab": {
          "base_uri": "https://localhost:8080/"
        },
        "id": "U7zm7Wm25bD1",
        "outputId": "79fbc236-c043-4e27-a8fb-123aacaaaf6d"
      },
      "execution_count": null,
      "outputs": [
        {
          "output_type": "stream",
          "name": "stdout",
          "text": [
            "SQUAD\n",
            "DID YOU KNOW?\n",
            "Regular swimming lessons  assist the development of\n",
            "gross motor skills, coordination and the left and right\n",
            "sides of the brain. Because swimming is an ambidextrous\n",
            "activity, it is thought to boost language development and\n",
            "help children learn to read and write.LEARN TO SWIM MORNING CLASSES\n",
            "AFTERNOON CLASSES8:30AM\n",
            "9:00AM 9:00AM 9:00AM 11:00AM 8:30AM\n",
            "9:30AM 10:00AM 9:30AM 9:00AM 9:30AM 9:30AM10:00AM 10:30AM 10:00AM 10:00AM 9:00AM 10:00AM\n",
            "11:00AM9:30AM10:30AM9:30AM 9:30AM\n",
            "10:30AM10:30AM10:00AM\n",
            "10:30AM\n",
            "9:30AM\n",
            "10:30AM9:00AM\n",
            "10:00AM\n",
            "11:00AM11:00AM\n"
          ]
        }
      ]
    },
    {
      "cell_type": "code",
      "source": [
        "# Use a pipeline as a high-level helper\n",
        "from transformers import pipeline\n",
        "\n",
        "llm = pipeline(\"text2text-generation\", model=\"google/flan-t5-xxl\")"
      ],
      "metadata": {
        "colab": {
          "base_uri": "https://localhost:8080/",
          "height": 49,
          "referenced_widgets": [
            "e522de9df46d4df9846d90abdd6e8e63",
            "15669b173add4420ac71f6bacfa38f43",
            "bac18884eb7c48fa8573695df8861663",
            "1ee81e3e47ad41a39ac4fcf691eff982",
            "11d7e82808d8403c95248ba03697a0b1",
            "55cd0bbbf8664e808249a91a708b8158",
            "3a60673769694fd99839f63b35ae949c",
            "1bce1f3f4e364ab08eda712697444c69",
            "0f374d86381c42d5ab0bce97c5deb3aa",
            "151a43146df44ca18e5d38e91205aa5a",
            "81ed69b0afd040cb994f9909bc084078"
          ]
        },
        "id": "IOLKQ1xE50wC",
        "outputId": "4132469e-59b1-4e31-f698-0def01026bbf"
      },
      "execution_count": null,
      "outputs": [
        {
          "output_type": "display_data",
          "data": {
            "text/plain": [
              "Loading checkpoint shards:   0%|          | 0/5 [00:00<?, ?it/s]"
            ],
            "application/vnd.jupyter.widget-view+json": {
              "version_major": 2,
              "version_minor": 0,
              "model_id": "e522de9df46d4df9846d90abdd6e8e63"
            }
          },
          "metadata": {}
        }
      ]
    },
    {
      "cell_type": "code",
      "source": [
        "from langchain.chains import ConversationalRetrievalChain\n",
        "retriever=vector_store.as_retriever()\n",
        "qa = ConversationalRetrievalChain.from_llm(\n",
        "    llm,\n",
        "    retriever=retriever,\n",
        "    memory=memory\n",
        ")"
      ],
      "metadata": {
        "id": "VXdNScdB7s1u"
      },
      "execution_count": null,
      "outputs": []
    },
    {
      "cell_type": "code",
      "source": [
        "# define a query to ask the system\n",
        "query = \"What is the swimming class about?\"\n",
        "\n",
        "# run the system and get a response\n",
        "qa.run(query)"
      ],
      "metadata": {
        "id": "3HwALh0F6Lj2"
      },
      "execution_count": null,
      "outputs": []
    },
    {
      "cell_type": "code",
      "source": [
        "# Create an infinite loop to interact with the system, asking the user to enter a query or exit the program\n",
        "import sys\n",
        "\n",
        "while True:\n",
        "  user_input = input(f\"Input Prompt: \")\n",
        "  if user_input == 'exit':\n",
        "    print('Exiting')\n",
        "    sys.exit()\n",
        "  if user_input == '':\n",
        "    continue\n",
        "  # pass the query to the system and print the response\n",
        "  result = qa({'query': user_input})\n",
        "  print(f\"Answer: {result['result']}\")"
      ],
      "metadata": {
        "id": "6Sxc2zgr6OQy"
      },
      "execution_count": null,
      "outputs": []
    }
  ]
}