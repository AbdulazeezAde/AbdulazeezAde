{
  "cells": [
    {
      "cell_type": "markdown",
      "metadata": {
        "id": "view-in-github",
        "colab_type": "text"
      },
      "source": [
        "<a href=\"https://colab.research.google.com/github/AbdulazeezAde/AbdulazeezAde/blob/main/marketing_analytic.ipynb\" target=\"_parent\"><img src=\"https://colab.research.google.com/assets/colab-badge.svg\" alt=\"Open In Colab\"/></a>"
      ]
    },
    {
      "cell_type": "code",
      "execution_count": null,
      "id": "29ef61d5",
      "metadata": {
        "_cell_guid": "b1076dfc-b9ad-4769-8c92-a6c4dae69d19",
        "_uuid": "8f2839f25d086af736a60e9eeb907d3b93b6e0e5",
        "execution": {
          "iopub.execute_input": "2022-07-26T22:18:27.086274Z",
          "iopub.status.busy": "2022-07-26T22:18:27.085805Z",
          "iopub.status.idle": "2022-07-26T22:18:27.107921Z",
          "shell.execute_reply": "2022-07-26T22:18:27.106136Z"
        },
        "papermill": {
          "duration": 0.044047,
          "end_time": "2022-07-26T22:18:27.110818",
          "exception": false,
          "start_time": "2022-07-26T22:18:27.066771",
          "status": "completed"
        },
        "tags": [],
        "id": "29ef61d5",
        "outputId": "7194905a-6cdc-48f4-b26f-7ac37400029a"
      },
      "outputs": [
        {
          "name": "stdout",
          "output_type": "stream",
          "text": [
            "/kaggle/input/marketing-data/ifood_df.csv\n",
            "/kaggle/input/marketing-data/dictionary.png\n"
          ]
        }
      ],
      "source": [
        "# This Python 3 environment comes with many helpful analytics libraries installed\n",
        "# It is defined by the kaggle/python Docker image: https://github.com/kaggle/docker-python\n",
        "# For example, here's several helpful packages to load\n",
        "\n",
        "import numpy as np # linear algebra\n",
        "import pandas as pd # data processing, CSV file I/O (e.g. pd.read_csv)\n",
        "\n",
        "# Input data files are available in the read-only \"../input/\" directory\n",
        "# For example, running this (by clicking run or pressing Shift+Enter) will list all files under the input directory\n",
        "\n",
        "import os\n",
        "for dirname, _, filenames in os.walk('/kaggle/input'):\n",
        "    for filename in filenames:\n",
        "        print(os.path.join(dirname, filename))\n",
        "\n",
        "# You can write up to 20GB to the current directory (/kaggle/working/) that gets preserved as output when you create a version using \"Save & Run All\" \n",
        "# You can also write temporary files to /kaggle/temp/, but they won't be saved outside of the current session"
      ]
    },
    {
      "cell_type": "markdown",
      "id": "a8412fba",
      "metadata": {
        "papermill": {
          "duration": 0.015909,
          "end_time": "2022-07-26T22:18:27.143617",
          "exception": false,
          "start_time": "2022-07-26T22:18:27.127708",
          "status": "completed"
        },
        "tags": [],
        "id": "a8412fba"
      },
      "source": [
        "# Marketing Analytics Exploratory Data Analysis (EDA)\n",
        "\n",
        "A Food company wants to produce the highest profit for the next direct marketing campaign, scheduled for the next month. A pilot campaign involving 2,206 customers was carried out, customers who bought the offer was clearly labeled. \n",
        "\n",
        "The objective for the team is to understand the characteristic features of those customers. As part of this analysis, we will explore the data"
      ]
    },
    {
      "cell_type": "markdown",
      "id": "21716e9f",
      "metadata": {
        "papermill": {
          "duration": 0.016427,
          "end_time": "2022-07-26T22:18:27.178513",
          "exception": false,
          "start_time": "2022-07-26T22:18:27.162086",
          "status": "completed"
        },
        "tags": [],
        "id": "21716e9f"
      },
      "source": [
        "## Imports\n",
        "** Import libraries used in the EDA **"
      ]
    },
    {
      "cell_type": "code",
      "execution_count": null,
      "id": "6aa08399",
      "metadata": {
        "execution": {
          "iopub.execute_input": "2022-07-26T22:18:27.212877Z",
          "iopub.status.busy": "2022-07-26T22:18:27.212054Z",
          "iopub.status.idle": "2022-07-26T22:18:28.430702Z",
          "shell.execute_reply": "2022-07-26T22:18:28.429370Z"
        },
        "papermill": {
          "duration": 1.238997,
          "end_time": "2022-07-26T22:18:28.433675",
          "exception": false,
          "start_time": "2022-07-26T22:18:27.194678",
          "status": "completed"
        },
        "tags": [],
        "id": "6aa08399"
      },
      "outputs": [],
      "source": [
        "import pandas as pd\n",
        "import numpy as np\n",
        "import matplotlib.pyplot as plt\n",
        "import seaborn as sns"
      ]
    },
    {
      "cell_type": "code",
      "source": [
        "from google.colab import files\n",
        "uploaded = files.upload()"
      ],
      "metadata": {
        "id": "jNyepNyuORo4",
        "colab": {
          "base_uri": "https://localhost:8080/",
          "height": 107
        },
        "outputId": "704cce8d-af12-42a3-aa11-6c0ac58f39d3"
      },
      "id": "jNyepNyuORo4",
      "execution_count": null,
      "outputs": [
        {
          "output_type": "display_data",
          "data": {
            "text/plain": [
              "<IPython.core.display.HTML object>"
            ],
            "text/html": [
              "\n",
              "     <input type=\"file\" id=\"files-8afde41d-f4a6-4e08-8be5-0ed063415695\" name=\"files[]\" multiple disabled\n",
              "        style=\"border:none\" />\n",
              "     <output id=\"result-8afde41d-f4a6-4e08-8be5-0ed063415695\">\n",
              "      Upload widget is only available when the cell has been executed in the\n",
              "      current browser session. Please rerun this cell to enable.\n",
              "      </output>\n",
              "      <script>// Copyright 2017 Google LLC\n",
              "//\n",
              "// Licensed under the Apache License, Version 2.0 (the \"License\");\n",
              "// you may not use this file except in compliance with the License.\n",
              "// You may obtain a copy of the License at\n",
              "//\n",
              "//      http://www.apache.org/licenses/LICENSE-2.0\n",
              "//\n",
              "// Unless required by applicable law or agreed to in writing, software\n",
              "// distributed under the License is distributed on an \"AS IS\" BASIS,\n",
              "// WITHOUT WARRANTIES OR CONDITIONS OF ANY KIND, either express or implied.\n",
              "// See the License for the specific language governing permissions and\n",
              "// limitations under the License.\n",
              "\n",
              "/**\n",
              " * @fileoverview Helpers for google.colab Python module.\n",
              " */\n",
              "(function(scope) {\n",
              "function span(text, styleAttributes = {}) {\n",
              "  const element = document.createElement('span');\n",
              "  element.textContent = text;\n",
              "  for (const key of Object.keys(styleAttributes)) {\n",
              "    element.style[key] = styleAttributes[key];\n",
              "  }\n",
              "  return element;\n",
              "}\n",
              "\n",
              "// Max number of bytes which will be uploaded at a time.\n",
              "const MAX_PAYLOAD_SIZE = 100 * 1024;\n",
              "\n",
              "function _uploadFiles(inputId, outputId) {\n",
              "  const steps = uploadFilesStep(inputId, outputId);\n",
              "  const outputElement = document.getElementById(outputId);\n",
              "  // Cache steps on the outputElement to make it available for the next call\n",
              "  // to uploadFilesContinue from Python.\n",
              "  outputElement.steps = steps;\n",
              "\n",
              "  return _uploadFilesContinue(outputId);\n",
              "}\n",
              "\n",
              "// This is roughly an async generator (not supported in the browser yet),\n",
              "// where there are multiple asynchronous steps and the Python side is going\n",
              "// to poll for completion of each step.\n",
              "// This uses a Promise to block the python side on completion of each step,\n",
              "// then passes the result of the previous step as the input to the next step.\n",
              "function _uploadFilesContinue(outputId) {\n",
              "  const outputElement = document.getElementById(outputId);\n",
              "  const steps = outputElement.steps;\n",
              "\n",
              "  const next = steps.next(outputElement.lastPromiseValue);\n",
              "  return Promise.resolve(next.value.promise).then((value) => {\n",
              "    // Cache the last promise value to make it available to the next\n",
              "    // step of the generator.\n",
              "    outputElement.lastPromiseValue = value;\n",
              "    return next.value.response;\n",
              "  });\n",
              "}\n",
              "\n",
              "/**\n",
              " * Generator function which is called between each async step of the upload\n",
              " * process.\n",
              " * @param {string} inputId Element ID of the input file picker element.\n",
              " * @param {string} outputId Element ID of the output display.\n",
              " * @return {!Iterable<!Object>} Iterable of next steps.\n",
              " */\n",
              "function* uploadFilesStep(inputId, outputId) {\n",
              "  const inputElement = document.getElementById(inputId);\n",
              "  inputElement.disabled = false;\n",
              "\n",
              "  const outputElement = document.getElementById(outputId);\n",
              "  outputElement.innerHTML = '';\n",
              "\n",
              "  const pickedPromise = new Promise((resolve) => {\n",
              "    inputElement.addEventListener('change', (e) => {\n",
              "      resolve(e.target.files);\n",
              "    });\n",
              "  });\n",
              "\n",
              "  const cancel = document.createElement('button');\n",
              "  inputElement.parentElement.appendChild(cancel);\n",
              "  cancel.textContent = 'Cancel upload';\n",
              "  const cancelPromise = new Promise((resolve) => {\n",
              "    cancel.onclick = () => {\n",
              "      resolve(null);\n",
              "    };\n",
              "  });\n",
              "\n",
              "  // Wait for the user to pick the files.\n",
              "  const files = yield {\n",
              "    promise: Promise.race([pickedPromise, cancelPromise]),\n",
              "    response: {\n",
              "      action: 'starting',\n",
              "    }\n",
              "  };\n",
              "\n",
              "  cancel.remove();\n",
              "\n",
              "  // Disable the input element since further picks are not allowed.\n",
              "  inputElement.disabled = true;\n",
              "\n",
              "  if (!files) {\n",
              "    return {\n",
              "      response: {\n",
              "        action: 'complete',\n",
              "      }\n",
              "    };\n",
              "  }\n",
              "\n",
              "  for (const file of files) {\n",
              "    const li = document.createElement('li');\n",
              "    li.append(span(file.name, {fontWeight: 'bold'}));\n",
              "    li.append(span(\n",
              "        `(${file.type || 'n/a'}) - ${file.size} bytes, ` +\n",
              "        `last modified: ${\n",
              "            file.lastModifiedDate ? file.lastModifiedDate.toLocaleDateString() :\n",
              "                                    'n/a'} - `));\n",
              "    const percent = span('0% done');\n",
              "    li.appendChild(percent);\n",
              "\n",
              "    outputElement.appendChild(li);\n",
              "\n",
              "    const fileDataPromise = new Promise((resolve) => {\n",
              "      const reader = new FileReader();\n",
              "      reader.onload = (e) => {\n",
              "        resolve(e.target.result);\n",
              "      };\n",
              "      reader.readAsArrayBuffer(file);\n",
              "    });\n",
              "    // Wait for the data to be ready.\n",
              "    let fileData = yield {\n",
              "      promise: fileDataPromise,\n",
              "      response: {\n",
              "        action: 'continue',\n",
              "      }\n",
              "    };\n",
              "\n",
              "    // Use a chunked sending to avoid message size limits. See b/62115660.\n",
              "    let position = 0;\n",
              "    do {\n",
              "      const length = Math.min(fileData.byteLength - position, MAX_PAYLOAD_SIZE);\n",
              "      const chunk = new Uint8Array(fileData, position, length);\n",
              "      position += length;\n",
              "\n",
              "      const base64 = btoa(String.fromCharCode.apply(null, chunk));\n",
              "      yield {\n",
              "        response: {\n",
              "          action: 'append',\n",
              "          file: file.name,\n",
              "          data: base64,\n",
              "        },\n",
              "      };\n",
              "\n",
              "      let percentDone = fileData.byteLength === 0 ?\n",
              "          100 :\n",
              "          Math.round((position / fileData.byteLength) * 100);\n",
              "      percent.textContent = `${percentDone}% done`;\n",
              "\n",
              "    } while (position < fileData.byteLength);\n",
              "  }\n",
              "\n",
              "  // All done.\n",
              "  yield {\n",
              "    response: {\n",
              "      action: 'complete',\n",
              "    }\n",
              "  };\n",
              "}\n",
              "\n",
              "scope.google = scope.google || {};\n",
              "scope.google.colab = scope.google.colab || {};\n",
              "scope.google.colab._files = {\n",
              "  _uploadFiles,\n",
              "  _uploadFilesContinue,\n",
              "};\n",
              "})(self);\n",
              "</script> "
            ]
          },
          "metadata": {}
        },
        {
          "output_type": "stream",
          "name": "stdout",
          "text": [
            "Saving ifood.csv to ifood.csv\n"
          ]
        }
      ]
    },
    {
      "cell_type": "code",
      "source": [
        "import io\n",
        "df2=pd.read_csv(io.BytesIO(uploaded['ifood.csv']))"
      ],
      "metadata": {
        "id": "HQOdLqqgOjCQ"
      },
      "id": "HQOdLqqgOjCQ",
      "execution_count": null,
      "outputs": []
    },
    {
      "cell_type": "markdown",
      "id": "3fc26bd2",
      "metadata": {
        "papermill": {
          "duration": 0.016083,
          "end_time": "2022-07-26T22:18:28.466325",
          "exception": false,
          "start_time": "2022-07-26T22:18:28.450242",
          "status": "completed"
        },
        "tags": [],
        "id": "3fc26bd2"
      },
      "source": [
        "## Get the Data\n",
        "\n",
        "We will work with the ifood_df.csv from the company. It has income, no of kids/ teens in a family, different expenses, marital & educational status."
      ]
    },
    {
      "cell_type": "markdown",
      "id": "469c0705",
      "metadata": {
        "papermill": {
          "duration": 0.016772,
          "end_time": "2022-07-26T22:18:28.603995",
          "exception": false,
          "start_time": "2022-07-26T22:18:28.587223",
          "status": "completed"
        },
        "tags": [],
        "id": "469c0705"
      },
      "source": [
        "**Next, shape of the dataframe**"
      ]
    },
    {
      "cell_type": "code",
      "execution_count": null,
      "id": "d7204283",
      "metadata": {
        "execution": {
          "iopub.execute_input": "2022-07-26T22:18:28.500835Z",
          "iopub.status.busy": "2022-07-26T22:18:28.500452Z",
          "iopub.status.idle": "2022-07-26T22:18:28.564521Z",
          "shell.execute_reply": "2022-07-26T22:18:28.563426Z"
        },
        "papermill": {
          "duration": 0.084002,
          "end_time": "2022-07-26T22:18:28.566986",
          "exception": false,
          "start_time": "2022-07-26T22:18:28.482984",
          "status": "completed"
        },
        "tags": [],
        "id": "d7204283",
        "outputId": "1dd27792-694c-46d5-e176-a35527bcbd33",
        "colab": {
          "base_uri": "https://localhost:8080/",
          "height": 299
        }
      },
      "outputs": [
        {
          "output_type": "execute_result",
          "data": {
            "text/plain": [
              "   Income  Kidhome  Teenhome  Recency  Wines  Fruits  MeatProducts  \\\n",
              "0   58138        0         0       58    635      88           546   \n",
              "1   46344        1         1       38     11       1             6   \n",
              "2   71613        0         0       26    426      49           127   \n",
              "3   26646        1         0       26     11       4            20   \n",
              "4   58293        1         0       94    173      43           118   \n",
              "\n",
              "   FishProducts  SweetProducts  GoldProds  ...  marital_status_Together  \\\n",
              "0           172             88         88  ...                        0   \n",
              "1             2              1          6  ...                        0   \n",
              "2           111             21         42  ...                        1   \n",
              "3            10              3          5  ...                        1   \n",
              "4            46             27         15  ...                        0   \n",
              "\n",
              "   marital_status_Widow  education_2n Cycle  education_Basic  \\\n",
              "0                     0                   0                0   \n",
              "1                     0                   0                0   \n",
              "2                     0                   0                0   \n",
              "3                     0                   0                0   \n",
              "4                     0                   0                0   \n",
              "\n",
              "   education_Graduation  education_Master  education_PhD  MntTotal  \\\n",
              "0                     1                 0              0      1529   \n",
              "1                     1                 0              0        21   \n",
              "2                     1                 0              0       734   \n",
              "3                     1                 0              0        48   \n",
              "4                     0                 0              1       407   \n",
              "\n",
              "   MntRegularProds  AcceptedCmpOverall  \n",
              "0             1441                   0  \n",
              "1               15                   0  \n",
              "2              692                   0  \n",
              "3               43                   0  \n",
              "4              392                   0  \n",
              "\n",
              "[5 rows x 39 columns]"
            ],
            "text/html": [
              "\n",
              "  <div id=\"df-b78652b0-37c8-4a99-a2a3-0c2071cad674\">\n",
              "    <div class=\"colab-df-container\">\n",
              "      <div>\n",
              "<style scoped>\n",
              "    .dataframe tbody tr th:only-of-type {\n",
              "        vertical-align: middle;\n",
              "    }\n",
              "\n",
              "    .dataframe tbody tr th {\n",
              "        vertical-align: top;\n",
              "    }\n",
              "\n",
              "    .dataframe thead th {\n",
              "        text-align: right;\n",
              "    }\n",
              "</style>\n",
              "<table border=\"1\" class=\"dataframe\">\n",
              "  <thead>\n",
              "    <tr style=\"text-align: right;\">\n",
              "      <th></th>\n",
              "      <th>Income</th>\n",
              "      <th>Kidhome</th>\n",
              "      <th>Teenhome</th>\n",
              "      <th>Recency</th>\n",
              "      <th>Wines</th>\n",
              "      <th>Fruits</th>\n",
              "      <th>MeatProducts</th>\n",
              "      <th>FishProducts</th>\n",
              "      <th>SweetProducts</th>\n",
              "      <th>GoldProds</th>\n",
              "      <th>...</th>\n",
              "      <th>marital_status_Together</th>\n",
              "      <th>marital_status_Widow</th>\n",
              "      <th>education_2n Cycle</th>\n",
              "      <th>education_Basic</th>\n",
              "      <th>education_Graduation</th>\n",
              "      <th>education_Master</th>\n",
              "      <th>education_PhD</th>\n",
              "      <th>MntTotal</th>\n",
              "      <th>MntRegularProds</th>\n",
              "      <th>AcceptedCmpOverall</th>\n",
              "    </tr>\n",
              "  </thead>\n",
              "  <tbody>\n",
              "    <tr>\n",
              "      <th>0</th>\n",
              "      <td>58138</td>\n",
              "      <td>0</td>\n",
              "      <td>0</td>\n",
              "      <td>58</td>\n",
              "      <td>635</td>\n",
              "      <td>88</td>\n",
              "      <td>546</td>\n",
              "      <td>172</td>\n",
              "      <td>88</td>\n",
              "      <td>88</td>\n",
              "      <td>...</td>\n",
              "      <td>0</td>\n",
              "      <td>0</td>\n",
              "      <td>0</td>\n",
              "      <td>0</td>\n",
              "      <td>1</td>\n",
              "      <td>0</td>\n",
              "      <td>0</td>\n",
              "      <td>1529</td>\n",
              "      <td>1441</td>\n",
              "      <td>0</td>\n",
              "    </tr>\n",
              "    <tr>\n",
              "      <th>1</th>\n",
              "      <td>46344</td>\n",
              "      <td>1</td>\n",
              "      <td>1</td>\n",
              "      <td>38</td>\n",
              "      <td>11</td>\n",
              "      <td>1</td>\n",
              "      <td>6</td>\n",
              "      <td>2</td>\n",
              "      <td>1</td>\n",
              "      <td>6</td>\n",
              "      <td>...</td>\n",
              "      <td>0</td>\n",
              "      <td>0</td>\n",
              "      <td>0</td>\n",
              "      <td>0</td>\n",
              "      <td>1</td>\n",
              "      <td>0</td>\n",
              "      <td>0</td>\n",
              "      <td>21</td>\n",
              "      <td>15</td>\n",
              "      <td>0</td>\n",
              "    </tr>\n",
              "    <tr>\n",
              "      <th>2</th>\n",
              "      <td>71613</td>\n",
              "      <td>0</td>\n",
              "      <td>0</td>\n",
              "      <td>26</td>\n",
              "      <td>426</td>\n",
              "      <td>49</td>\n",
              "      <td>127</td>\n",
              "      <td>111</td>\n",
              "      <td>21</td>\n",
              "      <td>42</td>\n",
              "      <td>...</td>\n",
              "      <td>1</td>\n",
              "      <td>0</td>\n",
              "      <td>0</td>\n",
              "      <td>0</td>\n",
              "      <td>1</td>\n",
              "      <td>0</td>\n",
              "      <td>0</td>\n",
              "      <td>734</td>\n",
              "      <td>692</td>\n",
              "      <td>0</td>\n",
              "    </tr>\n",
              "    <tr>\n",
              "      <th>3</th>\n",
              "      <td>26646</td>\n",
              "      <td>1</td>\n",
              "      <td>0</td>\n",
              "      <td>26</td>\n",
              "      <td>11</td>\n",
              "      <td>4</td>\n",
              "      <td>20</td>\n",
              "      <td>10</td>\n",
              "      <td>3</td>\n",
              "      <td>5</td>\n",
              "      <td>...</td>\n",
              "      <td>1</td>\n",
              "      <td>0</td>\n",
              "      <td>0</td>\n",
              "      <td>0</td>\n",
              "      <td>1</td>\n",
              "      <td>0</td>\n",
              "      <td>0</td>\n",
              "      <td>48</td>\n",
              "      <td>43</td>\n",
              "      <td>0</td>\n",
              "    </tr>\n",
              "    <tr>\n",
              "      <th>4</th>\n",
              "      <td>58293</td>\n",
              "      <td>1</td>\n",
              "      <td>0</td>\n",
              "      <td>94</td>\n",
              "      <td>173</td>\n",
              "      <td>43</td>\n",
              "      <td>118</td>\n",
              "      <td>46</td>\n",
              "      <td>27</td>\n",
              "      <td>15</td>\n",
              "      <td>...</td>\n",
              "      <td>0</td>\n",
              "      <td>0</td>\n",
              "      <td>0</td>\n",
              "      <td>0</td>\n",
              "      <td>0</td>\n",
              "      <td>0</td>\n",
              "      <td>1</td>\n",
              "      <td>407</td>\n",
              "      <td>392</td>\n",
              "      <td>0</td>\n",
              "    </tr>\n",
              "  </tbody>\n",
              "</table>\n",
              "<p>5 rows × 39 columns</p>\n",
              "</div>\n",
              "      <button class=\"colab-df-convert\" onclick=\"convertToInteractive('df-b78652b0-37c8-4a99-a2a3-0c2071cad674')\"\n",
              "              title=\"Convert this dataframe to an interactive table.\"\n",
              "              style=\"display:none;\">\n",
              "        \n",
              "  <svg xmlns=\"http://www.w3.org/2000/svg\" height=\"24px\"viewBox=\"0 0 24 24\"\n",
              "       width=\"24px\">\n",
              "    <path d=\"M0 0h24v24H0V0z\" fill=\"none\"/>\n",
              "    <path d=\"M18.56 5.44l.94 2.06.94-2.06 2.06-.94-2.06-.94-.94-2.06-.94 2.06-2.06.94zm-11 1L8.5 8.5l.94-2.06 2.06-.94-2.06-.94L8.5 2.5l-.94 2.06-2.06.94zm10 10l.94 2.06.94-2.06 2.06-.94-2.06-.94-.94-2.06-.94 2.06-2.06.94z\"/><path d=\"M17.41 7.96l-1.37-1.37c-.4-.4-.92-.59-1.43-.59-.52 0-1.04.2-1.43.59L10.3 9.45l-7.72 7.72c-.78.78-.78 2.05 0 2.83L4 21.41c.39.39.9.59 1.41.59.51 0 1.02-.2 1.41-.59l7.78-7.78 2.81-2.81c.8-.78.8-2.07 0-2.86zM5.41 20L4 18.59l7.72-7.72 1.47 1.35L5.41 20z\"/>\n",
              "  </svg>\n",
              "      </button>\n",
              "      \n",
              "  <style>\n",
              "    .colab-df-container {\n",
              "      display:flex;\n",
              "      flex-wrap:wrap;\n",
              "      gap: 12px;\n",
              "    }\n",
              "\n",
              "    .colab-df-convert {\n",
              "      background-color: #E8F0FE;\n",
              "      border: none;\n",
              "      border-radius: 50%;\n",
              "      cursor: pointer;\n",
              "      display: none;\n",
              "      fill: #1967D2;\n",
              "      height: 32px;\n",
              "      padding: 0 0 0 0;\n",
              "      width: 32px;\n",
              "    }\n",
              "\n",
              "    .colab-df-convert:hover {\n",
              "      background-color: #E2EBFA;\n",
              "      box-shadow: 0px 1px 2px rgba(60, 64, 67, 0.3), 0px 1px 3px 1px rgba(60, 64, 67, 0.15);\n",
              "      fill: #174EA6;\n",
              "    }\n",
              "\n",
              "    [theme=dark] .colab-df-convert {\n",
              "      background-color: #3B4455;\n",
              "      fill: #D2E3FC;\n",
              "    }\n",
              "\n",
              "    [theme=dark] .colab-df-convert:hover {\n",
              "      background-color: #434B5C;\n",
              "      box-shadow: 0px 1px 3px 1px rgba(0, 0, 0, 0.15);\n",
              "      filter: drop-shadow(0px 1px 2px rgba(0, 0, 0, 0.3));\n",
              "      fill: #FFFFFF;\n",
              "    }\n",
              "  </style>\n",
              "\n",
              "      <script>\n",
              "        const buttonEl =\n",
              "          document.querySelector('#df-b78652b0-37c8-4a99-a2a3-0c2071cad674 button.colab-df-convert');\n",
              "        buttonEl.style.display =\n",
              "          google.colab.kernel.accessAllowed ? 'block' : 'none';\n",
              "\n",
              "        async function convertToInteractive(key) {\n",
              "          const element = document.querySelector('#df-b78652b0-37c8-4a99-a2a3-0c2071cad674');\n",
              "          const dataTable =\n",
              "            await google.colab.kernel.invokeFunction('convertToInteractive',\n",
              "                                                     [key], {});\n",
              "          if (!dataTable) return;\n",
              "\n",
              "          const docLinkHtml = 'Like what you see? Visit the ' +\n",
              "            '<a target=\"_blank\" href=https://colab.research.google.com/notebooks/data_table.ipynb>data table notebook</a>'\n",
              "            + ' to learn more about interactive tables.';\n",
              "          element.innerHTML = '';\n",
              "          dataTable['output_type'] = 'display_data';\n",
              "          await google.colab.output.renderOutput(dataTable, element);\n",
              "          const docLink = document.createElement('div');\n",
              "          docLink.innerHTML = docLinkHtml;\n",
              "          element.appendChild(docLink);\n",
              "        }\n",
              "      </script>\n",
              "    </div>\n",
              "  </div>\n",
              "  "
            ]
          },
          "metadata": {},
          "execution_count": 5
        }
      ],
      "source": [
        "\n",
        "df2.head(5)"
      ]
    },
    {
      "cell_type": "code",
      "execution_count": null,
      "id": "8911ce1b",
      "metadata": {
        "execution": {
          "iopub.execute_input": "2022-07-26T22:18:28.640774Z",
          "iopub.status.busy": "2022-07-26T22:18:28.639818Z",
          "iopub.status.idle": "2022-07-26T22:18:28.648355Z",
          "shell.execute_reply": "2022-07-26T22:18:28.647180Z"
        },
        "papermill": {
          "duration": 0.030234,
          "end_time": "2022-07-26T22:18:28.651440",
          "exception": false,
          "start_time": "2022-07-26T22:18:28.621206",
          "status": "completed"
        },
        "tags": [],
        "id": "8911ce1b",
        "outputId": "4a26978a-af83-4afb-ffde-92c0db583db1",
        "colab": {
          "base_uri": "https://localhost:8080/"
        }
      },
      "outputs": [
        {
          "output_type": "execute_result",
          "data": {
            "text/plain": [
              "(2205, 39)"
            ]
          },
          "metadata": {},
          "execution_count": 7
        }
      ],
      "source": [
        "df2.shape"
      ]
    },
    {
      "cell_type": "markdown",
      "id": "6727f04f",
      "metadata": {
        "papermill": {
          "duration": 0.017487,
          "end_time": "2022-07-26T22:18:28.687271",
          "exception": false,
          "start_time": "2022-07-26T22:18:28.669784",
          "status": "completed"
        },
        "tags": [],
        "id": "6727f04f"
      },
      "source": [
        "Dataframe contains, 2205 rows and 39 columns."
      ]
    },
    {
      "cell_type": "markdown",
      "id": "e612022c",
      "metadata": {
        "papermill": {
          "duration": 0.017349,
          "end_time": "2022-07-26T22:18:28.722410",
          "exception": false,
          "start_time": "2022-07-26T22:18:28.705061",
          "status": "completed"
        },
        "tags": [],
        "id": "e612022c"
      },
      "source": [
        "**info() of the data...**"
      ]
    },
    {
      "cell_type": "code",
      "execution_count": null,
      "id": "a0e1a752",
      "metadata": {
        "execution": {
          "iopub.execute_input": "2022-07-26T22:18:28.761181Z",
          "iopub.status.busy": "2022-07-26T22:18:28.759702Z",
          "iopub.status.idle": "2022-07-26T22:18:28.793412Z",
          "shell.execute_reply": "2022-07-26T22:18:28.791770Z"
        },
        "papermill": {
          "duration": 0.056824,
          "end_time": "2022-07-26T22:18:28.796941",
          "exception": false,
          "start_time": "2022-07-26T22:18:28.740117",
          "status": "completed"
        },
        "tags": [],
        "id": "a0e1a752",
        "outputId": "7c97fb43-7a7e-4a77-8a68-ff7c6251e755",
        "colab": {
          "base_uri": "https://localhost:8080/"
        }
      },
      "outputs": [
        {
          "output_type": "stream",
          "name": "stdout",
          "text": [
            "<class 'pandas.core.frame.DataFrame'>\n",
            "RangeIndex: 2205 entries, 0 to 2204\n",
            "Data columns (total 39 columns):\n",
            " #   Column                   Non-Null Count  Dtype\n",
            "---  ------                   --------------  -----\n",
            " 0   Income                   2205 non-null   int64\n",
            " 1   Kidhome                  2205 non-null   int64\n",
            " 2   Teenhome                 2205 non-null   int64\n",
            " 3   Recency                  2205 non-null   int64\n",
            " 4   Wines                    2205 non-null   int64\n",
            " 5   Fruits                   2205 non-null   int64\n",
            " 6   MeatProducts             2205 non-null   int64\n",
            " 7   FishProducts             2205 non-null   int64\n",
            " 8   SweetProducts            2205 non-null   int64\n",
            " 9   GoldProds                2205 non-null   int64\n",
            " 10  DealsPurchases           2205 non-null   int64\n",
            " 11  Num_ of_WebPurchases     2205 non-null   int64\n",
            " 12  Num_of_CatalogPurchases  2205 non-null   int64\n",
            " 13  Num_of_StorePurchases    2205 non-null   int64\n",
            " 14  Num_of_WebVisits         2205 non-null   int64\n",
            " 15  AcceptedCmp3             2205 non-null   int64\n",
            " 16  AcceptedCmp4             2205 non-null   int64\n",
            " 17  AcceptedCmp5             2205 non-null   int64\n",
            " 18  AcceptedCmp1             2205 non-null   int64\n",
            " 19  AcceptedCmp2             2205 non-null   int64\n",
            " 20  Complain                 2205 non-null   int64\n",
            " 21  Z_CostContact            2205 non-null   int64\n",
            " 22  Z_Revenue                2205 non-null   int64\n",
            " 23  Response                 2205 non-null   int64\n",
            " 24  Age                      2205 non-null   int64\n",
            " 25  Customer_Days            2205 non-null   int64\n",
            " 26  marital_status_Divorced  2205 non-null   int64\n",
            " 27  marital_status_Married   2205 non-null   int64\n",
            " 28  marital_status_Single    2205 non-null   int64\n",
            " 29  marital_status_Together  2205 non-null   int64\n",
            " 30  marital_status_Widow     2205 non-null   int64\n",
            " 31  education_2n Cycle       2205 non-null   int64\n",
            " 32  education_Basic          2205 non-null   int64\n",
            " 33  education_Graduation     2205 non-null   int64\n",
            " 34  education_Master         2205 non-null   int64\n",
            " 35  education_PhD            2205 non-null   int64\n",
            " 36  MntTotal                 2205 non-null   int64\n",
            " 37  MntRegularProds          2205 non-null   int64\n",
            " 38  AcceptedCmpOverall       2205 non-null   int64\n",
            "dtypes: int64(39)\n",
            "memory usage: 672.0 KB\n"
          ]
        }
      ],
      "source": [
        "df2.info()"
      ]
    },
    {
      "cell_type": "markdown",
      "id": "63275ba3",
      "metadata": {
        "papermill": {
          "duration": 0.017837,
          "end_time": "2022-07-26T22:18:28.832469",
          "exception": false,
          "start_time": "2022-07-26T22:18:28.814632",
          "status": "completed"
        },
        "tags": [],
        "id": "63275ba3"
      },
      "source": [
        "All the columns are of integer type except income which is of Float. All columns have non-null values as count is 2205 in each column. "
      ]
    },
    {
      "cell_type": "markdown",
      "id": "d31bfde6",
      "metadata": {
        "papermill": {
          "duration": 0.018,
          "end_time": "2022-07-26T22:18:28.868978",
          "exception": false,
          "start_time": "2022-07-26T22:18:28.850978",
          "status": "completed"
        },
        "tags": [],
        "id": "d31bfde6"
      },
      "source": [
        "## Statistical Analysis\n",
        "\n",
        "describe() on the data..."
      ]
    },
    {
      "cell_type": "code",
      "execution_count": null,
      "id": "3b2f6694",
      "metadata": {
        "execution": {
          "iopub.execute_input": "2022-07-26T22:18:28.908005Z",
          "iopub.status.busy": "2022-07-26T22:18:28.906781Z",
          "iopub.status.idle": "2022-07-26T22:18:29.054160Z",
          "shell.execute_reply": "2022-07-26T22:18:29.052856Z"
        },
        "papermill": {
          "duration": 0.169997,
          "end_time": "2022-07-26T22:18:29.057135",
          "exception": false,
          "start_time": "2022-07-26T22:18:28.887138",
          "status": "completed"
        },
        "tags": [],
        "id": "3b2f6694",
        "outputId": "057cb102-08fa-43ce-82ce-0f00e60aa1c1",
        "colab": {
          "base_uri": "https://localhost:8080/",
          "height": 391
        }
      },
      "outputs": [
        {
          "output_type": "execute_result",
          "data": {
            "text/plain": [
              "              Income      Kidhome     Teenhome      Recency        Wines  \\\n",
              "count    2205.000000  2205.000000  2205.000000  2205.000000  2205.000000   \n",
              "mean    51622.094785     0.442177     0.506576    49.009070   306.164626   \n",
              "std     20713.063826     0.537132     0.544380    28.932111   337.493839   \n",
              "min      1730.000000     0.000000     0.000000     0.000000     0.000000   \n",
              "25%     35196.000000     0.000000     0.000000    24.000000    24.000000   \n",
              "50%     51287.000000     0.000000     0.000000    49.000000   178.000000   \n",
              "75%     68281.000000     1.000000     1.000000    74.000000   507.000000   \n",
              "max    113734.000000     2.000000     2.000000    99.000000  1493.000000   \n",
              "\n",
              "            Fruits  MeatProducts  FishProducts  SweetProducts    GoldProds  \\\n",
              "count  2205.000000   2205.000000   2205.000000    2205.000000  2205.000000   \n",
              "mean     26.403175    165.312018     37.756463      27.128345    44.057143   \n",
              "std      39.784484    217.784507     54.824635      41.130468    51.736211   \n",
              "min       0.000000      0.000000      0.000000       0.000000     0.000000   \n",
              "25%       2.000000     16.000000      3.000000       1.000000     9.000000   \n",
              "50%       8.000000     68.000000     12.000000       8.000000    25.000000   \n",
              "75%      33.000000    232.000000     50.000000      34.000000    56.000000   \n",
              "max     199.000000   1725.000000    259.000000     262.000000   321.000000   \n",
              "\n",
              "       ...  marital_status_Together  marital_status_Widow  education_2n Cycle  \\\n",
              "count  ...              2205.000000           2205.000000         2205.000000   \n",
              "mean   ...                 0.257596              0.034467            0.089796   \n",
              "std    ...                 0.437410              0.182467            0.285954   \n",
              "min    ...                 0.000000              0.000000            0.000000   \n",
              "25%    ...                 0.000000              0.000000            0.000000   \n",
              "50%    ...                 0.000000              0.000000            0.000000   \n",
              "75%    ...                 1.000000              0.000000            0.000000   \n",
              "max    ...                 1.000000              1.000000            1.000000   \n",
              "\n",
              "       education_Basic  education_Graduation  education_Master  education_PhD  \\\n",
              "count      2205.000000           2205.000000       2205.000000    2205.000000   \n",
              "mean          0.024490              0.504762          0.165079       0.215873   \n",
              "std           0.154599              0.500091          0.371336       0.411520   \n",
              "min           0.000000              0.000000          0.000000       0.000000   \n",
              "25%           0.000000              0.000000          0.000000       0.000000   \n",
              "50%           0.000000              1.000000          0.000000       0.000000   \n",
              "75%           0.000000              1.000000          0.000000       0.000000   \n",
              "max           1.000000              1.000000          1.000000       1.000000   \n",
              "\n",
              "          MntTotal  MntRegularProds  AcceptedCmpOverall  \n",
              "count  2205.000000      2205.000000          2205.00000  \n",
              "mean    562.764626       518.707483             0.29932  \n",
              "std     575.936911       553.847248             0.68044  \n",
              "min       4.000000      -283.000000             0.00000  \n",
              "25%      56.000000        42.000000             0.00000  \n",
              "50%     343.000000       288.000000             0.00000  \n",
              "75%     964.000000       884.000000             0.00000  \n",
              "max    2491.000000      2458.000000             4.00000  \n",
              "\n",
              "[8 rows x 39 columns]"
            ],
            "text/html": [
              "\n",
              "  <div id=\"df-6ff0c762-025d-4486-b2c0-564281b05e40\">\n",
              "    <div class=\"colab-df-container\">\n",
              "      <div>\n",
              "<style scoped>\n",
              "    .dataframe tbody tr th:only-of-type {\n",
              "        vertical-align: middle;\n",
              "    }\n",
              "\n",
              "    .dataframe tbody tr th {\n",
              "        vertical-align: top;\n",
              "    }\n",
              "\n",
              "    .dataframe thead th {\n",
              "        text-align: right;\n",
              "    }\n",
              "</style>\n",
              "<table border=\"1\" class=\"dataframe\">\n",
              "  <thead>\n",
              "    <tr style=\"text-align: right;\">\n",
              "      <th></th>\n",
              "      <th>Income</th>\n",
              "      <th>Kidhome</th>\n",
              "      <th>Teenhome</th>\n",
              "      <th>Recency</th>\n",
              "      <th>Wines</th>\n",
              "      <th>Fruits</th>\n",
              "      <th>MeatProducts</th>\n",
              "      <th>FishProducts</th>\n",
              "      <th>SweetProducts</th>\n",
              "      <th>GoldProds</th>\n",
              "      <th>...</th>\n",
              "      <th>marital_status_Together</th>\n",
              "      <th>marital_status_Widow</th>\n",
              "      <th>education_2n Cycle</th>\n",
              "      <th>education_Basic</th>\n",
              "      <th>education_Graduation</th>\n",
              "      <th>education_Master</th>\n",
              "      <th>education_PhD</th>\n",
              "      <th>MntTotal</th>\n",
              "      <th>MntRegularProds</th>\n",
              "      <th>AcceptedCmpOverall</th>\n",
              "    </tr>\n",
              "  </thead>\n",
              "  <tbody>\n",
              "    <tr>\n",
              "      <th>count</th>\n",
              "      <td>2205.000000</td>\n",
              "      <td>2205.000000</td>\n",
              "      <td>2205.000000</td>\n",
              "      <td>2205.000000</td>\n",
              "      <td>2205.000000</td>\n",
              "      <td>2205.000000</td>\n",
              "      <td>2205.000000</td>\n",
              "      <td>2205.000000</td>\n",
              "      <td>2205.000000</td>\n",
              "      <td>2205.000000</td>\n",
              "      <td>...</td>\n",
              "      <td>2205.000000</td>\n",
              "      <td>2205.000000</td>\n",
              "      <td>2205.000000</td>\n",
              "      <td>2205.000000</td>\n",
              "      <td>2205.000000</td>\n",
              "      <td>2205.000000</td>\n",
              "      <td>2205.000000</td>\n",
              "      <td>2205.000000</td>\n",
              "      <td>2205.000000</td>\n",
              "      <td>2205.00000</td>\n",
              "    </tr>\n",
              "    <tr>\n",
              "      <th>mean</th>\n",
              "      <td>51622.094785</td>\n",
              "      <td>0.442177</td>\n",
              "      <td>0.506576</td>\n",
              "      <td>49.009070</td>\n",
              "      <td>306.164626</td>\n",
              "      <td>26.403175</td>\n",
              "      <td>165.312018</td>\n",
              "      <td>37.756463</td>\n",
              "      <td>27.128345</td>\n",
              "      <td>44.057143</td>\n",
              "      <td>...</td>\n",
              "      <td>0.257596</td>\n",
              "      <td>0.034467</td>\n",
              "      <td>0.089796</td>\n",
              "      <td>0.024490</td>\n",
              "      <td>0.504762</td>\n",
              "      <td>0.165079</td>\n",
              "      <td>0.215873</td>\n",
              "      <td>562.764626</td>\n",
              "      <td>518.707483</td>\n",
              "      <td>0.29932</td>\n",
              "    </tr>\n",
              "    <tr>\n",
              "      <th>std</th>\n",
              "      <td>20713.063826</td>\n",
              "      <td>0.537132</td>\n",
              "      <td>0.544380</td>\n",
              "      <td>28.932111</td>\n",
              "      <td>337.493839</td>\n",
              "      <td>39.784484</td>\n",
              "      <td>217.784507</td>\n",
              "      <td>54.824635</td>\n",
              "      <td>41.130468</td>\n",
              "      <td>51.736211</td>\n",
              "      <td>...</td>\n",
              "      <td>0.437410</td>\n",
              "      <td>0.182467</td>\n",
              "      <td>0.285954</td>\n",
              "      <td>0.154599</td>\n",
              "      <td>0.500091</td>\n",
              "      <td>0.371336</td>\n",
              "      <td>0.411520</td>\n",
              "      <td>575.936911</td>\n",
              "      <td>553.847248</td>\n",
              "      <td>0.68044</td>\n",
              "    </tr>\n",
              "    <tr>\n",
              "      <th>min</th>\n",
              "      <td>1730.000000</td>\n",
              "      <td>0.000000</td>\n",
              "      <td>0.000000</td>\n",
              "      <td>0.000000</td>\n",
              "      <td>0.000000</td>\n",
              "      <td>0.000000</td>\n",
              "      <td>0.000000</td>\n",
              "      <td>0.000000</td>\n",
              "      <td>0.000000</td>\n",
              "      <td>0.000000</td>\n",
              "      <td>...</td>\n",
              "      <td>0.000000</td>\n",
              "      <td>0.000000</td>\n",
              "      <td>0.000000</td>\n",
              "      <td>0.000000</td>\n",
              "      <td>0.000000</td>\n",
              "      <td>0.000000</td>\n",
              "      <td>0.000000</td>\n",
              "      <td>4.000000</td>\n",
              "      <td>-283.000000</td>\n",
              "      <td>0.00000</td>\n",
              "    </tr>\n",
              "    <tr>\n",
              "      <th>25%</th>\n",
              "      <td>35196.000000</td>\n",
              "      <td>0.000000</td>\n",
              "      <td>0.000000</td>\n",
              "      <td>24.000000</td>\n",
              "      <td>24.000000</td>\n",
              "      <td>2.000000</td>\n",
              "      <td>16.000000</td>\n",
              "      <td>3.000000</td>\n",
              "      <td>1.000000</td>\n",
              "      <td>9.000000</td>\n",
              "      <td>...</td>\n",
              "      <td>0.000000</td>\n",
              "      <td>0.000000</td>\n",
              "      <td>0.000000</td>\n",
              "      <td>0.000000</td>\n",
              "      <td>0.000000</td>\n",
              "      <td>0.000000</td>\n",
              "      <td>0.000000</td>\n",
              "      <td>56.000000</td>\n",
              "      <td>42.000000</td>\n",
              "      <td>0.00000</td>\n",
              "    </tr>\n",
              "    <tr>\n",
              "      <th>50%</th>\n",
              "      <td>51287.000000</td>\n",
              "      <td>0.000000</td>\n",
              "      <td>0.000000</td>\n",
              "      <td>49.000000</td>\n",
              "      <td>178.000000</td>\n",
              "      <td>8.000000</td>\n",
              "      <td>68.000000</td>\n",
              "      <td>12.000000</td>\n",
              "      <td>8.000000</td>\n",
              "      <td>25.000000</td>\n",
              "      <td>...</td>\n",
              "      <td>0.000000</td>\n",
              "      <td>0.000000</td>\n",
              "      <td>0.000000</td>\n",
              "      <td>0.000000</td>\n",
              "      <td>1.000000</td>\n",
              "      <td>0.000000</td>\n",
              "      <td>0.000000</td>\n",
              "      <td>343.000000</td>\n",
              "      <td>288.000000</td>\n",
              "      <td>0.00000</td>\n",
              "    </tr>\n",
              "    <tr>\n",
              "      <th>75%</th>\n",
              "      <td>68281.000000</td>\n",
              "      <td>1.000000</td>\n",
              "      <td>1.000000</td>\n",
              "      <td>74.000000</td>\n",
              "      <td>507.000000</td>\n",
              "      <td>33.000000</td>\n",
              "      <td>232.000000</td>\n",
              "      <td>50.000000</td>\n",
              "      <td>34.000000</td>\n",
              "      <td>56.000000</td>\n",
              "      <td>...</td>\n",
              "      <td>1.000000</td>\n",
              "      <td>0.000000</td>\n",
              "      <td>0.000000</td>\n",
              "      <td>0.000000</td>\n",
              "      <td>1.000000</td>\n",
              "      <td>0.000000</td>\n",
              "      <td>0.000000</td>\n",
              "      <td>964.000000</td>\n",
              "      <td>884.000000</td>\n",
              "      <td>0.00000</td>\n",
              "    </tr>\n",
              "    <tr>\n",
              "      <th>max</th>\n",
              "      <td>113734.000000</td>\n",
              "      <td>2.000000</td>\n",
              "      <td>2.000000</td>\n",
              "      <td>99.000000</td>\n",
              "      <td>1493.000000</td>\n",
              "      <td>199.000000</td>\n",
              "      <td>1725.000000</td>\n",
              "      <td>259.000000</td>\n",
              "      <td>262.000000</td>\n",
              "      <td>321.000000</td>\n",
              "      <td>...</td>\n",
              "      <td>1.000000</td>\n",
              "      <td>1.000000</td>\n",
              "      <td>1.000000</td>\n",
              "      <td>1.000000</td>\n",
              "      <td>1.000000</td>\n",
              "      <td>1.000000</td>\n",
              "      <td>1.000000</td>\n",
              "      <td>2491.000000</td>\n",
              "      <td>2458.000000</td>\n",
              "      <td>4.00000</td>\n",
              "    </tr>\n",
              "  </tbody>\n",
              "</table>\n",
              "<p>8 rows × 39 columns</p>\n",
              "</div>\n",
              "      <button class=\"colab-df-convert\" onclick=\"convertToInteractive('df-6ff0c762-025d-4486-b2c0-564281b05e40')\"\n",
              "              title=\"Convert this dataframe to an interactive table.\"\n",
              "              style=\"display:none;\">\n",
              "        \n",
              "  <svg xmlns=\"http://www.w3.org/2000/svg\" height=\"24px\"viewBox=\"0 0 24 24\"\n",
              "       width=\"24px\">\n",
              "    <path d=\"M0 0h24v24H0V0z\" fill=\"none\"/>\n",
              "    <path d=\"M18.56 5.44l.94 2.06.94-2.06 2.06-.94-2.06-.94-.94-2.06-.94 2.06-2.06.94zm-11 1L8.5 8.5l.94-2.06 2.06-.94-2.06-.94L8.5 2.5l-.94 2.06-2.06.94zm10 10l.94 2.06.94-2.06 2.06-.94-2.06-.94-.94-2.06-.94 2.06-2.06.94z\"/><path d=\"M17.41 7.96l-1.37-1.37c-.4-.4-.92-.59-1.43-.59-.52 0-1.04.2-1.43.59L10.3 9.45l-7.72 7.72c-.78.78-.78 2.05 0 2.83L4 21.41c.39.39.9.59 1.41.59.51 0 1.02-.2 1.41-.59l7.78-7.78 2.81-2.81c.8-.78.8-2.07 0-2.86zM5.41 20L4 18.59l7.72-7.72 1.47 1.35L5.41 20z\"/>\n",
              "  </svg>\n",
              "      </button>\n",
              "      \n",
              "  <style>\n",
              "    .colab-df-container {\n",
              "      display:flex;\n",
              "      flex-wrap:wrap;\n",
              "      gap: 12px;\n",
              "    }\n",
              "\n",
              "    .colab-df-convert {\n",
              "      background-color: #E8F0FE;\n",
              "      border: none;\n",
              "      border-radius: 50%;\n",
              "      cursor: pointer;\n",
              "      display: none;\n",
              "      fill: #1967D2;\n",
              "      height: 32px;\n",
              "      padding: 0 0 0 0;\n",
              "      width: 32px;\n",
              "    }\n",
              "\n",
              "    .colab-df-convert:hover {\n",
              "      background-color: #E2EBFA;\n",
              "      box-shadow: 0px 1px 2px rgba(60, 64, 67, 0.3), 0px 1px 3px 1px rgba(60, 64, 67, 0.15);\n",
              "      fill: #174EA6;\n",
              "    }\n",
              "\n",
              "    [theme=dark] .colab-df-convert {\n",
              "      background-color: #3B4455;\n",
              "      fill: #D2E3FC;\n",
              "    }\n",
              "\n",
              "    [theme=dark] .colab-df-convert:hover {\n",
              "      background-color: #434B5C;\n",
              "      box-shadow: 0px 1px 3px 1px rgba(0, 0, 0, 0.15);\n",
              "      filter: drop-shadow(0px 1px 2px rgba(0, 0, 0, 0.3));\n",
              "      fill: #FFFFFF;\n",
              "    }\n",
              "  </style>\n",
              "\n",
              "      <script>\n",
              "        const buttonEl =\n",
              "          document.querySelector('#df-6ff0c762-025d-4486-b2c0-564281b05e40 button.colab-df-convert');\n",
              "        buttonEl.style.display =\n",
              "          google.colab.kernel.accessAllowed ? 'block' : 'none';\n",
              "\n",
              "        async function convertToInteractive(key) {\n",
              "          const element = document.querySelector('#df-6ff0c762-025d-4486-b2c0-564281b05e40');\n",
              "          const dataTable =\n",
              "            await google.colab.kernel.invokeFunction('convertToInteractive',\n",
              "                                                     [key], {});\n",
              "          if (!dataTable) return;\n",
              "\n",
              "          const docLinkHtml = 'Like what you see? Visit the ' +\n",
              "            '<a target=\"_blank\" href=https://colab.research.google.com/notebooks/data_table.ipynb>data table notebook</a>'\n",
              "            + ' to learn more about interactive tables.';\n",
              "          element.innerHTML = '';\n",
              "          dataTable['output_type'] = 'display_data';\n",
              "          await google.colab.output.renderOutput(dataTable, element);\n",
              "          const docLink = document.createElement('div');\n",
              "          docLink.innerHTML = docLinkHtml;\n",
              "          element.appendChild(docLink);\n",
              "        }\n",
              "      </script>\n",
              "    </div>\n",
              "  </div>\n",
              "  "
            ]
          },
          "metadata": {},
          "execution_count": 9
        }
      ],
      "source": [
        "df2.describe()"
      ]
    },
    {
      "cell_type": "markdown",
      "id": "b6d383f9",
      "metadata": {
        "papermill": {
          "duration": 0.018074,
          "end_time": "2022-07-26T22:18:29.093998",
          "exception": false,
          "start_time": "2022-07-26T22:18:29.075924",
          "status": "completed"
        },
        "tags": [],
        "id": "b6d383f9"
      },
      "source": [
        "On Average, \n",
        "1. people earned 51K with Highest income in the dataset was 114K\n",
        "2. people spent 562 with highest expenses were 2491 in the dataset."
      ]
    },
    {
      "cell_type": "markdown",
      "id": "837e10e9",
      "metadata": {
        "papermill": {
          "duration": 0.017919,
          "end_time": "2022-07-26T22:18:29.129542",
          "exception": false,
          "start_time": "2022-07-26T22:18:29.111623",
          "status": "completed"
        },
        "tags": [],
        "id": "837e10e9"
      },
      "source": [
        "**Unique Values...**"
      ]
    },
    {
      "cell_type": "code",
      "execution_count": null,
      "id": "f078cefc",
      "metadata": {
        "execution": {
          "iopub.execute_input": "2022-07-26T22:18:29.169546Z",
          "iopub.status.busy": "2022-07-26T22:18:29.168400Z",
          "iopub.status.idle": "2022-07-26T22:18:29.185991Z",
          "shell.execute_reply": "2022-07-26T22:18:29.184440Z"
        },
        "papermill": {
          "duration": 0.040874,
          "end_time": "2022-07-26T22:18:29.189012",
          "exception": false,
          "start_time": "2022-07-26T22:18:29.148138",
          "status": "completed"
        },
        "tags": [],
        "id": "f078cefc",
        "outputId": "220cf1b5-164f-4d8f-c905-28c9a4997c83",
        "colab": {
          "base_uri": "https://localhost:8080/"
        }
      },
      "outputs": [
        {
          "output_type": "execute_result",
          "data": {
            "text/plain": [
              "Income                     1963\n",
              "MntRegularProds             974\n",
              "MntTotal                    897\n",
              "Wines                       775\n",
              "Customer_Days               662\n",
              "MeatProducts                551\n",
              "GoldProds                   212\n",
              "FishProducts                182\n",
              "SweetProducts               176\n",
              "Fruits                      158\n",
              "Recency                     100\n",
              "Age                          56\n",
              "Num_of_WebVisits             16\n",
              "DealsPurchases               15\n",
              "Num_ of_WebPurchases         15\n",
              "Num_of_StorePurchases        14\n",
              "Num_of_CatalogPurchases      13\n",
              "AcceptedCmpOverall            5\n",
              "Teenhome                      3\n",
              "Kidhome                       3\n",
              "AcceptedCmp1                  2\n",
              "marital_status_Together       2\n",
              "AcceptedCmp3                  2\n",
              "education_PhD                 2\n",
              "education_Master              2\n",
              "education_Graduation          2\n",
              "education_Basic               2\n",
              "education_2n Cycle            2\n",
              "marital_status_Widow          2\n",
              "marital_status_Single         2\n",
              "marital_status_Married        2\n",
              "marital_status_Divorced       2\n",
              "AcceptedCmp4                  2\n",
              "AcceptedCmp5                  2\n",
              "Response                      2\n",
              "Complain                      2\n",
              "AcceptedCmp2                  2\n",
              "Z_Revenue                     1\n",
              "Z_CostContact                 1\n",
              "dtype: int64"
            ]
          },
          "metadata": {},
          "execution_count": 10
        }
      ],
      "source": [
        "df2.nunique().sort_values(ascending=False)"
      ]
    },
    {
      "cell_type": "markdown",
      "id": "6a997fc0",
      "metadata": {
        "papermill": {
          "duration": 0.017809,
          "end_time": "2022-07-26T22:18:29.225439",
          "exception": false,
          "start_time": "2022-07-26T22:18:29.207630",
          "status": "completed"
        },
        "tags": [],
        "id": "6a997fc0"
      },
      "source": [
        "**Null Values Check.....**"
      ]
    },
    {
      "cell_type": "code",
      "execution_count": null,
      "id": "c3340e4c",
      "metadata": {
        "execution": {
          "iopub.execute_input": "2022-07-26T22:18:29.264248Z",
          "iopub.status.busy": "2022-07-26T22:18:29.263459Z",
          "iopub.status.idle": "2022-07-26T22:18:29.273730Z",
          "shell.execute_reply": "2022-07-26T22:18:29.272899Z"
        },
        "papermill": {
          "duration": 0.032128,
          "end_time": "2022-07-26T22:18:29.276040",
          "exception": false,
          "start_time": "2022-07-26T22:18:29.243912",
          "status": "completed"
        },
        "tags": [],
        "id": "c3340e4c",
        "outputId": "d1dea791-6369-4197-f2a7-ccca288141c3",
        "colab": {
          "base_uri": "https://localhost:8080/"
        }
      },
      "outputs": [
        {
          "output_type": "execute_result",
          "data": {
            "text/plain": [
              "Income                     0\n",
              "Kidhome                    0\n",
              "Teenhome                   0\n",
              "Recency                    0\n",
              "Wines                      0\n",
              "Fruits                     0\n",
              "MeatProducts               0\n",
              "FishProducts               0\n",
              "SweetProducts              0\n",
              "GoldProds                  0\n",
              "DealsPurchases             0\n",
              "Num_ of_WebPurchases       0\n",
              "Num_of_CatalogPurchases    0\n",
              "Num_of_StorePurchases      0\n",
              "Num_of_WebVisits           0\n",
              "AcceptedCmp3               0\n",
              "AcceptedCmp4               0\n",
              "AcceptedCmp5               0\n",
              "AcceptedCmp1               0\n",
              "AcceptedCmp2               0\n",
              "Complain                   0\n",
              "Z_CostContact              0\n",
              "Z_Revenue                  0\n",
              "Response                   0\n",
              "Age                        0\n",
              "Customer_Days              0\n",
              "marital_status_Divorced    0\n",
              "marital_status_Married     0\n",
              "marital_status_Single      0\n",
              "marital_status_Together    0\n",
              "marital_status_Widow       0\n",
              "education_2n Cycle         0\n",
              "education_Basic            0\n",
              "education_Graduation       0\n",
              "education_Master           0\n",
              "education_PhD              0\n",
              "MntTotal                   0\n",
              "MntRegularProds            0\n",
              "AcceptedCmpOverall         0\n",
              "dtype: int64"
            ]
          },
          "metadata": {},
          "execution_count": 11
        }
      ],
      "source": [
        "df2.isna().sum()"
      ]
    },
    {
      "cell_type": "markdown",
      "id": "edf18aec",
      "metadata": {
        "papermill": {
          "duration": 0.018881,
          "end_time": "2022-07-26T22:18:29.312633",
          "exception": false,
          "start_time": "2022-07-26T22:18:29.293752",
          "status": "completed"
        },
        "tags": [],
        "id": "edf18aec"
      },
      "source": [
        "There is no null values in the dataset"
      ]
    },
    {
      "cell_type": "markdown",
      "id": "a8b45f37",
      "metadata": {
        "papermill": {
          "duration": 0.017916,
          "end_time": "2022-07-26T22:18:29.348828",
          "exception": false,
          "start_time": "2022-07-26T22:18:29.330912",
          "status": "completed"
        },
        "tags": [],
        "id": "a8b45f37"
      },
      "source": [
        "**Duplicate Rows...**"
      ]
    },
    {
      "cell_type": "code",
      "execution_count": null,
      "id": "78703112",
      "metadata": {
        "execution": {
          "iopub.execute_input": "2022-07-26T22:18:29.388185Z",
          "iopub.status.busy": "2022-07-26T22:18:29.387307Z",
          "iopub.status.idle": "2022-07-26T22:18:29.402482Z",
          "shell.execute_reply": "2022-07-26T22:18:29.400765Z"
        },
        "papermill": {
          "duration": 0.038155,
          "end_time": "2022-07-26T22:18:29.405356",
          "exception": false,
          "start_time": "2022-07-26T22:18:29.367201",
          "status": "completed"
        },
        "tags": [],
        "id": "78703112",
        "outputId": "d258d637-c8e0-409f-b0f1-6feb6c3fde91",
        "colab": {
          "base_uri": "https://localhost:8080/"
        }
      },
      "outputs": [
        {
          "output_type": "stream",
          "name": "stdout",
          "text": [
            "you have 184 duplicate rows\n"
          ]
        }
      ],
      "source": [
        "data=df2[df2.duplicated()]\n",
        "print(\"you have {} duplicate rows\".format(len(data)))"
      ]
    },
    {
      "cell_type": "markdown",
      "id": "a0928a84",
      "metadata": {
        "papermill": {
          "duration": 0.018908,
          "end_time": "2022-07-26T22:18:29.442812",
          "exception": false,
          "start_time": "2022-07-26T22:18:29.423904",
          "status": "completed"
        },
        "tags": [],
        "id": "a0928a84"
      },
      "source": [
        "**Drop Duplicates...**"
      ]
    },
    {
      "cell_type": "code",
      "execution_count": null,
      "id": "a10896e2",
      "metadata": {
        "execution": {
          "iopub.execute_input": "2022-07-26T22:18:29.483416Z",
          "iopub.status.busy": "2022-07-26T22:18:29.482165Z",
          "iopub.status.idle": "2022-07-26T22:18:29.494507Z",
          "shell.execute_reply": "2022-07-26T22:18:29.493374Z"
        },
        "papermill": {
          "duration": 0.03557,
          "end_time": "2022-07-26T22:18:29.497315",
          "exception": false,
          "start_time": "2022-07-26T22:18:29.461745",
          "status": "completed"
        },
        "tags": [],
        "id": "a10896e2"
      },
      "outputs": [],
      "source": [
        "# Drop 184 duplicate rows\n",
        "df2.drop_duplicates(keep=False, inplace=True)"
      ]
    },
    {
      "cell_type": "code",
      "source": [],
      "metadata": {
        "id": "XSRnDe4FRRh1"
      },
      "id": "XSRnDe4FRRh1",
      "execution_count": null,
      "outputs": []
    },
    {
      "cell_type": "markdown",
      "id": "33478b54",
      "metadata": {
        "papermill": {
          "duration": 0.018596,
          "end_time": "2022-07-26T22:18:29.535021",
          "exception": false,
          "start_time": "2022-07-26T22:18:29.516425",
          "status": "completed"
        },
        "tags": [],
        "id": "33478b54"
      },
      "source": [
        "## Data Preparation\n",
        "\n",
        "In the given data, Marital status is given in 5 different columns. Below, I merge them into one column to simplify the data structure. Below are the steps taken:\n",
        "\n",
        "1. Converted the column to string\n",
        "2. Replace '1' with numerical categorical value \n",
        "3. Make a new column, marital_status\n",
        "4. Add all columns with marital status info\n",
        "5. Replace categorical numerical value with string as Married, Divorced etc."
      ]
    },
    {
      "cell_type": "code",
      "execution_count": null,
      "id": "a2f15ef9",
      "metadata": {
        "execution": {
          "iopub.execute_input": "2022-07-26T22:18:29.575288Z",
          "iopub.status.busy": "2022-07-26T22:18:29.574435Z",
          "iopub.status.idle": "2022-07-26T22:18:29.608225Z",
          "shell.execute_reply": "2022-07-26T22:18:29.607093Z"
        },
        "papermill": {
          "duration": 0.057097,
          "end_time": "2022-07-26T22:18:29.611076",
          "exception": false,
          "start_time": "2022-07-26T22:18:29.553979",
          "status": "completed"
        },
        "tags": [],
        "id": "a2f15ef9"
      },
      "outputs": [],
      "source": [
        "#First, Change Column data type to string and then replace 1 with different number & 0 with blank.\n",
        "df2['marital_status_Married']=df2['marital_status_Married'].astype(str).replace({'1':'5','0':''})\n",
        "df2['marital_status_Single']=df2['marital_status_Single'].astype(str).replace({'1':'4','0':''})\n",
        "df2['marital_status_Together']=df2['marital_status_Together'].astype(str).replace({'1':'3','0':''})\n",
        "df2['marital_status_Widow']=df2['marital_status_Widow'].astype(str).replace({'1':'2','0':''})\n",
        "df2['marital_status_Divorced']=df2['marital_status_Divorced'].astype(str).replace({'0':''})\n",
        "#Now all columns contain different numbers for different marital status, lets join them in one column.\n",
        "df2['marital_status']=df2[\"marital_status_Widow\"]+df2['marital_status_Together']+df2['marital_status_Single']+df2['marital_status_Married']+df2['marital_status_Divorced']\n",
        "#Next, we map numbers into different categorical values.\n",
        "df2['marital_status']=df2['marital_status'].map({'1':'Divorced', '2':'Widow','3':'Together','4':'Single','5':'Married'})"
      ]
    },
    {
      "cell_type": "markdown",
      "id": "2339537a",
      "metadata": {
        "papermill": {
          "duration": 0.018422,
          "end_time": "2022-07-26T22:18:29.648257",
          "exception": false,
          "start_time": "2022-07-26T22:18:29.629835",
          "status": "completed"
        },
        "tags": [],
        "id": "2339537a"
      },
      "source": [
        "Let's do same operation, as above, for education columns."
      ]
    },
    {
      "cell_type": "code",
      "execution_count": null,
      "id": "4574c037",
      "metadata": {
        "execution": {
          "iopub.execute_input": "2022-07-26T22:18:29.687710Z",
          "iopub.status.busy": "2022-07-26T22:18:29.687022Z",
          "iopub.status.idle": "2022-07-26T22:18:29.717382Z",
          "shell.execute_reply": "2022-07-26T22:18:29.716393Z"
        },
        "papermill": {
          "duration": 0.053287,
          "end_time": "2022-07-26T22:18:29.720171",
          "exception": false,
          "start_time": "2022-07-26T22:18:29.666884",
          "status": "completed"
        },
        "tags": [],
        "id": "4574c037"
      },
      "outputs": [],
      "source": [
        "df2['education_2n Cycle']=df2['education_2n Cycle'].astype(str).replace({'0':''})\n",
        "df2['education_Basic']=df2['education_Basic'].astype(str).replace({'1':'2','0':''})\n",
        "df2['education_Graduation']=df2['education_Graduation'].astype(str).replace({'1':'3','0':''})\n",
        "df2['education_Master']=df2['education_Master'].astype(str).replace({'1':'4','0':''})\n",
        "df2['education_PhD']=df2['education_PhD'].astype(str).replace({'1':'5','0':''})\n",
        "df2['education_level']=df2['education_2n Cycle']+df2['education_Basic']+df2['education_Graduation']+df2['education_Master']+df2['education_PhD']\n",
        "df2['education_level']=df2['education_level'].map({'1':'2n Cycle','2':'Basic','3':'Graduation','4':'Master','5':'PhD'})"
      ]
    },
    {
      "cell_type": "markdown",
      "id": "2f97248f",
      "metadata": {
        "execution": {
          "iopub.execute_input": "2022-07-15T15:10:58.034772Z",
          "iopub.status.busy": "2022-07-15T15:10:58.034384Z",
          "iopub.status.idle": "2022-07-15T15:10:58.041099Z",
          "shell.execute_reply": "2022-07-15T15:10:58.039912Z",
          "shell.execute_reply.started": "2022-07-15T15:10:58.034741Z"
        },
        "papermill": {
          "duration": 0.017438,
          "end_time": "2022-07-26T22:18:29.755458",
          "exception": false,
          "start_time": "2022-07-26T22:18:29.738020",
          "status": "completed"
        },
        "tags": [],
        "id": "2f97248f"
      },
      "source": [
        "for feature engineering, we join KidHome And TeenHome to find out number of children in a house"
      ]
    },
    {
      "cell_type": "code",
      "execution_count": null,
      "id": "6cb4acd5",
      "metadata": {
        "execution": {
          "iopub.execute_input": "2022-07-26T22:18:29.792629Z",
          "iopub.status.busy": "2022-07-26T22:18:29.791941Z",
          "iopub.status.idle": "2022-07-26T22:18:29.798941Z",
          "shell.execute_reply": "2022-07-26T22:18:29.797951Z"
        },
        "papermill": {
          "duration": 0.028144,
          "end_time": "2022-07-26T22:18:29.801230",
          "exception": false,
          "start_time": "2022-07-26T22:18:29.773086",
          "status": "completed"
        },
        "tags": [],
        "id": "6cb4acd5"
      },
      "outputs": [],
      "source": [
        "df2['kids']=df2['Kidhome']+df2['Teenhome']"
      ]
    },
    {
      "cell_type": "markdown",
      "id": "7795be73",
      "metadata": {
        "papermill": {
          "duration": 0.01797,
          "end_time": "2022-07-26T22:18:29.837436",
          "exception": false,
          "start_time": "2022-07-26T22:18:29.819466",
          "status": "completed"
        },
        "tags": [],
        "id": "7795be73"
      },
      "source": [
        "Next, we drop all unnecessary columns to make dataset simple."
      ]
    },
    {
      "cell_type": "code",
      "execution_count": null,
      "id": "7f74f802",
      "metadata": {
        "execution": {
          "iopub.execute_input": "2022-07-26T22:18:29.878903Z",
          "iopub.status.busy": "2022-07-26T22:18:29.877497Z",
          "iopub.status.idle": "2022-07-26T22:18:29.914111Z",
          "shell.execute_reply": "2022-07-26T22:18:29.912728Z"
        },
        "papermill": {
          "duration": 0.060117,
          "end_time": "2022-07-26T22:18:29.916659",
          "exception": false,
          "start_time": "2022-07-26T22:18:29.856542",
          "status": "completed"
        },
        "tags": [],
        "id": "7f74f802",
        "outputId": "70ea865f-cb1f-4811-9e0f-6ad75a740b97",
        "colab": {
          "base_uri": "https://localhost:8080/"
        }
      },
      "outputs": [
        {
          "output_type": "execute_result",
          "data": {
            "text/plain": [
              "      Income  Recency  Wines  Fruits  MeatProducts  FishProducts  \\\n",
              "0      58138       58    635      88           546           172   \n",
              "1      46344       38     11       1             6             2   \n",
              "2      71613       26    426      49           127           111   \n",
              "3      26646       26     11       4            20            10   \n",
              "4      58293       94    173      43           118            46   \n",
              "...      ...      ...    ...     ...           ...           ...   \n",
              "2198   26816       50      5       1             6             3   \n",
              "2200   61223       46    709      43           182            42   \n",
              "2202   56981       91    908      48           217            32   \n",
              "2203   69245        8    428      30           214            80   \n",
              "2204   52869       40     84       3            61             2   \n",
              "\n",
              "      SweetProducts  GoldProds  DealsPurchases  Num_ of_WebPurchases  ...  \\\n",
              "0                88         88               3                     8  ...   \n",
              "1                 1          6               2                     1  ...   \n",
              "2                21         42               1                     8  ...   \n",
              "3                 3          5               2                     2  ...   \n",
              "4                27         15               5                     5  ...   \n",
              "...             ...        ...             ...                   ...  ...   \n",
              "2198              4          3               1                     0  ...   \n",
              "2200            118        247               2                     9  ...   \n",
              "2202             12         24               1                     2  ...   \n",
              "2203             30         61               2                     6  ...   \n",
              "2204              1         21               3                     3  ...   \n",
              "\n",
              "      Z_Revenue  Response  Age  Customer_Days  MntTotal  MntRegularProds  \\\n",
              "0            11         1   63           2822      1529             1441   \n",
              "1            11         0   66           2272        21               15   \n",
              "2            11         0   55           2471       734              692   \n",
              "3            11         0   36           2298        48               43   \n",
              "4            11         0   39           2320       407              392   \n",
              "...         ...       ...  ...            ...       ...              ...   \n",
              "2198         11         0   34           2840        19               16   \n",
              "2200         11         0   53           2540      1094              847   \n",
              "2202         11         0   39           2314      1217             1193   \n",
              "2203         11         0   64           2315       782              721   \n",
              "2204         11         1   66           2781       151              130   \n",
              "\n",
              "      AcceptedCmpOverall  marital_status  education_level  kids  \n",
              "0                      0          Single       Graduation     0  \n",
              "1                      0          Single       Graduation     2  \n",
              "2                      0        Together       Graduation     0  \n",
              "3                      0        Together       Graduation     1  \n",
              "4                      0         Married              PhD     1  \n",
              "...                  ...             ...              ...   ...  \n",
              "2198                   0          Single       Graduation     0  \n",
              "2200                   0         Married       Graduation     1  \n",
              "2202                   1        Divorced       Graduation     0  \n",
              "2203                   0        Together           Master     1  \n",
              "2204                   0         Married              PhD     2  \n",
              "\n",
              "[1843 rows x 30 columns]"
            ],
            "text/html": [
              "\n",
              "  <div id=\"df-63b19971-7895-4e73-b9ac-12ec6c5633a0\">\n",
              "    <div class=\"colab-df-container\">\n",
              "      <div>\n",
              "<style scoped>\n",
              "    .dataframe tbody tr th:only-of-type {\n",
              "        vertical-align: middle;\n",
              "    }\n",
              "\n",
              "    .dataframe tbody tr th {\n",
              "        vertical-align: top;\n",
              "    }\n",
              "\n",
              "    .dataframe thead th {\n",
              "        text-align: right;\n",
              "    }\n",
              "</style>\n",
              "<table border=\"1\" class=\"dataframe\">\n",
              "  <thead>\n",
              "    <tr style=\"text-align: right;\">\n",
              "      <th></th>\n",
              "      <th>Income</th>\n",
              "      <th>Recency</th>\n",
              "      <th>Wines</th>\n",
              "      <th>Fruits</th>\n",
              "      <th>MeatProducts</th>\n",
              "      <th>FishProducts</th>\n",
              "      <th>SweetProducts</th>\n",
              "      <th>GoldProds</th>\n",
              "      <th>DealsPurchases</th>\n",
              "      <th>Num_ of_WebPurchases</th>\n",
              "      <th>...</th>\n",
              "      <th>Z_Revenue</th>\n",
              "      <th>Response</th>\n",
              "      <th>Age</th>\n",
              "      <th>Customer_Days</th>\n",
              "      <th>MntTotal</th>\n",
              "      <th>MntRegularProds</th>\n",
              "      <th>AcceptedCmpOverall</th>\n",
              "      <th>marital_status</th>\n",
              "      <th>education_level</th>\n",
              "      <th>kids</th>\n",
              "    </tr>\n",
              "  </thead>\n",
              "  <tbody>\n",
              "    <tr>\n",
              "      <th>0</th>\n",
              "      <td>58138</td>\n",
              "      <td>58</td>\n",
              "      <td>635</td>\n",
              "      <td>88</td>\n",
              "      <td>546</td>\n",
              "      <td>172</td>\n",
              "      <td>88</td>\n",
              "      <td>88</td>\n",
              "      <td>3</td>\n",
              "      <td>8</td>\n",
              "      <td>...</td>\n",
              "      <td>11</td>\n",
              "      <td>1</td>\n",
              "      <td>63</td>\n",
              "      <td>2822</td>\n",
              "      <td>1529</td>\n",
              "      <td>1441</td>\n",
              "      <td>0</td>\n",
              "      <td>Single</td>\n",
              "      <td>Graduation</td>\n",
              "      <td>0</td>\n",
              "    </tr>\n",
              "    <tr>\n",
              "      <th>1</th>\n",
              "      <td>46344</td>\n",
              "      <td>38</td>\n",
              "      <td>11</td>\n",
              "      <td>1</td>\n",
              "      <td>6</td>\n",
              "      <td>2</td>\n",
              "      <td>1</td>\n",
              "      <td>6</td>\n",
              "      <td>2</td>\n",
              "      <td>1</td>\n",
              "      <td>...</td>\n",
              "      <td>11</td>\n",
              "      <td>0</td>\n",
              "      <td>66</td>\n",
              "      <td>2272</td>\n",
              "      <td>21</td>\n",
              "      <td>15</td>\n",
              "      <td>0</td>\n",
              "      <td>Single</td>\n",
              "      <td>Graduation</td>\n",
              "      <td>2</td>\n",
              "    </tr>\n",
              "    <tr>\n",
              "      <th>2</th>\n",
              "      <td>71613</td>\n",
              "      <td>26</td>\n",
              "      <td>426</td>\n",
              "      <td>49</td>\n",
              "      <td>127</td>\n",
              "      <td>111</td>\n",
              "      <td>21</td>\n",
              "      <td>42</td>\n",
              "      <td>1</td>\n",
              "      <td>8</td>\n",
              "      <td>...</td>\n",
              "      <td>11</td>\n",
              "      <td>0</td>\n",
              "      <td>55</td>\n",
              "      <td>2471</td>\n",
              "      <td>734</td>\n",
              "      <td>692</td>\n",
              "      <td>0</td>\n",
              "      <td>Together</td>\n",
              "      <td>Graduation</td>\n",
              "      <td>0</td>\n",
              "    </tr>\n",
              "    <tr>\n",
              "      <th>3</th>\n",
              "      <td>26646</td>\n",
              "      <td>26</td>\n",
              "      <td>11</td>\n",
              "      <td>4</td>\n",
              "      <td>20</td>\n",
              "      <td>10</td>\n",
              "      <td>3</td>\n",
              "      <td>5</td>\n",
              "      <td>2</td>\n",
              "      <td>2</td>\n",
              "      <td>...</td>\n",
              "      <td>11</td>\n",
              "      <td>0</td>\n",
              "      <td>36</td>\n",
              "      <td>2298</td>\n",
              "      <td>48</td>\n",
              "      <td>43</td>\n",
              "      <td>0</td>\n",
              "      <td>Together</td>\n",
              "      <td>Graduation</td>\n",
              "      <td>1</td>\n",
              "    </tr>\n",
              "    <tr>\n",
              "      <th>4</th>\n",
              "      <td>58293</td>\n",
              "      <td>94</td>\n",
              "      <td>173</td>\n",
              "      <td>43</td>\n",
              "      <td>118</td>\n",
              "      <td>46</td>\n",
              "      <td>27</td>\n",
              "      <td>15</td>\n",
              "      <td>5</td>\n",
              "      <td>5</td>\n",
              "      <td>...</td>\n",
              "      <td>11</td>\n",
              "      <td>0</td>\n",
              "      <td>39</td>\n",
              "      <td>2320</td>\n",
              "      <td>407</td>\n",
              "      <td>392</td>\n",
              "      <td>0</td>\n",
              "      <td>Married</td>\n",
              "      <td>PhD</td>\n",
              "      <td>1</td>\n",
              "    </tr>\n",
              "    <tr>\n",
              "      <th>...</th>\n",
              "      <td>...</td>\n",
              "      <td>...</td>\n",
              "      <td>...</td>\n",
              "      <td>...</td>\n",
              "      <td>...</td>\n",
              "      <td>...</td>\n",
              "      <td>...</td>\n",
              "      <td>...</td>\n",
              "      <td>...</td>\n",
              "      <td>...</td>\n",
              "      <td>...</td>\n",
              "      <td>...</td>\n",
              "      <td>...</td>\n",
              "      <td>...</td>\n",
              "      <td>...</td>\n",
              "      <td>...</td>\n",
              "      <td>...</td>\n",
              "      <td>...</td>\n",
              "      <td>...</td>\n",
              "      <td>...</td>\n",
              "      <td>...</td>\n",
              "    </tr>\n",
              "    <tr>\n",
              "      <th>2198</th>\n",
              "      <td>26816</td>\n",
              "      <td>50</td>\n",
              "      <td>5</td>\n",
              "      <td>1</td>\n",
              "      <td>6</td>\n",
              "      <td>3</td>\n",
              "      <td>4</td>\n",
              "      <td>3</td>\n",
              "      <td>1</td>\n",
              "      <td>0</td>\n",
              "      <td>...</td>\n",
              "      <td>11</td>\n",
              "      <td>0</td>\n",
              "      <td>34</td>\n",
              "      <td>2840</td>\n",
              "      <td>19</td>\n",
              "      <td>16</td>\n",
              "      <td>0</td>\n",
              "      <td>Single</td>\n",
              "      <td>Graduation</td>\n",
              "      <td>0</td>\n",
              "    </tr>\n",
              "    <tr>\n",
              "      <th>2200</th>\n",
              "      <td>61223</td>\n",
              "      <td>46</td>\n",
              "      <td>709</td>\n",
              "      <td>43</td>\n",
              "      <td>182</td>\n",
              "      <td>42</td>\n",
              "      <td>118</td>\n",
              "      <td>247</td>\n",
              "      <td>2</td>\n",
              "      <td>9</td>\n",
              "      <td>...</td>\n",
              "      <td>11</td>\n",
              "      <td>0</td>\n",
              "      <td>53</td>\n",
              "      <td>2540</td>\n",
              "      <td>1094</td>\n",
              "      <td>847</td>\n",
              "      <td>0</td>\n",
              "      <td>Married</td>\n",
              "      <td>Graduation</td>\n",
              "      <td>1</td>\n",
              "    </tr>\n",
              "    <tr>\n",
              "      <th>2202</th>\n",
              "      <td>56981</td>\n",
              "      <td>91</td>\n",
              "      <td>908</td>\n",
              "      <td>48</td>\n",
              "      <td>217</td>\n",
              "      <td>32</td>\n",
              "      <td>12</td>\n",
              "      <td>24</td>\n",
              "      <td>1</td>\n",
              "      <td>2</td>\n",
              "      <td>...</td>\n",
              "      <td>11</td>\n",
              "      <td>0</td>\n",
              "      <td>39</td>\n",
              "      <td>2314</td>\n",
              "      <td>1217</td>\n",
              "      <td>1193</td>\n",
              "      <td>1</td>\n",
              "      <td>Divorced</td>\n",
              "      <td>Graduation</td>\n",
              "      <td>0</td>\n",
              "    </tr>\n",
              "    <tr>\n",
              "      <th>2203</th>\n",
              "      <td>69245</td>\n",
              "      <td>8</td>\n",
              "      <td>428</td>\n",
              "      <td>30</td>\n",
              "      <td>214</td>\n",
              "      <td>80</td>\n",
              "      <td>30</td>\n",
              "      <td>61</td>\n",
              "      <td>2</td>\n",
              "      <td>6</td>\n",
              "      <td>...</td>\n",
              "      <td>11</td>\n",
              "      <td>0</td>\n",
              "      <td>64</td>\n",
              "      <td>2315</td>\n",
              "      <td>782</td>\n",
              "      <td>721</td>\n",
              "      <td>0</td>\n",
              "      <td>Together</td>\n",
              "      <td>Master</td>\n",
              "      <td>1</td>\n",
              "    </tr>\n",
              "    <tr>\n",
              "      <th>2204</th>\n",
              "      <td>52869</td>\n",
              "      <td>40</td>\n",
              "      <td>84</td>\n",
              "      <td>3</td>\n",
              "      <td>61</td>\n",
              "      <td>2</td>\n",
              "      <td>1</td>\n",
              "      <td>21</td>\n",
              "      <td>3</td>\n",
              "      <td>3</td>\n",
              "      <td>...</td>\n",
              "      <td>11</td>\n",
              "      <td>1</td>\n",
              "      <td>66</td>\n",
              "      <td>2781</td>\n",
              "      <td>151</td>\n",
              "      <td>130</td>\n",
              "      <td>0</td>\n",
              "      <td>Married</td>\n",
              "      <td>PhD</td>\n",
              "      <td>2</td>\n",
              "    </tr>\n",
              "  </tbody>\n",
              "</table>\n",
              "<p>1843 rows × 30 columns</p>\n",
              "</div>\n",
              "      <button class=\"colab-df-convert\" onclick=\"convertToInteractive('df-63b19971-7895-4e73-b9ac-12ec6c5633a0')\"\n",
              "              title=\"Convert this dataframe to an interactive table.\"\n",
              "              style=\"display:none;\">\n",
              "        \n",
              "  <svg xmlns=\"http://www.w3.org/2000/svg\" height=\"24px\"viewBox=\"0 0 24 24\"\n",
              "       width=\"24px\">\n",
              "    <path d=\"M0 0h24v24H0V0z\" fill=\"none\"/>\n",
              "    <path d=\"M18.56 5.44l.94 2.06.94-2.06 2.06-.94-2.06-.94-.94-2.06-.94 2.06-2.06.94zm-11 1L8.5 8.5l.94-2.06 2.06-.94-2.06-.94L8.5 2.5l-.94 2.06-2.06.94zm10 10l.94 2.06.94-2.06 2.06-.94-2.06-.94-.94-2.06-.94 2.06-2.06.94z\"/><path d=\"M17.41 7.96l-1.37-1.37c-.4-.4-.92-.59-1.43-.59-.52 0-1.04.2-1.43.59L10.3 9.45l-7.72 7.72c-.78.78-.78 2.05 0 2.83L4 21.41c.39.39.9.59 1.41.59.51 0 1.02-.2 1.41-.59l7.78-7.78 2.81-2.81c.8-.78.8-2.07 0-2.86zM5.41 20L4 18.59l7.72-7.72 1.47 1.35L5.41 20z\"/>\n",
              "  </svg>\n",
              "      </button>\n",
              "      \n",
              "  <style>\n",
              "    .colab-df-container {\n",
              "      display:flex;\n",
              "      flex-wrap:wrap;\n",
              "      gap: 12px;\n",
              "    }\n",
              "\n",
              "    .colab-df-convert {\n",
              "      background-color: #E8F0FE;\n",
              "      border: none;\n",
              "      border-radius: 50%;\n",
              "      cursor: pointer;\n",
              "      display: none;\n",
              "      fill: #1967D2;\n",
              "      height: 32px;\n",
              "      padding: 0 0 0 0;\n",
              "      width: 32px;\n",
              "    }\n",
              "\n",
              "    .colab-df-convert:hover {\n",
              "      background-color: #E2EBFA;\n",
              "      box-shadow: 0px 1px 2px rgba(60, 64, 67, 0.3), 0px 1px 3px 1px rgba(60, 64, 67, 0.15);\n",
              "      fill: #174EA6;\n",
              "    }\n",
              "\n",
              "    [theme=dark] .colab-df-convert {\n",
              "      background-color: #3B4455;\n",
              "      fill: #D2E3FC;\n",
              "    }\n",
              "\n",
              "    [theme=dark] .colab-df-convert:hover {\n",
              "      background-color: #434B5C;\n",
              "      box-shadow: 0px 1px 3px 1px rgba(0, 0, 0, 0.15);\n",
              "      filter: drop-shadow(0px 1px 2px rgba(0, 0, 0, 0.3));\n",
              "      fill: #FFFFFF;\n",
              "    }\n",
              "  </style>\n",
              "\n",
              "      <script>\n",
              "        const buttonEl =\n",
              "          document.querySelector('#df-63b19971-7895-4e73-b9ac-12ec6c5633a0 button.colab-df-convert');\n",
              "        buttonEl.style.display =\n",
              "          google.colab.kernel.accessAllowed ? 'block' : 'none';\n",
              "\n",
              "        async function convertToInteractive(key) {\n",
              "          const element = document.querySelector('#df-63b19971-7895-4e73-b9ac-12ec6c5633a0');\n",
              "          const dataTable =\n",
              "            await google.colab.kernel.invokeFunction('convertToInteractive',\n",
              "                                                     [key], {});\n",
              "          if (!dataTable) return;\n",
              "\n",
              "          const docLinkHtml = 'Like what you see? Visit the ' +\n",
              "            '<a target=\"_blank\" href=https://colab.research.google.com/notebooks/data_table.ipynb>data table notebook</a>'\n",
              "            + ' to learn more about interactive tables.';\n",
              "          element.innerHTML = '';\n",
              "          dataTable['output_type'] = 'display_data';\n",
              "          await google.colab.output.renderOutput(dataTable, element);\n",
              "          const docLink = document.createElement('div');\n",
              "          docLink.innerHTML = docLinkHtml;\n",
              "          element.appendChild(docLink);\n",
              "        }\n",
              "      </script>\n",
              "    </div>\n",
              "  </div>\n",
              "  "
            ]
          },
          "metadata": {},
          "execution_count": 20
        }
      ],
      "source": [
        "df2.drop(['education_2n Cycle','education_Basic','education_Graduation','education_Master','education_PhD','marital_status_Widow','marital_status_Together','marital_status_Single','marital_status_Married','marital_status_Divorced','Kidhome','Teenhome'], axis=1)"
      ]
    },
    {
      "cell_type": "markdown",
      "id": "d1078db6",
      "metadata": {
        "papermill": {
          "duration": 0.019807,
          "end_time": "2022-07-26T22:18:29.956222",
          "exception": false,
          "start_time": "2022-07-26T22:18:29.936415",
          "status": "completed"
        },
        "tags": [],
        "id": "d1078db6"
      },
      "source": [
        "with data restructure, dataset now contains 30 columns instead of 39."
      ]
    },
    {
      "cell_type": "markdown",
      "id": "aeff65c6",
      "metadata": {
        "papermill": {
          "duration": 0.018299,
          "end_time": "2022-07-26T22:18:29.994260",
          "exception": false,
          "start_time": "2022-07-26T22:18:29.975961",
          "status": "completed"
        },
        "tags": [],
        "id": "aeff65c6"
      },
      "source": [
        "# EDA & Visualizations"
      ]
    },
    {
      "cell_type": "markdown",
      "id": "7b3f1509",
      "metadata": {
        "papermill": {
          "duration": 0.018791,
          "end_time": "2022-07-26T22:18:30.031914",
          "exception": false,
          "start_time": "2022-07-26T22:18:30.013123",
          "status": "completed"
        },
        "tags": [],
        "id": "7b3f1509"
      },
      "source": [
        "## Univariate Analysis\n",
        "Univariate analysis is the simplest form of analysis where we explore a single variable. Univariate analysis is performed on both Numerical and categorical variables differently as plotting uses different plots."
      ]
    },
    {
      "cell_type": "markdown",
      "id": "795bfcf8",
      "metadata": {
        "papermill": {
          "duration": 0.018505,
          "end_time": "2022-07-26T22:18:30.069761",
          "exception": false,
          "start_time": "2022-07-26T22:18:30.051256",
          "status": "completed"
        },
        "tags": [],
        "id": "795bfcf8"
      },
      "source": [
        "# Customer Profile Analysis"
      ]
    },
    {
      "cell_type": "markdown",
      "id": "effdfe8d",
      "metadata": {
        "papermill": {
          "duration": 0.018442,
          "end_time": "2022-07-26T22:18:30.107069",
          "exception": false,
          "start_time": "2022-07-26T22:18:30.088627",
          "status": "completed"
        },
        "tags": [],
        "id": "effdfe8d"
      },
      "source": [
        "### Categorical Variables:\n",
        "\n",
        "Lets start with categorical variables."
      ]
    },
    {
      "cell_type": "code",
      "execution_count": null,
      "id": "23e70d84",
      "metadata": {
        "execution": {
          "iopub.execute_input": "2022-07-26T22:18:30.148466Z",
          "iopub.status.busy": "2022-07-26T22:18:30.147687Z",
          "iopub.status.idle": "2022-07-26T22:18:30.373723Z",
          "shell.execute_reply": "2022-07-26T22:18:30.372507Z"
        },
        "papermill": {
          "duration": 0.250079,
          "end_time": "2022-07-26T22:18:30.376365",
          "exception": false,
          "start_time": "2022-07-26T22:18:30.126286",
          "status": "completed"
        },
        "tags": [],
        "id": "23e70d84",
        "outputId": "6daf802e-0fe4-49d4-adeb-f9a41380c353",
        "colab": {
          "base_uri": "https://localhost:8080/",
          "height": 216
        }
      },
      "outputs": [
        {
          "output_type": "display_data",
          "data": {
            "text/plain": [
              "<Figure size 432x288 with 1 Axes>"
            ],
            "image/png": "[encoded data removed]"
          },
          "metadata": {
            "needs_background": "light"
          }
        }
      ],
      "source": [
        "sns.countplot(x=\"education_level\", data=df2)\n",
        "plt.show()"
      ]
    },
    {
      "cell_type": "markdown",
      "id": "55a2bd00",
      "metadata": {
        "papermill": {
          "duration": 0.019697,
          "end_time": "2022-07-26T22:18:30.415572",
          "exception": false,
          "start_time": "2022-07-26T22:18:30.395875",
          "status": "completed"
        },
        "tags": [],
        "id": "55a2bd00"
      },
      "source": [
        "In the given dataset, people are mainly graduated followed by PHD and Master degree thats is held by very less people in comparison to number of people who are graduated."
      ]
    },
    {
      "cell_type": "code",
      "execution_count": null,
      "id": "d1e890d4",
      "metadata": {
        "execution": {
          "iopub.execute_input": "2022-07-26T22:18:30.457724Z",
          "iopub.status.busy": "2022-07-26T22:18:30.456958Z",
          "iopub.status.idle": "2022-07-26T22:18:30.645973Z",
          "shell.execute_reply": "2022-07-26T22:18:30.644786Z"
        },
        "papermill": {
          "duration": 0.212947,
          "end_time": "2022-07-26T22:18:30.648621",
          "exception": false,
          "start_time": "2022-07-26T22:18:30.435674",
          "status": "completed"
        },
        "tags": [],
        "id": "d1e890d4",
        "outputId": "d49c3cf9-944a-457f-dc81-c7312e75000e",
        "colab": {
          "base_uri": "https://localhost:8080/",
          "height": 216
        }
      },
      "outputs": [
        {
          "output_type": "display_data",
          "data": {
            "text/plain": [
              "<Figure size 432x288 with 1 Axes>"
            ],
            "image/png": "[encoded data removed]"
          },
          "metadata": {
            "needs_background": "light"
          }
        }
      ],
      "source": [
        "sns.countplot(x=\"marital_status\", data=df2)\n",
        "plt.show()"
      ]
    },
    {
      "cell_type": "markdown",
      "id": "3c2a7ebb",
      "metadata": {
        "papermill": {
          "duration": 0.018653,
          "end_time": "2022-07-26T22:18:30.687724",
          "exception": false,
          "start_time": "2022-07-26T22:18:30.669071",
          "status": "completed"
        },
        "tags": [],
        "id": "3c2a7ebb"
      },
      "source": [
        "Most of the people are Married followed by number of people who are Together and Single. There are very less people who are either divorced and widow in this dataset."
      ]
    },
    {
      "cell_type": "markdown",
      "id": "2e8398e7",
      "metadata": {
        "papermill": {
          "duration": 0.019104,
          "end_time": "2022-07-26T22:18:30.726101",
          "exception": false,
          "start_time": "2022-07-26T22:18:30.706997",
          "status": "completed"
        },
        "tags": [],
        "id": "2e8398e7"
      },
      "source": [
        "**Numerical Data:**\n",
        "Analyzing Numerical data is important because understanding the distribution of features helps to further process the data. Most of the time you will find much inconsistency with numerical data so do explore numerical variables."
      ]
    },
    {
      "cell_type": "markdown",
      "id": "98a4a70e",
      "metadata": {
        "papermill": {
          "duration": 0.018438,
          "end_time": "2022-07-26T22:18:30.763531",
          "exception": false,
          "start_time": "2022-07-26T22:18:30.745093",
          "status": "completed"
        },
        "tags": [],
        "id": "98a4a70e"
      },
      "source": [
        "Let's analyze what is income distribution in our dataset. "
      ]
    },
    {
      "cell_type": "code",
      "execution_count": null,
      "id": "4f7aa4e8",
      "metadata": {
        "execution": {
          "iopub.execute_input": "2022-07-26T22:18:30.803390Z",
          "iopub.status.busy": "2022-07-26T22:18:30.802560Z",
          "iopub.status.idle": "2022-07-26T22:18:30.999661Z",
          "shell.execute_reply": "2022-07-26T22:18:30.998329Z"
        },
        "papermill": {
          "duration": 0.220369,
          "end_time": "2022-07-26T22:18:31.002540",
          "exception": false,
          "start_time": "2022-07-26T22:18:30.782171",
          "status": "completed"
        },
        "tags": [],
        "id": "4f7aa4e8",
        "outputId": "d1541d46-54da-49af-f343-1aad641d3c63",
        "colab": {
          "base_uri": "https://localhost:8080/"
        }
      },
      "outputs": [
        {
          "output_type": "display_data",
          "data": {
            "text/plain": [
              "<Figure size 432x288 with 1 Axes>"
            ],
            "image/png": "[encoded data removed]"
          },
          "metadata": {
            "needs_background": "light"
          }
        }
      ],
      "source": [
        "plt.hist(df2[\"Income\"], bins=15)\n",
        "plt.show()"
      ]
    },
    {
      "cell_type": "markdown",
      "id": "ed887e34",
      "metadata": {
        "papermill": {
          "duration": 0.01942,
          "end_time": "2022-07-26T22:18:31.042057",
          "exception": false,
          "start_time": "2022-07-26T22:18:31.022637",
          "status": "completed"
        },
        "tags": [],
        "id": "ed887e34"
      },
      "source": [
        "Histogram shows that most of people have income between 3000-8000. Next, we see Income distribution using box plot. Here, graph also shows if having more or less kids make any change in Income distribution. Using seaborn library, Box plot can be easily plotted."
      ]
    },
    {
      "cell_type": "code",
      "execution_count": null,
      "id": "abef3084",
      "metadata": {
        "execution": {
          "iopub.execute_input": "2022-07-26T22:18:31.083630Z",
          "iopub.status.busy": "2022-07-26T22:18:31.082678Z",
          "iopub.status.idle": "2022-07-26T22:18:31.300123Z",
          "shell.execute_reply": "2022-07-26T22:18:31.298782Z"
        },
        "papermill": {
          "duration": 0.241075,
          "end_time": "2022-07-26T22:18:31.302975",
          "exception": false,
          "start_time": "2022-07-26T22:18:31.061900",
          "status": "completed"
        },
        "tags": [],
        "id": "abef3084",
        "outputId": "28f2165c-5b32-404c-c4b8-1d11cb4260c5",
        "colab": {
          "base_uri": "https://localhost:8080/",
          "height": 207
        }
      },
      "outputs": [
        {
          "output_type": "display_data",
          "data": {
            "text/plain": [
              "<Figure size 432x288 with 1 Axes>"
            ],
            "image/png": "[encoded data removed]"
          },
          "metadata": {
            "needs_background": "light"
          }
        }
      ],
      "source": [
        "sns.boxplot(y=df2[\"Income\"], x=df2[\"kids\"])\n",
        "plt.show()"
      ]
    },
    {
      "cell_type": "markdown",
      "id": "aad08240",
      "metadata": {
        "papermill": {
          "duration": 0.018546,
          "end_time": "2022-07-26T22:18:31.341949",
          "exception": false,
          "start_time": "2022-07-26T22:18:31.323403",
          "status": "completed"
        },
        "tags": [],
        "id": "aad08240"
      },
      "source": [
        "This graph shows some useful insights\n",
        "\n",
        "1) People having no kid tend to have higher salaries then those having kids. Which is contradictory to general assumption that more kids would need more money and anyone would like to earn more \n",
        "2) As there are more kids, people have less income.e.g. people having one kid tend to earn more then those who has 2 or 3 kid"
      ]
    },
    {
      "cell_type": "markdown",
      "id": "feebac7f",
      "metadata": {
        "papermill": {
          "duration": 0.018531,
          "end_time": "2022-07-26T22:18:31.379364",
          "exception": false,
          "start_time": "2022-07-26T22:18:31.360833",
          "status": "completed"
        },
        "tags": [],
        "id": "feebac7f"
      },
      "source": [
        "# Correlation"
      ]
    },
    {
      "cell_type": "markdown",
      "id": "cb0ebe64",
      "metadata": {
        "papermill": {
          "duration": 0.019032,
          "end_time": "2022-07-26T22:18:31.417287",
          "exception": false,
          "start_time": "2022-07-26T22:18:31.398255",
          "status": "completed"
        },
        "tags": [],
        "id": "cb0ebe64"
      },
      "source": [
        "**Bi-Variate Analysis**\n",
        "We have study about various plots to explore single categorical and numerical data. \n",
        "\n",
        "Now lets explore Bivariate Analysis, which is used when we have to explore the relationship between 2 different variables (Correlation) and we have to do this because, in the end, our main task is to explore the relationship between variables to build a powerful model. And when we analyze more than 2 variables together then it is known as Multivariate Analysis. we will work on different plots for Bivariate as well on Multivariate Analysis."
      ]
    },
    {
      "cell_type": "markdown",
      "id": "944cc2ee",
      "metadata": {
        "papermill": {
          "duration": 0.019229,
          "end_time": "2022-07-26T22:18:31.455994",
          "exception": false,
          "start_time": "2022-07-26T22:18:31.436765",
          "status": "completed"
        },
        "tags": [],
        "id": "944cc2ee"
      },
      "source": [
        "Below, we will see if there is any relationship between Income and expenses. We will also see if expenses are impacted with number of kids in a house."
      ]
    },
    {
      "cell_type": "code",
      "execution_count": null,
      "id": "312a654b",
      "metadata": {
        "execution": {
          "iopub.execute_input": "2022-07-26T22:18:31.497154Z",
          "iopub.status.busy": "2022-07-26T22:18:31.496428Z",
          "iopub.status.idle": "2022-07-26T22:18:32.674949Z",
          "shell.execute_reply": "2022-07-26T22:18:32.673502Z"
        },
        "papermill": {
          "duration": 1.204144,
          "end_time": "2022-07-26T22:18:32.679633",
          "exception": false,
          "start_time": "2022-07-26T22:18:31.475489",
          "status": "completed"
        },
        "tags": [],
        "id": "312a654b",
        "outputId": "9b9af149-f05b-4263-9c8d-f55e60478916",
        "colab": {
          "base_uri": "https://localhost:8080/",
          "height": 87
        }
      },
      "outputs": [
        {
          "output_type": "display_data",
          "data": {
            "text/plain": [
              "<Figure size 1482.38x360 with 4 Axes>"
            ],
            "image/png": "[encoded data removed]"
          },
          "metadata": {
            "needs_background": "light"
          }
        }
      ],
      "source": [
        "# i have used seaborn relplot to plot Income and MntTotal relationship using scatter plot. \n",
        "#As I also wanted to see if this relationship changes with number of kids at home, replots allow to make subplots of a graph.\n",
        "sns.relplot(x=\"Income\", y=\"MntTotal\", data=df2, col=\"kids\",hue=\"kids\", kind=\"scatter\",palette=\"deep\")\n",
        "plt.show()"
      ]
    },
    {
      "cell_type": "markdown",
      "id": "5b8a6a03",
      "metadata": {
        "papermill": {
          "duration": 0.034559,
          "end_time": "2022-07-26T22:18:32.736831",
          "exception": false,
          "start_time": "2022-07-26T22:18:32.702272",
          "status": "completed"
        },
        "tags": [],
        "id": "5b8a6a03"
      },
      "source": [
        "Here we see Income, total amount spent and number of kids are negatively correlated i.e. people are tend to earn more & spend a lot more when they don't have any kid. As they start having kids, expenses comes down. which makes sense. People having 3 kids, are spending way less than those having 0 or 1 kid."
      ]
    },
    {
      "cell_type": "markdown",
      "id": "08205200",
      "metadata": {
        "papermill": {
          "duration": 0.021606,
          "end_time": "2022-07-26T22:18:32.779921",
          "exception": false,
          "start_time": "2022-07-26T22:18:32.758315",
          "status": "completed"
        },
        "tags": [],
        "id": "08205200"
      },
      "source": [
        "Next, we will see \n",
        "1) If these people are spending on any perticular item like wine or fish or have uniform expenses in all categories\n",
        "2) If having kids change priorities and habits which lead to expenses in different categories."
      ]
    },
    {
      "cell_type": "code",
      "execution_count": null,
      "id": "fc3aeaf4",
      "metadata": {
        "execution": {
          "iopub.execute_input": "2022-07-26T22:18:32.825483Z",
          "iopub.status.busy": "2022-07-26T22:18:32.825062Z",
          "iopub.status.idle": "2022-07-26T22:18:33.531981Z",
          "shell.execute_reply": "2022-07-26T22:18:33.531052Z"
        },
        "papermill": {
          "duration": 0.73313,
          "end_time": "2022-07-26T22:18:33.534334",
          "exception": false,
          "start_time": "2022-07-26T22:18:32.801204",
          "status": "completed"
        },
        "tags": [],
        "id": "fc3aeaf4",
        "outputId": "47d9f84f-3cd0-4704-909a-0be2d9cda96a",
        "colab": {
          "base_uri": "https://localhost:8080/",
          "height": 174
        }
      },
      "outputs": [
        {
          "output_type": "stream",
          "name": "stderr",
          "text": [
            "<ipython-input-30-621fdbbdfdac>:2: FutureWarning: Indexing with multiple keys (implicitly converted to a tuple of keys) will be deprecated, use a list instead.\n",
            "  expenses=df2.groupby([\"kids\"])[\"Wines\",\"Fruits\",\"MeatProducts\",\"FishProducts\",\"SweetProducts\"].mean().unstack().reset_index(name=\"Total\").rename(columns={'level_0': 'expense_type'})\n"
          ]
        },
        {
          "output_type": "execute_result",
          "data": {
            "text/plain": [
              "[]"
            ]
          },
          "metadata": {},
          "execution_count": 30
        },
        {
          "output_type": "display_data",
          "data": {
            "text/plain": [
              "<Figure size 1440x360 with 4 Axes>"
            ],
            "image/png": "[encoded data removed]"
          },
          "metadata": {
            "needs_background": "light"
          }
        }
      ],
      "source": [
        "# Our dataset contains these expenses in different columns, first group the items by kids and sum expenses in different category.then restructure the data to have all expenses in one column\n",
        "expenses=df2.groupby([\"kids\"])[\"Wines\",\"Fruits\",\"MeatProducts\",\"FishProducts\",\"SweetProducts\"].mean().unstack().reset_index(name=\"Total\").rename(columns={'level_0': 'expense_type'})\n",
        "\n",
        "#Here, i have used seaborn cat plot as i wanted to make subplots for number of kids.\n",
        "chart=sns.catplot(data=expenses.sort_values(by=\"Total\",ascending=False),x=\"expense_type\",y=\"Total\",kind=\"bar\",legend=True, col=\"kids\")\n",
        "chart.set_xticklabels(rotation=90)\n",
        "plt.plot()"
      ]
    },
    {
      "cell_type": "markdown",
      "id": "6e835a30",
      "metadata": {
        "papermill": {
          "duration": 0.021322,
          "end_time": "2022-07-26T22:18:33.577410",
          "exception": false,
          "start_time": "2022-07-26T22:18:33.556088",
          "status": "completed"
        },
        "tags": [],
        "id": "6e835a30"
      },
      "source": [
        "here we see, everyone (with or w/o kid) tend to spend more on wine and meat products, in comparison to spending on fish, sweet, & fruits. So having a kid do not change priorities in terms of expense category. Also, as we saw before, people with 0 kid earn more, and they spend more. This also holds true in these graphs."
      ]
    },
    {
      "cell_type": "markdown",
      "id": "14192123",
      "metadata": {
        "papermill": {
          "duration": 0.021659,
          "end_time": "2022-07-26T22:18:33.620978",
          "exception": false,
          "start_time": "2022-07-26T22:18:33.599319",
          "status": "completed"
        },
        "tags": [],
        "id": "14192123"
      },
      "source": [
        "Above we saw, different expenses in each category of people having 0,1,2,3 kids. Now, let's compare people expenses with 0,1,2,3 kids under each expense category."
      ]
    },
    {
      "cell_type": "code",
      "execution_count": null,
      "id": "0e0c1bca",
      "metadata": {
        "execution": {
          "iopub.execute_input": "2022-07-26T22:18:33.666815Z",
          "iopub.status.busy": "2022-07-26T22:18:33.666400Z",
          "iopub.status.idle": "2022-07-26T22:18:35.440126Z",
          "shell.execute_reply": "2022-07-26T22:18:35.438996Z"
        },
        "papermill": {
          "duration": 1.799636,
          "end_time": "2022-07-26T22:18:35.442672",
          "exception": false,
          "start_time": "2022-07-26T22:18:33.643036",
          "status": "completed"
        },
        "tags": [],
        "id": "0e0c1bca",
        "outputId": "cc4ddc2f-51e7-4f21-d42b-ea345c8c1377",
        "colab": {
          "base_uri": "https://localhost:8080/",
          "height": 408
        }
      },
      "outputs": [
        {
          "output_type": "display_data",
          "data": {
            "text/plain": [
              "<Figure size 432x288 with 1 Axes>"
            ],
            "image/png": "[encoded data removed]"
          },
          "metadata": {
            "needs_background": "light"
          }
        },
        {
          "output_type": "display_data",
          "data": {
            "text/plain": [
              "<Figure size 432x288 with 1 Axes>"
            ],
            "image/png": "[encoded data removed]"
          },
          "metadata": {
            "needs_background": "light"
          }
        }
      ],
      "source": [
        "for col in df2.columns:\n",
        "    if 'Mnt' in col:\n",
        "        sns.boxplot(x=\"kids\", y=col, data=df2)\n",
        "        plt.show()"
      ]
    },
    {
      "cell_type": "markdown",
      "id": "6c0d8e50",
      "metadata": {
        "papermill": {
          "duration": 0.023817,
          "end_time": "2022-07-26T22:18:35.490564",
          "exception": false,
          "start_time": "2022-07-26T22:18:35.466747",
          "status": "completed"
        },
        "tags": [],
        "id": "6c0d8e50"
      },
      "source": [
        "Next, let's see who purchases deals. Are people with more kids buying more deals, as they have less income?\n",
        "\n",
        "In order to prove that, we plot Income against NumDealsPurchases and check this distribution for each kid. "
      ]
    },
    {
      "cell_type": "code",
      "execution_count": null,
      "id": "3235189d",
      "metadata": {
        "execution": {
          "iopub.execute_input": "2022-07-26T22:18:35.541278Z",
          "iopub.status.busy": "2022-07-26T22:18:35.540415Z",
          "iopub.status.idle": "2022-07-26T22:18:36.725230Z",
          "shell.execute_reply": "2022-07-26T22:18:36.724090Z"
        },
        "papermill": {
          "duration": 1.213242,
          "end_time": "2022-07-26T22:18:36.727989",
          "exception": false,
          "start_time": "2022-07-26T22:18:35.514747",
          "status": "completed"
        },
        "tags": [],
        "id": "3235189d",
        "outputId": "c930d3b4-2abc-4f3f-abbd-af18ceb83796",
        "colab": {
          "base_uri": "https://localhost:8080/",
          "height": 87
        }
      },
      "outputs": [
        {
          "output_type": "display_data",
          "data": {
            "text/plain": [
              "<Figure size 1482.38x360 with 4 Axes>"
            ],
            "image/png": "[encoded data removed]"
          },
          "metadata": {
            "needs_background": "light"
          }
        }
      ],
      "source": [
        "# We use, seaborn rel plot in order to make subplots for number of kids.\n",
        "sns.relplot(data=df2, x=\"Income\", y=\"DealsPurchases\", col=\"kids\", hue=\"kids\",palette=\"deep\")\n",
        "plt.show()"
      ]
    },
    {
      "cell_type": "markdown",
      "id": "7b42dc20",
      "metadata": {
        "papermill": {
          "duration": 0.025769,
          "end_time": "2022-07-26T22:18:36.779120",
          "exception": false,
          "start_time": "2022-07-26T22:18:36.753351",
          "status": "completed"
        },
        "tags": [],
        "id": "7b42dc20"
      },
      "source": [
        "It's very interesting to see that who has 0 kid tend to buy less deals altough they earn more, spend more. On the other hand, people with 1 or 2 kid, also earn less relatively, spend less but they look out for deals. People with 3 or more kid, earn less, spend vry less and hence they also buy less deals."
      ]
    },
    {
      "cell_type": "markdown",
      "id": "ae0adfd5",
      "metadata": {
        "papermill": {
          "duration": 0.025298,
          "end_time": "2022-07-26T22:18:36.830614",
          "exception": false,
          "start_time": "2022-07-26T22:18:36.805316",
          "status": "completed"
        },
        "tags": [],
        "id": "ae0adfd5"
      },
      "source": [
        "Now, lets map the relation among different channels where purchases were made along with Income, Kids & number of deals bought."
      ]
    },
    {
      "cell_type": "code",
      "execution_count": null,
      "id": "a4c9c5e4",
      "metadata": {
        "execution": {
          "iopub.execute_input": "2022-07-26T22:18:36.883262Z",
          "iopub.status.busy": "2022-07-26T22:18:36.882882Z",
          "iopub.status.idle": "2022-07-26T22:18:37.390394Z",
          "shell.execute_reply": "2022-07-26T22:18:37.389089Z"
        },
        "papermill": {
          "duration": 0.537187,
          "end_time": "2022-07-26T22:18:37.393250",
          "exception": false,
          "start_time": "2022-07-26T22:18:36.856063",
          "status": "completed"
        },
        "tags": [],
        "id": "a4c9c5e4",
        "outputId": "36d6c7d1-8452-49d2-ce52-db61e7cc2311",
        "colab": {
          "base_uri": "https://localhost:8080/",
          "height": 301
        }
      },
      "outputs": [
        {
          "output_type": "execute_result",
          "data": {
            "text/plain": [
              "<matplotlib.axes._subplots.AxesSubplot at 0x7f5e7f22ba00>"
            ]
          },
          "metadata": {},
          "execution_count": 37
        },
        {
          "output_type": "display_data",
          "data": {
            "text/plain": [
              "<Figure size 432x288 with 2 Axes>"
            ],
            "image/png": "[encoded data removed]"
          },
          "metadata": {
            "needs_background": "light"
          }
        }
      ],
      "source": [
        "#For this, we use seaborn co relation heat map to check which elements have stronger relationship & then we will plot those elements seperately to study them in detail.\n",
        "df=df2[[\"Income\",\"kids\",\"DealsPurchases\",\"Num_ of_WebPurchases\",\"Num_of_CatalogPurchases\",\"Num_of_StorePurchases\",\"Num_of_WebVisits\"]]\n",
        "sns.heatmap(df.corr(), annot=True)"
      ]
    },
    {
      "cell_type": "markdown",
      "id": "3ea1b01e",
      "metadata": {
        "papermill": {
          "duration": 0.026263,
          "end_time": "2022-07-26T22:18:37.446042",
          "exception": false,
          "start_time": "2022-07-26T22:18:37.419779",
          "status": "completed"
        },
        "tags": [],
        "id": "3ea1b01e"
      },
      "source": [
        "If cofficient, for any two elements, in heat map is closer to 1 then they are strongly related. Cofficient for one element against itself will always be 1. \n",
        "\n",
        "Next, Income is strongly related with Number of catalog and store purchases. We will plot these two to check their relationships. Above, we also noticed that people with no kids earn more and spend more on wine. Income is +vely corelated to expenses on wine, and here we see Income is also +vely corelated with catalog and store purchases, so it can be inferred that Wine is mainly purchased in stores."
      ]
    },
    {
      "cell_type": "code",
      "execution_count": null,
      "id": "2edd695d",
      "metadata": {
        "execution": {
          "iopub.execute_input": "2022-07-26T22:18:37.501216Z",
          "iopub.status.busy": "2022-07-26T22:18:37.500774Z",
          "iopub.status.idle": "2022-07-26T22:18:38.006636Z",
          "shell.execute_reply": "2022-07-26T22:18:38.005462Z"
        },
        "papermill": {
          "duration": 0.536834,
          "end_time": "2022-07-26T22:18:38.009528",
          "exception": false,
          "start_time": "2022-07-26T22:18:37.472694",
          "status": "completed"
        },
        "tags": [],
        "id": "2edd695d",
        "outputId": "913b343d-5aa6-42b6-c94d-5991ebef78f5",
        "colab": {
          "base_uri": "https://localhost:8080/",
          "height": 312
        }
      },
      "outputs": [
        {
          "output_type": "display_data",
          "data": {
            "text/plain": [
              "<Figure size 360x360 with 1 Axes>"
            ],
            "image/png": "[encoded data removed]"
          },
          "metadata": {
            "needs_background": "light"
          }
        }
      ],
      "source": [
        "sns.lmplot(data=df2, x=\"Income\", y=\"Num_of_StorePurchases\")\n",
        "plt.show()"
      ]
    },
    {
      "cell_type": "markdown",
      "id": "2e1dc960",
      "metadata": {
        "papermill": {
          "duration": 0.030652,
          "end_time": "2022-07-26T22:18:38.068213",
          "exception": false,
          "start_time": "2022-07-26T22:18:38.037561",
          "status": "completed"
        },
        "tags": [],
        "id": "2e1dc960"
      },
      "source": [
        "Graph shows, that they are postively corelated. I.e. People with higher income tend to make more store purchases."
      ]
    },
    {
      "cell_type": "code",
      "execution_count": null,
      "id": "0c07a567",
      "metadata": {
        "execution": {
          "iopub.execute_input": "2022-07-26T22:18:38.124322Z",
          "iopub.status.busy": "2022-07-26T22:18:38.123621Z",
          "iopub.status.idle": "2022-07-26T22:18:38.611035Z",
          "shell.execute_reply": "2022-07-26T22:18:38.609932Z"
        },
        "papermill": {
          "duration": 0.518415,
          "end_time": "2022-07-26T22:18:38.613566",
          "exception": false,
          "start_time": "2022-07-26T22:18:38.095151",
          "status": "completed"
        },
        "tags": [],
        "id": "0c07a567",
        "outputId": "9ce07c4a-b563-4c7f-9ffa-344dafd31d5d",
        "colab": {
          "base_uri": "https://localhost:8080/",
          "height": 312
        }
      },
      "outputs": [
        {
          "output_type": "display_data",
          "data": {
            "text/plain": [
              "<Figure size 360x360 with 1 Axes>"
            ],
            "image/png": "[encoded data removed]"
          },
          "metadata": {
            "needs_background": "light"
          }
        }
      ],
      "source": [
        "sns.lmplot(data= df2, x=\"Income\", y=\"Num_of_CatalogPurchases\")\n",
        "plt.show()"
      ]
    },
    {
      "cell_type": "markdown",
      "id": "4442706f",
      "metadata": {
        "papermill": {
          "duration": 0.026834,
          "end_time": "2022-07-26T22:18:38.667545",
          "exception": false,
          "start_time": "2022-07-26T22:18:38.640711",
          "status": "completed"
        },
        "tags": [],
        "id": "4442706f"
      },
      "source": [
        "People with higher income also make more catalogue purchases."
      ]
    },
    {
      "cell_type": "markdown",
      "id": "3c5f7494",
      "metadata": {
        "papermill": {
          "duration": 0.026694,
          "end_time": "2022-07-26T22:18:38.721638",
          "exception": false,
          "start_time": "2022-07-26T22:18:38.694944",
          "status": "completed"
        },
        "tags": [],
        "id": "3c5f7494"
      },
      "source": [
        "Next, let's analyze accepted campaign & response data.\n",
        "\n",
        "For that, we plot % of each campaign accepted and see which campaign better performed.Along with it, we also see how many people responded on last campaign."
      ]
    },
    {
      "cell_type": "code",
      "execution_count": null,
      "id": "5b1c612c",
      "metadata": {
        "execution": {
          "iopub.execute_input": "2022-07-26T22:18:38.777737Z",
          "iopub.status.busy": "2022-07-26T22:18:38.777353Z",
          "iopub.status.idle": "2022-07-26T22:18:38.990740Z",
          "shell.execute_reply": "2022-07-26T22:18:38.989572Z"
        },
        "papermill": {
          "duration": 0.244703,
          "end_time": "2022-07-26T22:18:38.993347",
          "exception": false,
          "start_time": "2022-07-26T22:18:38.748644",
          "status": "completed"
        },
        "tags": [],
        "id": "5b1c612c",
        "outputId": "b52d3a4f-9e0f-4ca7-dae4-d0223302f38e",
        "colab": {
          "base_uri": "https://localhost:8080/",
          "height": 193
        }
      },
      "outputs": [
        {
          "output_type": "display_data",
          "data": {
            "text/plain": [
              "<Figure size 432x288 with 1 Axes>"
            ],
            "image/png": "[encoded data removed]"
          },
          "metadata": {
            "needs_background": "light"
          }
        }
      ],
      "source": [
        "##### First, we calculate the % of each campaign accepted and then we plot them in bar graph.\n",
        "cmp_success=((df2[[\"AcceptedCmp3\",\"AcceptedCmp4\",\"AcceptedCmp5\",\"AcceptedCmp1\",\"AcceptedCmp2\", \"Response\"]].sum(axis=0)/ df2[[\"AcceptedCmp3\",\"AcceptedCmp4\",\"AcceptedCmp5\",\"AcceptedCmp1\",\"AcceptedCmp2\",\"Response\"]].count(axis=0))*100).round(2).reset_index(name=\"total\").rename(columns={'index':'acpt_cmp'}).sort_values(by=\"total\")\n",
        "sns.barplot(x=\"total\", y=\"acpt_cmp\", data=cmp_success)\n",
        "plt.xticks(rotation=85)\n",
        "plt.show()"
      ]
    },
    {
      "cell_type": "markdown",
      "id": "2cb12d14",
      "metadata": {
        "papermill": {
          "duration": 0.028043,
          "end_time": "2022-07-26T22:18:39.049233",
          "exception": false,
          "start_time": "2022-07-26T22:18:39.021190",
          "status": "completed"
        },
        "tags": [],
        "id": "2cb12d14"
      },
      "source": [
        "We see, campaign 4 was accepted most however latest campaign i.e. campaign 5 was responded 15% of time."
      ]
    },
    {
      "cell_type": "markdown",
      "id": "084b7921",
      "metadata": {
        "papermill": {
          "duration": 0.028644,
          "end_time": "2022-07-26T22:18:39.105779",
          "exception": false,
          "start_time": "2022-07-26T22:18:39.077135",
          "status": "completed"
        },
        "tags": [],
        "id": "084b7921"
      },
      "source": [
        "Next, we will explore more on people who responded. First check, what is their income distribution?"
      ]
    },
    {
      "cell_type": "code",
      "execution_count": null,
      "id": "ae1c2ea0",
      "metadata": {
        "execution": {
          "iopub.execute_input": "2022-07-26T22:18:39.163906Z",
          "iopub.status.busy": "2022-07-26T22:18:39.162861Z",
          "iopub.status.idle": "2022-07-26T22:18:39.500281Z",
          "shell.execute_reply": "2022-07-26T22:18:39.499395Z"
        },
        "papermill": {
          "duration": 0.369156,
          "end_time": "2022-07-26T22:18:39.502748",
          "exception": false,
          "start_time": "2022-07-26T22:18:39.133592",
          "status": "completed"
        },
        "tags": [],
        "id": "ae1c2ea0",
        "outputId": "07d6d934-083f-4d2a-c0b7-2d30f39fb119",
        "colab": {
          "base_uri": "https://localhost:8080/",
          "height": 386
        }
      },
      "outputs": [
        {
          "output_type": "display_data",
          "data": {
            "text/plain": [
              "<Figure size 432x288 with 1 Axes>"
            ],
            "image/png": "[encoded data removed]"
          },
          "metadata": {
            "needs_background": "light"
          }
        },
        {
          "output_type": "display_data",
          "data": {
            "text/plain": [
              "<Figure size 432x288 with 1 Axes>"
            ],
            "image/png": "[encoded data removed]"
          },
          "metadata": {
            "needs_background": "light"
          }
        }
      ],
      "source": [
        "plt.hist(df2[df2[\"Response\"]==1][\"Income\"])\n",
        "plt.show()\n",
        "\n",
        "sns.boxplot(y=df2[df2[\"Response\"]==1][\"Income\"])\n",
        "plt.show()"
      ]
    },
    {
      "cell_type": "markdown",
      "id": "9a693761",
      "metadata": {
        "papermill": {
          "duration": 0.027473,
          "end_time": "2022-07-26T22:18:39.558492",
          "exception": false,
          "start_time": "2022-07-26T22:18:39.531019",
          "status": "completed"
        },
        "tags": [],
        "id": "9a693761"
      },
      "source": [
        "**Histogram is right skewed** that shows people who responded, were earning higher salaries. Box plot shows that 50% people were earning higher than 60K.\n",
        "\n",
        "Second, let's check how much they have spent on wines and if having kids change anything."
      ]
    },
    {
      "cell_type": "code",
      "execution_count": null,
      "id": "9084f9bf",
      "metadata": {
        "execution": {
          "iopub.execute_input": "2022-07-26T22:18:39.616148Z",
          "iopub.status.busy": "2022-07-26T22:18:39.615392Z",
          "iopub.status.idle": "2022-07-26T22:18:39.802542Z",
          "shell.execute_reply": "2022-07-26T22:18:39.801661Z"
        },
        "papermill": {
          "duration": 0.218685,
          "end_time": "2022-07-26T22:18:39.804862",
          "exception": false,
          "start_time": "2022-07-26T22:18:39.586177",
          "status": "completed"
        },
        "tags": [],
        "id": "9084f9bf",
        "outputId": "26b5091b-3f40-4670-f9fb-963fe2ac347b",
        "colab": {
          "base_uri": "https://localhost:8080/",
          "height": 212
        }
      },
      "outputs": [
        {
          "output_type": "display_data",
          "data": {
            "text/plain": [
              "<Figure size 432x288 with 1 Axes>"
            ],
            "image/png": "[encoded data removed]"
          },
          "metadata": {
            "needs_background": "light"
          }
        }
      ],
      "source": [
        "⁸sns.stripplot(y=df2[df2[\"Response\"]==1][\"Wines\"], x=df2[df2[\"Response\"]==1][\"kids\"])\n",
        "plt.show()"
      ]
    },
    {
      "cell_type": "markdown",
      "id": "4802a3df",
      "metadata": {
        "papermill": {
          "duration": 0.028149,
          "end_time": "2022-07-26T22:18:39.861283",
          "exception": false,
          "start_time": "2022-07-26T22:18:39.833134",
          "status": "completed"
        },
        "tags": [],
        "id": "4802a3df"
      },
      "source": [
        "Next, we will check what age group people our dataset contains. For age distribution, will make Histogram."
      ]
    },
    {
      "cell_type": "code",
      "execution_count": null,
      "id": "264868e7",
      "metadata": {
        "execution": {
          "iopub.execute_input": "2022-07-26T22:18:39.920966Z",
          "iopub.status.busy": "2022-07-26T22:18:39.919881Z",
          "iopub.status.idle": "2022-07-26T22:18:40.120868Z",
          "shell.execute_reply": "2022-07-26T22:18:40.119950Z"
        },
        "papermill": {
          "duration": 0.233054,
          "end_time": "2022-07-26T22:18:40.123246",
          "exception": false,
          "start_time": "2022-07-26T22:18:39.890192",
          "status": "completed"
        },
        "tags": [],
        "id": "264868e7",
        "outputId": "e9f531f2-4b73-4a38-82b4-97b45de52878",
        "colab": {
          "base_uri": "https://localhost:8080/",
          "height": 331
        }
      },
      "outputs": [
        {
          "output_type": "execute_result",
          "data": {
            "text/plain": [
              "(array([ 35., 139., 174., 353., 317., 245., 234., 204., 121.,  21.]),\n",
              " array([24. , 29.6, 35.2, 40.8, 46.4, 52. , 57.6, 63.2, 68.8, 74.4, 80. ]),\n",
              " <a list of 10 Patch objects>)"
            ]
          },
          "metadata": {},
          "execution_count": 43
        },
        {
          "output_type": "display_data",
          "data": {
            "text/plain": [
              "<Figure size 432x288 with 1 Axes>"
            ],
            "image/png": "[encoded data removed]"
          },
          "metadata": {
            "needs_background": "light"
          }
        }
      ],
      "source": [
        "plt.hist(data=df2, x=\"Age\")"
      ]
    },
    {
      "cell_type": "markdown",
      "id": "68c6cd2c",
      "metadata": {
        "papermill": {
          "duration": 0.028701,
          "end_time": "2022-07-26T22:18:40.180894",
          "exception": false,
          "start_time": "2022-07-26T22:18:40.152193",
          "status": "completed"
        },
        "tags": [],
        "id": "68c6cd2c"
      },
      "source": []
    }
  ],
  "metadata": {
    "kernelspec": {
      "display_name": "Python 3",
      "language": "python",
      "name": "python3"
    },
    "language_info": {
      "codemirror_mode": {
        "name": "ipython",
        "version": 3
      },
      "file_extension": ".py",
      "mimetype": "text/x-python",
      "name": "python",
      "nbconvert_exporter": "python",
      "pygments_lexer": "ipython3",
      "version": "3.7.12"
    },
    "papermill": {
      "default_parameters": {},
      "duration": 24.450483,
      "end_time": "2022-07-26T22:18:41.032358",
      "environment_variables": {},
      "exception": null,
      "input_path": "__notebook__.ipynb",
      "output_path": "__notebook__.ipynb",
      "parameters": {},
      "start_time": "2022-07-26T22:18:16.581875",
      "version": "2.3.4"
    },
    "colab": {
      "provenance": [],
      "include_colab_link": true
    }
  },
  "nbformat": 4,
  "nbformat_minor": 5
}